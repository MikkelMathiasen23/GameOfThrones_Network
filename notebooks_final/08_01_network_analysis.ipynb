{
 "cells": [
  {
   "cell_type": "markdown",
   "metadata": {
    "cell_id": "00000-77b8430c-c343-4ae7-8a73-3c2ad85388e7",
    "deepnote_cell_type": "markdown",
    "tags": []
   },
   "source": [
    "<h1 align = \"center\"> Network Analysis </h1>\n",
    "\n",
    "---"
   ]
  },
  {
   "cell_type": "markdown",
   "metadata": {
    "cell_id": "00001-f51f6b99-12bf-4268-b96d-8791852f4132",
    "deepnote_cell_type": "markdown",
    "tags": []
   },
   "source": [
    "This notebook is going to dive into the full network analysis done in this project. This includes some basic stats of the network, how the interactive network visualization are created and further some properties of the network. \n",
    "\n",
    "How the network is generated and how the information is extracted from the Game Of Thrones wiki-page is described in section 2.1.1 *Data extraction, cleaning and preprocessing* in the Explainer Notebook. \n",
    "\n",
    "We will start out by importing the needed packages for performing the network analysis. "
   ]
  },
  {
   "cell_type": "code",
   "execution_count": 1,
   "metadata": {
    "cell_id": "00002-d4adf0d6-1405-48f5-80f7-8b6fd24c017a",
    "deepnote_cell_type": "code",
    "deepnote_to_be_reexecuted": false,
    "execution_millis": 1473,
    "execution_start": 1638442632398,
    "source_hash": "5a569888",
    "tags": []
   },
   "outputs": [],
   "source": [
    "import networkx as nx\n",
    "import pandas as pd \n",
    "import numpy as np \n",
    "import matplotlib.pyplot as plt\n",
    "import plotly.express as px\n",
    "import json\n",
    "import requests\n",
    "import os\n",
    "import contextlib\n",
    "import powerlaw\n",
    "import plotly.graph_objects as go"
   ]
  },
  {
   "cell_type": "markdown",
   "metadata": {
    "cell_id": "00003-3691da9b-0e21-4902-a537-cc909d2e13bd",
    "deepnote_cell_type": "markdown",
    "tags": []
   },
   "source": [
    "As the network have been saved in a `gpickle` file we can just load it in:"
   ]
  },
  {
   "cell_type": "code",
   "execution_count": 2,
   "metadata": {
    "cell_id": "00004-c5078fbd-eee8-4aa7-8c4d-eeb2ee0e8b3b",
    "deepnote_cell_type": "code",
    "deepnote_to_be_reexecuted": false,
    "execution_millis": 54,
    "execution_start": 1638442634676,
    "source_hash": "eb767728",
    "tags": []
   },
   "outputs": [],
   "source": [
    "G = nx.read_gpickle(\"../data/got_G.gpickle\")"
   ]
  },
  {
   "cell_type": "markdown",
   "metadata": {
    "cell_id": "00001-0d9a674f-0736-4c5f-8925-233ec2b2cc39",
    "deepnote_cell_type": "markdown",
    "tags": []
   },
   "source": [
    "The network we are mainly investigating is the full network based on all the information from each character page and not the separate networks for each season as these are often quite small. "
   ]
  },
  {
   "cell_type": "markdown",
   "metadata": {
    "cell_id": "00002-719e9550-19e2-4ec0-90e9-141c6f414a05",
    "deepnote_cell_type": "markdown",
    "tags": []
   },
   "source": [
    "<h1 align = \"center\"> 1. Basic stats of graph </h1>\n",
    "\n",
    "---\n",
    "\n",
    "Having loaded the network we will start out by investigating some basic stats of the network. If you want to look into the basic statistics behind the data you can look at section 2.2.1 *Basic Statistics* in the Explainer Notebook. \n",
    "\n",
    "Lets start out by determining the size of the network with respect to number of nodes and edges ie. characters and links. Each node represents a character and has some assigned attributes namely: allegiance, religion, culture, status (dead, alive, uncertain) and number of appearances. Each link between two nodes are determined by the linking between the wiki-pages and if these links are directed. Further, each link has a frequency describing the number of occurences this specific link has. \n",
    "\n",
    "\n"
   ]
  },
  {
   "cell_type": "code",
   "execution_count": 3,
   "metadata": {
    "cell_id": "00007-38806cc5-8bd2-49e2-b13f-7f01ec8ad68b",
    "deepnote_cell_type": "code",
    "deepnote_to_be_reexecuted": false,
    "execution_millis": 21,
    "execution_start": 1638442974562,
    "source_hash": "b9bab450",
    "tags": []
   },
   "outputs": [
    {
     "name": "stdout",
     "output_type": "stream",
     "text": [
      "The network contains: 162 nodes and 3085 number of edges.\n"
     ]
    }
   ],
   "source": [
    "print(f'The network contains: {G.number_of_nodes()} nodes and {G.number_of_edges()} number of edges.')"
   ]
  },
  {
   "cell_type": "markdown",
   "metadata": {
    "cell_id": "00008-78152e2c-5da0-410d-a16b-7b7ae5780ea2",
    "deepnote_cell_type": "markdown",
    "tags": []
   },
   "source": [
    "The network contains 162 nodes ie. 162 characters and 3085 edges. This means that the network is very dense. One would start to look into whether all nodes are connected in one Giant Component or it contains some smaller networks. \n",
    "\n",
    "We can use the `weakly_connected_components` to find the clusters in the network and then use `subgraph` to extract the largest component. \n",
    "\n"
   ]
  },
  {
   "cell_type": "code",
   "execution_count": 4,
   "metadata": {
    "cell_id": "00009-71fa362a-c02c-481d-bed8-1011765eca6a",
    "deepnote_cell_type": "code",
    "deepnote_to_be_reexecuted": false,
    "execution_millis": 56,
    "execution_start": 1638443101716,
    "source_hash": "c78c95ca",
    "tags": []
   },
   "outputs": [
    {
     "name": "stdout",
     "output_type": "stream",
     "text": [
      "The GCC contains: 162 nodes and 3085 number of edges.\n"
     ]
    }
   ],
   "source": [
    "GCC = G.subgraph(max(nx.weakly_connected_components(G),key=len))\n",
    "print(f'The GCC contains: {GCC.number_of_nodes()} nodes and {GCC.number_of_edges()} number of edges.')"
   ]
  },
  {
   "cell_type": "markdown",
   "metadata": {
    "cell_id": "00010-3cafa0fb-6c4c-4877-830d-710958849eae",
    "deepnote_cell_type": "markdown",
    "tags": []
   },
   "source": [
    "We notice that the network are the same, and this means we have a very dense network with all characters being connected. "
   ]
  },
  {
   "cell_type": "markdown",
   "metadata": {
    "cell_id": "00011-bb2d4870-084c-400e-806e-0c6d64ed24b1",
    "deepnote_cell_type": "markdown",
    "tags": []
   },
   "source": [
    "<h2 align = \"center\"> 1.1 Average shortest path </h2>\n",
    "\n",
    "Having determined that the network is very dense and the starting network also are the GCC, we are going to determine the average shortest path using the `average_shortest_path_length` function. "
   ]
  },
  {
   "cell_type": "code",
   "execution_count": 5,
   "metadata": {
    "cell_id": "00012-ae9e9bbc-c8c3-4c85-a64a-135b30401c7f",
    "deepnote_cell_type": "code",
    "deepnote_to_be_reexecuted": false,
    "execution_millis": 254,
    "execution_start": 1638443324703,
    "source_hash": "91474cea",
    "tags": []
   },
   "outputs": [
    {
     "name": "stdout",
     "output_type": "stream",
     "text": [
      "Average shortest path is: 2.162\n"
     ]
    }
   ],
   "source": [
    "print(f'Average shortest path is: {round(nx.average_shortest_path_length(G),3)}')"
   ]
  },
  {
   "cell_type": "markdown",
   "metadata": {
    "cell_id": "00013-f8b88be4-191f-47ff-8fb5-8303306d00c6",
    "deepnote_cell_type": "markdown",
    "tags": []
   },
   "source": [
    "The average shortest path is just above two, which means that the average distance is only 2 steps, which again indicates how dense the network is. "
   ]
  },
  {
   "cell_type": "markdown",
   "metadata": {
    "cell_id": "00012-9cdf2f21-305c-42d6-b444-97ac0efde5b7",
    "deepnote_cell_type": "markdown",
    "tags": []
   },
   "source": [
    "<h2 align = \"center\"> 1.2 In- and out degree </h2>\n",
    "\n",
    "We are starting out by examining the degree distribution of the network, as the network is a directed network this would include both the in degree and out degree distribution. The in-degree is the number of inward edges from a node to the given node and vice versa for the out-degree. The degree describes the number of edges, and can contain information describing the characters connectiveness in the network. "
   ]
  },
  {
   "cell_type": "code",
   "execution_count": 6,
   "metadata": {
    "cell_id": "00015-f7dab0e1-8d75-4076-81fb-48491c926b25",
    "deepnote_cell_type": "code",
    "deepnote_output_heights": [
     527
    ],
    "deepnote_to_be_reexecuted": false,
    "execution_millis": 3551,
    "execution_start": 1638443818344,
    "source_hash": "b5ce2a49",
    "tags": []
   },
   "outputs": [
    {
     "data": {
      "application/vnd.plotly.v1+json": {
       "config": {
        "plotlyServerURL": "https://plot.ly"
       },
       "data": [
        {
         "alignmentgroup": "True",
         "bingroup": "x",
         "hovertemplate": "Degree type=In-degree<br>Degree=%{x}<br>count=%{y}<extra></extra>",
         "legendgroup": "In-degree",
         "marker": {
          "color": "#636efa",
          "pattern": {
           "shape": ""
          }
         },
         "name": "In-degree",
         "offsetgroup": "In-degree",
         "orientation": "v",
         "showlegend": true,
         "type": "histogram",
         "x": [
          7,
          39,
          60,
          79,
          14,
          20,
          24,
          58,
          21,
          10,
          28,
          28,
          34,
          39,
          14,
          72,
          47,
          16,
          9,
          15,
          55,
          8,
          63,
          13,
          14,
          8,
          18,
          15,
          4,
          30,
          54,
          60,
          21,
          19,
          20,
          45,
          34,
          14,
          20,
          25,
          13,
          23,
          24,
          89,
          8,
          16,
          31,
          14,
          41,
          12,
          30,
          10,
          26,
          9,
          10,
          16,
          37,
          34,
          57,
          28,
          12,
          27,
          8,
          31,
          18,
          13,
          19,
          22,
          27,
          57,
          24,
          20,
          17,
          45,
          41,
          50,
          24,
          25,
          10,
          29,
          20,
          17,
          15,
          24,
          49,
          1,
          10,
          16,
          5,
          8,
          23,
          6,
          6,
          10,
          10,
          6,
          13,
          14,
          5,
          11,
          18,
          8,
          43,
          13,
          5,
          17,
          17,
          6,
          18,
          16,
          25,
          2,
          4,
          17,
          14,
          9,
          16,
          23,
          8,
          9,
          6,
          7,
          7,
          15,
          4,
          9,
          20,
          8,
          10,
          10,
          19,
          15,
          6,
          13,
          18,
          6,
          5,
          3,
          7,
          7,
          7,
          6,
          5,
          9,
          3,
          2,
          5,
          4,
          5,
          4,
          3,
          4,
          5,
          7,
          2,
          8,
          6,
          8,
          6,
          5,
          4,
          4
         ],
         "xaxis": "x",
         "yaxis": "y"
        },
        {
         "alignmentgroup": "True",
         "hovertemplate": "Degree type=In-degree<br>Degree=%{x}<extra></extra>",
         "legendgroup": "In-degree",
         "marker": {
          "color": "#636efa"
         },
         "name": "In-degree",
         "notched": true,
         "offsetgroup": "In-degree",
         "showlegend": false,
         "type": "box",
         "x": [
          7,
          39,
          60,
          79,
          14,
          20,
          24,
          58,
          21,
          10,
          28,
          28,
          34,
          39,
          14,
          72,
          47,
          16,
          9,
          15,
          55,
          8,
          63,
          13,
          14,
          8,
          18,
          15,
          4,
          30,
          54,
          60,
          21,
          19,
          20,
          45,
          34,
          14,
          20,
          25,
          13,
          23,
          24,
          89,
          8,
          16,
          31,
          14,
          41,
          12,
          30,
          10,
          26,
          9,
          10,
          16,
          37,
          34,
          57,
          28,
          12,
          27,
          8,
          31,
          18,
          13,
          19,
          22,
          27,
          57,
          24,
          20,
          17,
          45,
          41,
          50,
          24,
          25,
          10,
          29,
          20,
          17,
          15,
          24,
          49,
          1,
          10,
          16,
          5,
          8,
          23,
          6,
          6,
          10,
          10,
          6,
          13,
          14,
          5,
          11,
          18,
          8,
          43,
          13,
          5,
          17,
          17,
          6,
          18,
          16,
          25,
          2,
          4,
          17,
          14,
          9,
          16,
          23,
          8,
          9,
          6,
          7,
          7,
          15,
          4,
          9,
          20,
          8,
          10,
          10,
          19,
          15,
          6,
          13,
          18,
          6,
          5,
          3,
          7,
          7,
          7,
          6,
          5,
          9,
          3,
          2,
          5,
          4,
          5,
          4,
          3,
          4,
          5,
          7,
          2,
          8,
          6,
          8,
          6,
          5,
          4,
          4
         ],
         "xaxis": "x2",
         "yaxis": "y2"
        },
        {
         "alignmentgroup": "True",
         "bingroup": "x",
         "hovertemplate": "Degree type=Out-degree<br>Degree=%{x}<br>count=%{y}<extra></extra>",
         "legendgroup": "Out-degree",
         "marker": {
          "color": "#EF553B",
          "pattern": {
           "shape": ""
          }
         },
         "name": "Out-degree",
         "offsetgroup": "Out-degree",
         "orientation": "v",
         "showlegend": true,
         "type": "histogram",
         "x": [
          17,
          42,
          49,
          47,
          10,
          21,
          19,
          54,
          28,
          16,
          29,
          26,
          30,
          39,
          18,
          56,
          41,
          20,
          9,
          9,
          55,
          9,
          52,
          13,
          10,
          8,
          14,
          5,
          6,
          25,
          38,
          36,
          32,
          22,
          17,
          40,
          44,
          12,
          50,
          22,
          18,
          23,
          23,
          68,
          7,
          21,
          22,
          11,
          27,
          8,
          17,
          13,
          29,
          13,
          10,
          14,
          32,
          40,
          59,
          31,
          13,
          23,
          10,
          41,
          18,
          15,
          15,
          15,
          25,
          50,
          25,
          19,
          20,
          43,
          38,
          42,
          27,
          24,
          9,
          29,
          24,
          13,
          19,
          25,
          35,
          11,
          9,
          14,
          1,
          9,
          22,
          9,
          7,
          9,
          6,
          6,
          24,
          12,
          3,
          16,
          17,
          4,
          46,
          12,
          15,
          17,
          17,
          15,
          15,
          17,
          37,
          6,
          4,
          19,
          20,
          12,
          11,
          23,
          11,
          24,
          8,
          9,
          20,
          14,
          3,
          8,
          18,
          5,
          17,
          15,
          18,
          11,
          9,
          19,
          22,
          5,
          8,
          2,
          4,
          9,
          9,
          6,
          7,
          8,
          2,
          2,
          3,
          8,
          7,
          6,
          3,
          8,
          5,
          5,
          2,
          5,
          10,
          8,
          14,
          6,
          6,
          38
         ],
         "xaxis": "x",
         "yaxis": "y"
        },
        {
         "alignmentgroup": "True",
         "hovertemplate": "Degree type=Out-degree<br>Degree=%{x}<extra></extra>",
         "legendgroup": "Out-degree",
         "marker": {
          "color": "#EF553B"
         },
         "name": "Out-degree",
         "notched": true,
         "offsetgroup": "Out-degree",
         "showlegend": false,
         "type": "box",
         "x": [
          17,
          42,
          49,
          47,
          10,
          21,
          19,
          54,
          28,
          16,
          29,
          26,
          30,
          39,
          18,
          56,
          41,
          20,
          9,
          9,
          55,
          9,
          52,
          13,
          10,
          8,
          14,
          5,
          6,
          25,
          38,
          36,
          32,
          22,
          17,
          40,
          44,
          12,
          50,
          22,
          18,
          23,
          23,
          68,
          7,
          21,
          22,
          11,
          27,
          8,
          17,
          13,
          29,
          13,
          10,
          14,
          32,
          40,
          59,
          31,
          13,
          23,
          10,
          41,
          18,
          15,
          15,
          15,
          25,
          50,
          25,
          19,
          20,
          43,
          38,
          42,
          27,
          24,
          9,
          29,
          24,
          13,
          19,
          25,
          35,
          11,
          9,
          14,
          1,
          9,
          22,
          9,
          7,
          9,
          6,
          6,
          24,
          12,
          3,
          16,
          17,
          4,
          46,
          12,
          15,
          17,
          17,
          15,
          15,
          17,
          37,
          6,
          4,
          19,
          20,
          12,
          11,
          23,
          11,
          24,
          8,
          9,
          20,
          14,
          3,
          8,
          18,
          5,
          17,
          15,
          18,
          11,
          9,
          19,
          22,
          5,
          8,
          2,
          4,
          9,
          9,
          6,
          7,
          8,
          2,
          2,
          3,
          8,
          7,
          6,
          3,
          8,
          5,
          5,
          2,
          5,
          10,
          8,
          14,
          6,
          6,
          38
         ],
         "xaxis": "x2",
         "yaxis": "y2"
        }
       ],
       "layout": {
        "barmode": "relative",
        "legend": {
         "title": {
          "text": "Degree type"
         },
         "tracegroupgap": 0
        },
        "template": {
         "data": {
          "bar": [
           {
            "error_x": {
             "color": "#2a3f5f"
            },
            "error_y": {
             "color": "#2a3f5f"
            },
            "marker": {
             "line": {
              "color": "#E5ECF6",
              "width": 0.5
             },
             "pattern": {
              "fillmode": "overlay",
              "size": 10,
              "solidity": 0.2
             }
            },
            "type": "bar"
           }
          ],
          "barpolar": [
           {
            "marker": {
             "line": {
              "color": "#E5ECF6",
              "width": 0.5
             },
             "pattern": {
              "fillmode": "overlay",
              "size": 10,
              "solidity": 0.2
             }
            },
            "type": "barpolar"
           }
          ],
          "carpet": [
           {
            "aaxis": {
             "endlinecolor": "#2a3f5f",
             "gridcolor": "white",
             "linecolor": "white",
             "minorgridcolor": "white",
             "startlinecolor": "#2a3f5f"
            },
            "baxis": {
             "endlinecolor": "#2a3f5f",
             "gridcolor": "white",
             "linecolor": "white",
             "minorgridcolor": "white",
             "startlinecolor": "#2a3f5f"
            },
            "type": "carpet"
           }
          ],
          "choropleth": [
           {
            "colorbar": {
             "outlinewidth": 0,
             "ticks": ""
            },
            "type": "choropleth"
           }
          ],
          "contour": [
           {
            "colorbar": {
             "outlinewidth": 0,
             "ticks": ""
            },
            "colorscale": [
             [
              0,
              "#0d0887"
             ],
             [
              0.1111111111111111,
              "#46039f"
             ],
             [
              0.2222222222222222,
              "#7201a8"
             ],
             [
              0.3333333333333333,
              "#9c179e"
             ],
             [
              0.4444444444444444,
              "#bd3786"
             ],
             [
              0.5555555555555556,
              "#d8576b"
             ],
             [
              0.6666666666666666,
              "#ed7953"
             ],
             [
              0.7777777777777778,
              "#fb9f3a"
             ],
             [
              0.8888888888888888,
              "#fdca26"
             ],
             [
              1,
              "#f0f921"
             ]
            ],
            "type": "contour"
           }
          ],
          "contourcarpet": [
           {
            "colorbar": {
             "outlinewidth": 0,
             "ticks": ""
            },
            "type": "contourcarpet"
           }
          ],
          "heatmap": [
           {
            "colorbar": {
             "outlinewidth": 0,
             "ticks": ""
            },
            "colorscale": [
             [
              0,
              "#0d0887"
             ],
             [
              0.1111111111111111,
              "#46039f"
             ],
             [
              0.2222222222222222,
              "#7201a8"
             ],
             [
              0.3333333333333333,
              "#9c179e"
             ],
             [
              0.4444444444444444,
              "#bd3786"
             ],
             [
              0.5555555555555556,
              "#d8576b"
             ],
             [
              0.6666666666666666,
              "#ed7953"
             ],
             [
              0.7777777777777778,
              "#fb9f3a"
             ],
             [
              0.8888888888888888,
              "#fdca26"
             ],
             [
              1,
              "#f0f921"
             ]
            ],
            "type": "heatmap"
           }
          ],
          "heatmapgl": [
           {
            "colorbar": {
             "outlinewidth": 0,
             "ticks": ""
            },
            "colorscale": [
             [
              0,
              "#0d0887"
             ],
             [
              0.1111111111111111,
              "#46039f"
             ],
             [
              0.2222222222222222,
              "#7201a8"
             ],
             [
              0.3333333333333333,
              "#9c179e"
             ],
             [
              0.4444444444444444,
              "#bd3786"
             ],
             [
              0.5555555555555556,
              "#d8576b"
             ],
             [
              0.6666666666666666,
              "#ed7953"
             ],
             [
              0.7777777777777778,
              "#fb9f3a"
             ],
             [
              0.8888888888888888,
              "#fdca26"
             ],
             [
              1,
              "#f0f921"
             ]
            ],
            "type": "heatmapgl"
           }
          ],
          "histogram": [
           {
            "marker": {
             "pattern": {
              "fillmode": "overlay",
              "size": 10,
              "solidity": 0.2
             }
            },
            "type": "histogram"
           }
          ],
          "histogram2d": [
           {
            "colorbar": {
             "outlinewidth": 0,
             "ticks": ""
            },
            "colorscale": [
             [
              0,
              "#0d0887"
             ],
             [
              0.1111111111111111,
              "#46039f"
             ],
             [
              0.2222222222222222,
              "#7201a8"
             ],
             [
              0.3333333333333333,
              "#9c179e"
             ],
             [
              0.4444444444444444,
              "#bd3786"
             ],
             [
              0.5555555555555556,
              "#d8576b"
             ],
             [
              0.6666666666666666,
              "#ed7953"
             ],
             [
              0.7777777777777778,
              "#fb9f3a"
             ],
             [
              0.8888888888888888,
              "#fdca26"
             ],
             [
              1,
              "#f0f921"
             ]
            ],
            "type": "histogram2d"
           }
          ],
          "histogram2dcontour": [
           {
            "colorbar": {
             "outlinewidth": 0,
             "ticks": ""
            },
            "colorscale": [
             [
              0,
              "#0d0887"
             ],
             [
              0.1111111111111111,
              "#46039f"
             ],
             [
              0.2222222222222222,
              "#7201a8"
             ],
             [
              0.3333333333333333,
              "#9c179e"
             ],
             [
              0.4444444444444444,
              "#bd3786"
             ],
             [
              0.5555555555555556,
              "#d8576b"
             ],
             [
              0.6666666666666666,
              "#ed7953"
             ],
             [
              0.7777777777777778,
              "#fb9f3a"
             ],
             [
              0.8888888888888888,
              "#fdca26"
             ],
             [
              1,
              "#f0f921"
             ]
            ],
            "type": "histogram2dcontour"
           }
          ],
          "mesh3d": [
           {
            "colorbar": {
             "outlinewidth": 0,
             "ticks": ""
            },
            "type": "mesh3d"
           }
          ],
          "parcoords": [
           {
            "line": {
             "colorbar": {
              "outlinewidth": 0,
              "ticks": ""
             }
            },
            "type": "parcoords"
           }
          ],
          "pie": [
           {
            "automargin": true,
            "type": "pie"
           }
          ],
          "scatter": [
           {
            "marker": {
             "colorbar": {
              "outlinewidth": 0,
              "ticks": ""
             }
            },
            "type": "scatter"
           }
          ],
          "scatter3d": [
           {
            "line": {
             "colorbar": {
              "outlinewidth": 0,
              "ticks": ""
             }
            },
            "marker": {
             "colorbar": {
              "outlinewidth": 0,
              "ticks": ""
             }
            },
            "type": "scatter3d"
           }
          ],
          "scattercarpet": [
           {
            "marker": {
             "colorbar": {
              "outlinewidth": 0,
              "ticks": ""
             }
            },
            "type": "scattercarpet"
           }
          ],
          "scattergeo": [
           {
            "marker": {
             "colorbar": {
              "outlinewidth": 0,
              "ticks": ""
             }
            },
            "type": "scattergeo"
           }
          ],
          "scattergl": [
           {
            "marker": {
             "colorbar": {
              "outlinewidth": 0,
              "ticks": ""
             }
            },
            "type": "scattergl"
           }
          ],
          "scattermapbox": [
           {
            "marker": {
             "colorbar": {
              "outlinewidth": 0,
              "ticks": ""
             }
            },
            "type": "scattermapbox"
           }
          ],
          "scatterpolar": [
           {
            "marker": {
             "colorbar": {
              "outlinewidth": 0,
              "ticks": ""
             }
            },
            "type": "scatterpolar"
           }
          ],
          "scatterpolargl": [
           {
            "marker": {
             "colorbar": {
              "outlinewidth": 0,
              "ticks": ""
             }
            },
            "type": "scatterpolargl"
           }
          ],
          "scatterternary": [
           {
            "marker": {
             "colorbar": {
              "outlinewidth": 0,
              "ticks": ""
             }
            },
            "type": "scatterternary"
           }
          ],
          "surface": [
           {
            "colorbar": {
             "outlinewidth": 0,
             "ticks": ""
            },
            "colorscale": [
             [
              0,
              "#0d0887"
             ],
             [
              0.1111111111111111,
              "#46039f"
             ],
             [
              0.2222222222222222,
              "#7201a8"
             ],
             [
              0.3333333333333333,
              "#9c179e"
             ],
             [
              0.4444444444444444,
              "#bd3786"
             ],
             [
              0.5555555555555556,
              "#d8576b"
             ],
             [
              0.6666666666666666,
              "#ed7953"
             ],
             [
              0.7777777777777778,
              "#fb9f3a"
             ],
             [
              0.8888888888888888,
              "#fdca26"
             ],
             [
              1,
              "#f0f921"
             ]
            ],
            "type": "surface"
           }
          ],
          "table": [
           {
            "cells": {
             "fill": {
              "color": "#EBF0F8"
             },
             "line": {
              "color": "white"
             }
            },
            "header": {
             "fill": {
              "color": "#C8D4E3"
             },
             "line": {
              "color": "white"
             }
            },
            "type": "table"
           }
          ]
         },
         "layout": {
          "annotationdefaults": {
           "arrowcolor": "#2a3f5f",
           "arrowhead": 0,
           "arrowwidth": 1
          },
          "autotypenumbers": "strict",
          "coloraxis": {
           "colorbar": {
            "outlinewidth": 0,
            "ticks": ""
           }
          },
          "colorscale": {
           "diverging": [
            [
             0,
             "#8e0152"
            ],
            [
             0.1,
             "#c51b7d"
            ],
            [
             0.2,
             "#de77ae"
            ],
            [
             0.3,
             "#f1b6da"
            ],
            [
             0.4,
             "#fde0ef"
            ],
            [
             0.5,
             "#f7f7f7"
            ],
            [
             0.6,
             "#e6f5d0"
            ],
            [
             0.7,
             "#b8e186"
            ],
            [
             0.8,
             "#7fbc41"
            ],
            [
             0.9,
             "#4d9221"
            ],
            [
             1,
             "#276419"
            ]
           ],
           "sequential": [
            [
             0,
             "#0d0887"
            ],
            [
             0.1111111111111111,
             "#46039f"
            ],
            [
             0.2222222222222222,
             "#7201a8"
            ],
            [
             0.3333333333333333,
             "#9c179e"
            ],
            [
             0.4444444444444444,
             "#bd3786"
            ],
            [
             0.5555555555555556,
             "#d8576b"
            ],
            [
             0.6666666666666666,
             "#ed7953"
            ],
            [
             0.7777777777777778,
             "#fb9f3a"
            ],
            [
             0.8888888888888888,
             "#fdca26"
            ],
            [
             1,
             "#f0f921"
            ]
           ],
           "sequentialminus": [
            [
             0,
             "#0d0887"
            ],
            [
             0.1111111111111111,
             "#46039f"
            ],
            [
             0.2222222222222222,
             "#7201a8"
            ],
            [
             0.3333333333333333,
             "#9c179e"
            ],
            [
             0.4444444444444444,
             "#bd3786"
            ],
            [
             0.5555555555555556,
             "#d8576b"
            ],
            [
             0.6666666666666666,
             "#ed7953"
            ],
            [
             0.7777777777777778,
             "#fb9f3a"
            ],
            [
             0.8888888888888888,
             "#fdca26"
            ],
            [
             1,
             "#f0f921"
            ]
           ]
          },
          "colorway": [
           "#636efa",
           "#EF553B",
           "#00cc96",
           "#ab63fa",
           "#FFA15A",
           "#19d3f3",
           "#FF6692",
           "#B6E880",
           "#FF97FF",
           "#FECB52"
          ],
          "font": {
           "color": "#2a3f5f"
          },
          "geo": {
           "bgcolor": "white",
           "lakecolor": "white",
           "landcolor": "#E5ECF6",
           "showlakes": true,
           "showland": true,
           "subunitcolor": "white"
          },
          "hoverlabel": {
           "align": "left"
          },
          "hovermode": "closest",
          "mapbox": {
           "style": "light"
          },
          "paper_bgcolor": "white",
          "plot_bgcolor": "#E5ECF6",
          "polar": {
           "angularaxis": {
            "gridcolor": "white",
            "linecolor": "white",
            "ticks": ""
           },
           "bgcolor": "#E5ECF6",
           "radialaxis": {
            "gridcolor": "white",
            "linecolor": "white",
            "ticks": ""
           }
          },
          "scene": {
           "xaxis": {
            "backgroundcolor": "#E5ECF6",
            "gridcolor": "white",
            "gridwidth": 2,
            "linecolor": "white",
            "showbackground": true,
            "ticks": "",
            "zerolinecolor": "white"
           },
           "yaxis": {
            "backgroundcolor": "#E5ECF6",
            "gridcolor": "white",
            "gridwidth": 2,
            "linecolor": "white",
            "showbackground": true,
            "ticks": "",
            "zerolinecolor": "white"
           },
           "zaxis": {
            "backgroundcolor": "#E5ECF6",
            "gridcolor": "white",
            "gridwidth": 2,
            "linecolor": "white",
            "showbackground": true,
            "ticks": "",
            "zerolinecolor": "white"
           }
          },
          "shapedefaults": {
           "line": {
            "color": "#2a3f5f"
           }
          },
          "ternary": {
           "aaxis": {
            "gridcolor": "white",
            "linecolor": "white",
            "ticks": ""
           },
           "baxis": {
            "gridcolor": "white",
            "linecolor": "white",
            "ticks": ""
           },
           "bgcolor": "#E5ECF6",
           "caxis": {
            "gridcolor": "white",
            "linecolor": "white",
            "ticks": ""
           }
          },
          "title": {
           "x": 0.05
          },
          "xaxis": {
           "automargin": true,
           "gridcolor": "white",
           "linecolor": "white",
           "ticks": "",
           "title": {
            "standoff": 15
           },
           "zerolinecolor": "white",
           "zerolinewidth": 2
          },
          "yaxis": {
           "automargin": true,
           "gridcolor": "white",
           "linecolor": "white",
           "ticks": "",
           "title": {
            "standoff": 15
           },
           "zerolinecolor": "white",
           "zerolinewidth": 2
          }
         }
        },
        "title": {
         "text": "Degree distribution"
        },
        "xaxis": {
         "anchor": "y",
         "domain": [
          0,
          1
         ],
         "title": {
          "text": "Degree"
         }
        },
        "xaxis2": {
         "anchor": "y2",
         "domain": [
          0,
          1
         ],
         "matches": "x",
         "showgrid": true,
         "showticklabels": false
        },
        "yaxis": {
         "anchor": "x",
         "domain": [
          0,
          0.7326
         ],
         "title": {
          "text": "count"
         }
        },
        "yaxis2": {
         "anchor": "x2",
         "domain": [
          0.7426,
          1
         ],
         "matches": "y2",
         "showgrid": false,
         "showline": false,
         "showticklabels": false,
         "ticks": ""
        }
       }
      }
     },
     "metadata": {},
     "output_type": "display_data"
    }
   ],
   "source": [
    "in_degrees = [G.in_degree(n) for n in G.nodes()]\n",
    "out_degrees = [G.out_degree(n) for n in G.nodes()]\n",
    "\n",
    "df = pd.DataFrame({\n",
    "    \"Degree\" : np.concatenate((in_degrees,out_degrees)),\n",
    "    \"Degree type\" : np.concatenate(([\"In-degree\"]*len(in_degrees), [\"Out-degree\"]*len(out_degrees))),\n",
    "})\n",
    "\n",
    "#Compute in- and out degree of nodes having role == Ally\n",
    "in_degrees = [[n,G.in_degree(n)] for n, d in G.nodes(data = True)]\n",
    "out_degrees= [[n,G.out_degree(n)] for n, d in G.nodes(data = True)]\n",
    "\n",
    "#Sort and select only top 5 most connected:\n",
    "top5_in_degrees = sorted(in_degrees, key = lambda i: i[1], reverse = True)\n",
    "top5_out_degrees= sorted(out_degrees, key = lambda i: i[1], reverse = True)\n",
    "\n",
    "fig = px.histogram(df, x=\"Degree\",color = 'Degree type', marginal=\"box\", title = \"Degree distribution\")\n",
    "fig.show()"
   ]
  },
  {
   "cell_type": "markdown",
   "metadata": {
    "cell_id": "00016-481d4b6a-6ca9-46e9-a1a3-804ac29c1181",
    "deepnote_cell_type": "markdown",
    "tags": []
   },
   "source": [
    "From the figure above it can be seen that the in-degree and out-degree distribution are very similar, and appears to come from the same distribution. It should be noted from both the histogram and the boxplot that the in-degree distribution has more extreme point but at the same time has a lower median. Further it can be seen that the out-degree (ie. outgoing links) appear to have a higher peak around 5-9 degree compared to in-degree. It should also be noticed that the network is very dense, and all characters have at least a couple of other characters they interact with. From the degree distribution we can find the top-5 most connected characters based on in- and out-degree which is presented in the tables below. "
   ]
  },
  {
   "cell_type": "code",
   "execution_count": 7,
   "metadata": {
    "cell_id": "00017-8f46f5c5-07db-43fb-b73e-f8973c167ce1",
    "deepnote_cell_type": "code",
    "deepnote_output_heights": [
     312
    ],
    "deepnote_to_be_reexecuted": false,
    "execution_millis": 96,
    "execution_start": 1638443850485,
    "source_hash": "d30a97c",
    "tags": []
   },
   "outputs": [
    {
     "data": {
      "application/vnd.plotly.v1+json": {
       "config": {
        "plotlyServerURL": "https://plot.ly"
       },
       "data": [
        {
         "cells": {
          "values": [
           [
            "Jon Snow",
            "Daenerys Targaryen",
            "Tyrion Lannister",
            "Eddard Stark",
            "Cersei Lannister",
            "Stannis Baratheon",
            "Jaime Lannister",
            "Sansa Stark",
            "Robb Stark",
            "Arya Stark",
            "Robert Baratheon",
            "Joffrey Baratheon",
            "Tywin Lannister",
            "Varys",
            "Bran Stark",
            "Catelyn Stark",
            "Petyr Baelish",
            "Melisandre",
            "Gregor Clegane",
            "Bronn",
            "Theon Greyjoy",
            "Roose Bolton",
            "Ramsay Bolton",
            "Brienne of Tarth",
            "Samwell Tarly",
            "Mance Rayder",
            "Jorah Mormont",
            "Pycelle",
            "Night King",
            "Qyburn",
            "Oberyn Martell",
            "Olenna Tyrell",
            "Tormund",
            "Barristan Selmy",
            "Renly Baratheon",
            "Podrick Payne",
            "Gilly",
            "Mace Tyrell",
            "Sandor Clegane",
            "Euron Greyjoy",
            "Jeor Mormont",
            "Rodrik Cassel",
            "Loras Tyrell",
            "Tommen Baratheon",
            "Janos Slynt",
            "Rickon Stark",
            "Margaery Tyrell",
            "Osha",
            "Myrcella Baratheon",
            "Eddison Tollett",
            "Ellaria Sand",
            "Beric Dondarrion",
            "Davos Seaworth",
            "Walder Frey",
            "Rhaegar Targaryen",
            "Edmure Tully",
            "Alliser Thorne",
            "Brynden Tully",
            "Randyll Tarly",
            "Thoros",
            "Missandei",
            "Lysa Arryn",
            "Luwin",
            "Aemon",
            "Balon Greyjoy",
            "Shae",
            "Hodor",
            "Benjen Stark",
            "Ros",
            "Viserys Targaryen",
            "Locke",
            "Rast",
            "Drogo",
            "Lyanna Stark",
            "Ilyn Payne",
            "Amory Lorch",
            "Yoren",
            "Shireen Baratheon",
            "Ygritte",
            "Rickard Karstark",
            "Doran Martell",
            "Tyene Sand",
            "Jaqen H'ghar",
            "Craster",
            "Meera Reed",
            "Alys Karstark",
            "Meryn Trant",
            "Hot Pie",
            "Grenn",
            "Greatjon Umber",
            "Yohn Royce",
            "Robett Glover",
            "Yara Greyjoy",
            "Ned Umber",
            "Grey Worm",
            "Lyanna Mormont",
            "Nymeria Sand",
            "Olly",
            "Qhorin",
            "Olyvar",
            "Dickon Tarly",
            "Doreah",
            "Irri",
            "Kevan Lannister",
            "Lancel Lannister",
            "Rorge",
            "Pypar",
            "Dontos Hollard",
            "Wolkan",
            "Alton Lannister",
            "Styr",
            "Biter",
            "Polliver",
            "Karl Tanner",
            "Daario Naharis",
            "Areo Hotah",
            "Marillion",
            "Syrio Forel",
            "Jory Cassel",
            "Salladhor Saan",
            "Tycho Nestoris",
            "Obara Sand",
            "Myranda",
            "Order of Maesters",
            "Pyat Pree",
            "Rakharo",
            "Xaro Xhoan Daxos",
            "Lommy",
            "Trystane Martell",
            "Qotho",
            "Mirri Maz Duur",
            "Jojen Reed",
            "Ebrose",
            "Walder Rivers",
            "Hizdahr zo Loraq",
            "Selyse Baratheon",
            "Matthos Seaworth",
            "Talisa Stark",
            "Moro",
            "Anya Waynwood",
            "Robin Arryn",
            "Kovarro",
            "Orell",
            "Leaf",
            "Dagmer",
            "Aeron Greyjoy",
            "Unella",
            "Hallyne",
            "Armeca",
            "Harry Strickland",
            "Black Lorren",
            "Mordane",
            "Anguy",
            "Septa",
            "Gendry Baratheon",
            "Kraznys mo Nakloz",
            "Lady Crane",
            "Shagga",
            "Daisy",
            "Izembaro",
            "Ray",
            "Qhono"
           ],
           [
            89,
            79,
            72,
            63,
            60,
            60,
            58,
            57,
            57,
            55,
            54,
            50,
            49,
            47,
            45,
            45,
            43,
            41,
            41,
            39,
            39,
            37,
            34,
            34,
            34,
            31,
            31,
            30,
            30,
            29,
            28,
            28,
            28,
            27,
            27,
            26,
            25,
            25,
            25,
            24,
            24,
            24,
            24,
            24,
            23,
            23,
            23,
            22,
            21,
            21,
            20,
            20,
            20,
            20,
            20,
            20,
            19,
            19,
            19,
            18,
            18,
            18,
            18,
            18,
            17,
            17,
            17,
            17,
            17,
            16,
            16,
            16,
            16,
            16,
            16,
            15,
            15,
            15,
            15,
            15,
            14,
            14,
            14,
            14,
            14,
            14,
            14,
            13,
            13,
            13,
            13,
            13,
            13,
            12,
            12,
            11,
            10,
            10,
            10,
            10,
            10,
            10,
            10,
            10,
            10,
            9,
            9,
            9,
            9,
            9,
            9,
            8,
            8,
            8,
            8,
            8,
            8,
            8,
            8,
            8,
            8,
            7,
            7,
            7,
            7,
            7,
            7,
            7,
            6,
            6,
            6,
            6,
            6,
            6,
            6,
            6,
            6,
            6,
            5,
            5,
            5,
            5,
            5,
            5,
            5,
            5,
            5,
            4,
            4,
            4,
            4,
            4,
            4,
            4,
            4,
            3,
            3,
            3,
            2,
            2,
            2,
            1
           ],
           [
            "Jon Snow",
            "Sansa Stark",
            "Tyrion Lannister",
            "Arya Stark",
            "Jaime Lannister",
            "Eddard Stark",
            "Davos Seaworth",
            "Robb Stark",
            "Cersei Lannister",
            "Daenerys Targaryen",
            "Petyr Baelish",
            "Brienne of Tarth",
            "Catelyn Stark",
            "Bronn",
            "Joffrey Baratheon",
            "Varys",
            "Jorah Mormont",
            "Bran Stark",
            "Samwell Tarly",
            "Theon Greyjoy",
            "Robert Baratheon",
            "Gregor Clegane",
            "Gendry Baratheon",
            "Sandor Clegane",
            "Stannis Baratheon",
            "Tywin Lannister",
            "Eddison Tollett",
            "Roose Bolton",
            "Tormund",
            "Ramsay Bolton",
            "Oberyn Martell",
            "Podrick Payne",
            "Qyburn",
            "Myrcella Baratheon",
            "Melisandre",
            "Loras Tyrell",
            "Olenna Tyrell",
            "Pycelle",
            "Renly Baratheon",
            "Rodrik Cassel",
            "Tommen Baratheon",
            "Mace Tyrell",
            "Rhaegar Targaryen",
            "Yohn Royce",
            "Wolkan",
            "Janos Slynt",
            "Jeor Mormont",
            "Barristan Selmy",
            "Margaery Tyrell",
            "Alliser Thorne",
            "Gilly",
            "Mance Rayder",
            "Rickon Stark",
            "Aemon",
            "Ellaria Sand",
            "Locke",
            "Viserys Targaryen",
            "Balon Greyjoy",
            "Meryn Trant",
            "Order of Maesters",
            "Euron Greyjoy",
            "Walder Frey",
            "Shireen Baratheon",
            "Ros",
            "Yara Greyjoy",
            "Tyene Sand",
            "Grenn",
            "Missandei",
            "Edmure Tully",
            "Randyll Tarly",
            "Obara Sand",
            "Beric Dondarrion",
            "Night King",
            "Lysa Arryn",
            "Hodor",
            "Benjen Stark",
            "Lyanna Stark",
            "Kevan Lannister",
            "Nymeria Sand",
            "Lyanna Mormont",
            "Greatjon Umber",
            "Brynden Tully",
            "Osha",
            "Robin Arryn",
            "Jojen Reed",
            "Luwin",
            "Lancel Lannister",
            "Thoros",
            "Rast",
            "Drogo",
            "Ygritte",
            "Talisa Stark",
            "Hot Pie",
            "Olly",
            "Pypar",
            "Grey Worm",
            "Shae",
            "Craster",
            "Alys Karstark",
            "Robett Glover",
            "Dontos Hollard",
            "Meera Reed",
            "Qhono",
            "Ilyn Payne",
            "Syrio Forel",
            "Rickard Karstark",
            "Doran Martell",
            "Jaqen H'ghar",
            "Qhorin",
            "Daario Naharis",
            "Matthos Seaworth",
            "Rorge",
            "Amory Lorch",
            "Biter",
            "Olyvar",
            "Dickon Tarly",
            "Areo Hotah",
            "Trystane Martell",
            "Doreah",
            "Myranda",
            "Walder Rivers",
            "Rakharo",
            "Xaro Xhoan Daxos",
            "Polliver",
            "Ned Umber",
            "Ebrose",
            "Alton Lannister",
            "Kovarro",
            "Styr",
            "Black Lorren",
            "Anguy",
            "Tycho Nestoris",
            "Karl Tanner",
            "Qotho",
            "Orell",
            "Dagmer",
            "Hallyne",
            "Irri",
            "Mirri Maz Duur",
            "Daisy",
            "Selyse Baratheon",
            "Mordane",
            "Unella",
            "Septa",
            "Yoren",
            "Jory Cassel",
            "Hizdahr zo Loraq",
            "Aeron Greyjoy",
            "Lommy",
            "Salladhor Saan",
            "Marillion",
            "Armeca",
            "Pyat Pree",
            "Anya Waynwood",
            "Harry Strickland",
            "Leaf",
            "Shagga",
            "Kraznys mo Nakloz",
            "Lady Crane",
            "Izembaro",
            "Ray",
            "Moro"
           ],
           [
            68,
            59,
            56,
            55,
            54,
            52,
            50,
            50,
            49,
            47,
            46,
            44,
            43,
            42,
            42,
            41,
            41,
            40,
            40,
            39,
            38,
            38,
            38,
            37,
            36,
            35,
            32,
            32,
            31,
            30,
            29,
            29,
            29,
            28,
            27,
            27,
            26,
            25,
            25,
            25,
            25,
            24,
            24,
            24,
            24,
            23,
            23,
            23,
            23,
            22,
            22,
            22,
            22,
            22,
            21,
            21,
            20,
            20,
            20,
            20,
            19,
            19,
            19,
            19,
            19,
            18,
            18,
            18,
            18,
            18,
            17,
            17,
            17,
            17,
            17,
            17,
            17,
            17,
            16,
            16,
            15,
            15,
            15,
            15,
            15,
            15,
            15,
            14,
            14,
            14,
            14,
            14,
            13,
            13,
            13,
            13,
            13,
            12,
            12,
            12,
            12,
            11,
            11,
            11,
            11,
            11,
            10,
            10,
            10,
            10,
            10,
            9,
            9,
            9,
            9,
            9,
            9,
            9,
            9,
            9,
            9,
            9,
            9,
            8,
            8,
            8,
            8,
            8,
            8,
            8,
            8,
            8,
            7,
            7,
            7,
            7,
            6,
            6,
            6,
            6,
            6,
            6,
            6,
            6,
            5,
            5,
            5,
            5,
            5,
            5,
            4,
            4,
            4,
            3,
            3,
            3,
            3,
            2,
            2,
            2,
            2,
            1
           ]
          ]
         },
         "header": {
          "values": [
           "<b>Character name</b>",
           "<b>In degree</b>",
           "<b>Character name</b>",
           "<b>Out degree</b>"
          ]
         },
         "type": "table"
        }
       ],
       "layout": {
        "height": 310,
        "showlegend": false,
        "template": {
         "data": {
          "bar": [
           {
            "error_x": {
             "color": "#2a3f5f"
            },
            "error_y": {
             "color": "#2a3f5f"
            },
            "marker": {
             "line": {
              "color": "#E5ECF6",
              "width": 0.5
             },
             "pattern": {
              "fillmode": "overlay",
              "size": 10,
              "solidity": 0.2
             }
            },
            "type": "bar"
           }
          ],
          "barpolar": [
           {
            "marker": {
             "line": {
              "color": "#E5ECF6",
              "width": 0.5
             },
             "pattern": {
              "fillmode": "overlay",
              "size": 10,
              "solidity": 0.2
             }
            },
            "type": "barpolar"
           }
          ],
          "carpet": [
           {
            "aaxis": {
             "endlinecolor": "#2a3f5f",
             "gridcolor": "white",
             "linecolor": "white",
             "minorgridcolor": "white",
             "startlinecolor": "#2a3f5f"
            },
            "baxis": {
             "endlinecolor": "#2a3f5f",
             "gridcolor": "white",
             "linecolor": "white",
             "minorgridcolor": "white",
             "startlinecolor": "#2a3f5f"
            },
            "type": "carpet"
           }
          ],
          "choropleth": [
           {
            "colorbar": {
             "outlinewidth": 0,
             "ticks": ""
            },
            "type": "choropleth"
           }
          ],
          "contour": [
           {
            "colorbar": {
             "outlinewidth": 0,
             "ticks": ""
            },
            "colorscale": [
             [
              0,
              "#0d0887"
             ],
             [
              0.1111111111111111,
              "#46039f"
             ],
             [
              0.2222222222222222,
              "#7201a8"
             ],
             [
              0.3333333333333333,
              "#9c179e"
             ],
             [
              0.4444444444444444,
              "#bd3786"
             ],
             [
              0.5555555555555556,
              "#d8576b"
             ],
             [
              0.6666666666666666,
              "#ed7953"
             ],
             [
              0.7777777777777778,
              "#fb9f3a"
             ],
             [
              0.8888888888888888,
              "#fdca26"
             ],
             [
              1,
              "#f0f921"
             ]
            ],
            "type": "contour"
           }
          ],
          "contourcarpet": [
           {
            "colorbar": {
             "outlinewidth": 0,
             "ticks": ""
            },
            "type": "contourcarpet"
           }
          ],
          "heatmap": [
           {
            "colorbar": {
             "outlinewidth": 0,
             "ticks": ""
            },
            "colorscale": [
             [
              0,
              "#0d0887"
             ],
             [
              0.1111111111111111,
              "#46039f"
             ],
             [
              0.2222222222222222,
              "#7201a8"
             ],
             [
              0.3333333333333333,
              "#9c179e"
             ],
             [
              0.4444444444444444,
              "#bd3786"
             ],
             [
              0.5555555555555556,
              "#d8576b"
             ],
             [
              0.6666666666666666,
              "#ed7953"
             ],
             [
              0.7777777777777778,
              "#fb9f3a"
             ],
             [
              0.8888888888888888,
              "#fdca26"
             ],
             [
              1,
              "#f0f921"
             ]
            ],
            "type": "heatmap"
           }
          ],
          "heatmapgl": [
           {
            "colorbar": {
             "outlinewidth": 0,
             "ticks": ""
            },
            "colorscale": [
             [
              0,
              "#0d0887"
             ],
             [
              0.1111111111111111,
              "#46039f"
             ],
             [
              0.2222222222222222,
              "#7201a8"
             ],
             [
              0.3333333333333333,
              "#9c179e"
             ],
             [
              0.4444444444444444,
              "#bd3786"
             ],
             [
              0.5555555555555556,
              "#d8576b"
             ],
             [
              0.6666666666666666,
              "#ed7953"
             ],
             [
              0.7777777777777778,
              "#fb9f3a"
             ],
             [
              0.8888888888888888,
              "#fdca26"
             ],
             [
              1,
              "#f0f921"
             ]
            ],
            "type": "heatmapgl"
           }
          ],
          "histogram": [
           {
            "marker": {
             "pattern": {
              "fillmode": "overlay",
              "size": 10,
              "solidity": 0.2
             }
            },
            "type": "histogram"
           }
          ],
          "histogram2d": [
           {
            "colorbar": {
             "outlinewidth": 0,
             "ticks": ""
            },
            "colorscale": [
             [
              0,
              "#0d0887"
             ],
             [
              0.1111111111111111,
              "#46039f"
             ],
             [
              0.2222222222222222,
              "#7201a8"
             ],
             [
              0.3333333333333333,
              "#9c179e"
             ],
             [
              0.4444444444444444,
              "#bd3786"
             ],
             [
              0.5555555555555556,
              "#d8576b"
             ],
             [
              0.6666666666666666,
              "#ed7953"
             ],
             [
              0.7777777777777778,
              "#fb9f3a"
             ],
             [
              0.8888888888888888,
              "#fdca26"
             ],
             [
              1,
              "#f0f921"
             ]
            ],
            "type": "histogram2d"
           }
          ],
          "histogram2dcontour": [
           {
            "colorbar": {
             "outlinewidth": 0,
             "ticks": ""
            },
            "colorscale": [
             [
              0,
              "#0d0887"
             ],
             [
              0.1111111111111111,
              "#46039f"
             ],
             [
              0.2222222222222222,
              "#7201a8"
             ],
             [
              0.3333333333333333,
              "#9c179e"
             ],
             [
              0.4444444444444444,
              "#bd3786"
             ],
             [
              0.5555555555555556,
              "#d8576b"
             ],
             [
              0.6666666666666666,
              "#ed7953"
             ],
             [
              0.7777777777777778,
              "#fb9f3a"
             ],
             [
              0.8888888888888888,
              "#fdca26"
             ],
             [
              1,
              "#f0f921"
             ]
            ],
            "type": "histogram2dcontour"
           }
          ],
          "mesh3d": [
           {
            "colorbar": {
             "outlinewidth": 0,
             "ticks": ""
            },
            "type": "mesh3d"
           }
          ],
          "parcoords": [
           {
            "line": {
             "colorbar": {
              "outlinewidth": 0,
              "ticks": ""
             }
            },
            "type": "parcoords"
           }
          ],
          "pie": [
           {
            "automargin": true,
            "type": "pie"
           }
          ],
          "scatter": [
           {
            "marker": {
             "colorbar": {
              "outlinewidth": 0,
              "ticks": ""
             }
            },
            "type": "scatter"
           }
          ],
          "scatter3d": [
           {
            "line": {
             "colorbar": {
              "outlinewidth": 0,
              "ticks": ""
             }
            },
            "marker": {
             "colorbar": {
              "outlinewidth": 0,
              "ticks": ""
             }
            },
            "type": "scatter3d"
           }
          ],
          "scattercarpet": [
           {
            "marker": {
             "colorbar": {
              "outlinewidth": 0,
              "ticks": ""
             }
            },
            "type": "scattercarpet"
           }
          ],
          "scattergeo": [
           {
            "marker": {
             "colorbar": {
              "outlinewidth": 0,
              "ticks": ""
             }
            },
            "type": "scattergeo"
           }
          ],
          "scattergl": [
           {
            "marker": {
             "colorbar": {
              "outlinewidth": 0,
              "ticks": ""
             }
            },
            "type": "scattergl"
           }
          ],
          "scattermapbox": [
           {
            "marker": {
             "colorbar": {
              "outlinewidth": 0,
              "ticks": ""
             }
            },
            "type": "scattermapbox"
           }
          ],
          "scatterpolar": [
           {
            "marker": {
             "colorbar": {
              "outlinewidth": 0,
              "ticks": ""
             }
            },
            "type": "scatterpolar"
           }
          ],
          "scatterpolargl": [
           {
            "marker": {
             "colorbar": {
              "outlinewidth": 0,
              "ticks": ""
             }
            },
            "type": "scatterpolargl"
           }
          ],
          "scatterternary": [
           {
            "marker": {
             "colorbar": {
              "outlinewidth": 0,
              "ticks": ""
             }
            },
            "type": "scatterternary"
           }
          ],
          "surface": [
           {
            "colorbar": {
             "outlinewidth": 0,
             "ticks": ""
            },
            "colorscale": [
             [
              0,
              "#0d0887"
             ],
             [
              0.1111111111111111,
              "#46039f"
             ],
             [
              0.2222222222222222,
              "#7201a8"
             ],
             [
              0.3333333333333333,
              "#9c179e"
             ],
             [
              0.4444444444444444,
              "#bd3786"
             ],
             [
              0.5555555555555556,
              "#d8576b"
             ],
             [
              0.6666666666666666,
              "#ed7953"
             ],
             [
              0.7777777777777778,
              "#fb9f3a"
             ],
             [
              0.8888888888888888,
              "#fdca26"
             ],
             [
              1,
              "#f0f921"
             ]
            ],
            "type": "surface"
           }
          ],
          "table": [
           {
            "cells": {
             "fill": {
              "color": "#EBF0F8"
             },
             "line": {
              "color": "white"
             }
            },
            "header": {
             "fill": {
              "color": "#C8D4E3"
             },
             "line": {
              "color": "white"
             }
            },
            "type": "table"
           }
          ]
         },
         "layout": {
          "annotationdefaults": {
           "arrowcolor": "#2a3f5f",
           "arrowhead": 0,
           "arrowwidth": 1
          },
          "autotypenumbers": "strict",
          "coloraxis": {
           "colorbar": {
            "outlinewidth": 0,
            "ticks": ""
           }
          },
          "colorscale": {
           "diverging": [
            [
             0,
             "#8e0152"
            ],
            [
             0.1,
             "#c51b7d"
            ],
            [
             0.2,
             "#de77ae"
            ],
            [
             0.3,
             "#f1b6da"
            ],
            [
             0.4,
             "#fde0ef"
            ],
            [
             0.5,
             "#f7f7f7"
            ],
            [
             0.6,
             "#e6f5d0"
            ],
            [
             0.7,
             "#b8e186"
            ],
            [
             0.8,
             "#7fbc41"
            ],
            [
             0.9,
             "#4d9221"
            ],
            [
             1,
             "#276419"
            ]
           ],
           "sequential": [
            [
             0,
             "#0d0887"
            ],
            [
             0.1111111111111111,
             "#46039f"
            ],
            [
             0.2222222222222222,
             "#7201a8"
            ],
            [
             0.3333333333333333,
             "#9c179e"
            ],
            [
             0.4444444444444444,
             "#bd3786"
            ],
            [
             0.5555555555555556,
             "#d8576b"
            ],
            [
             0.6666666666666666,
             "#ed7953"
            ],
            [
             0.7777777777777778,
             "#fb9f3a"
            ],
            [
             0.8888888888888888,
             "#fdca26"
            ],
            [
             1,
             "#f0f921"
            ]
           ],
           "sequentialminus": [
            [
             0,
             "#0d0887"
            ],
            [
             0.1111111111111111,
             "#46039f"
            ],
            [
             0.2222222222222222,
             "#7201a8"
            ],
            [
             0.3333333333333333,
             "#9c179e"
            ],
            [
             0.4444444444444444,
             "#bd3786"
            ],
            [
             0.5555555555555556,
             "#d8576b"
            ],
            [
             0.6666666666666666,
             "#ed7953"
            ],
            [
             0.7777777777777778,
             "#fb9f3a"
            ],
            [
             0.8888888888888888,
             "#fdca26"
            ],
            [
             1,
             "#f0f921"
            ]
           ]
          },
          "colorway": [
           "#636efa",
           "#EF553B",
           "#00cc96",
           "#ab63fa",
           "#FFA15A",
           "#19d3f3",
           "#FF6692",
           "#B6E880",
           "#FF97FF",
           "#FECB52"
          ],
          "font": {
           "color": "#2a3f5f"
          },
          "geo": {
           "bgcolor": "white",
           "lakecolor": "white",
           "landcolor": "#E5ECF6",
           "showlakes": true,
           "showland": true,
           "subunitcolor": "white"
          },
          "hoverlabel": {
           "align": "left"
          },
          "hovermode": "closest",
          "mapbox": {
           "style": "light"
          },
          "paper_bgcolor": "white",
          "plot_bgcolor": "#E5ECF6",
          "polar": {
           "angularaxis": {
            "gridcolor": "white",
            "linecolor": "white",
            "ticks": ""
           },
           "bgcolor": "#E5ECF6",
           "radialaxis": {
            "gridcolor": "white",
            "linecolor": "white",
            "ticks": ""
           }
          },
          "scene": {
           "xaxis": {
            "backgroundcolor": "#E5ECF6",
            "gridcolor": "white",
            "gridwidth": 2,
            "linecolor": "white",
            "showbackground": true,
            "ticks": "",
            "zerolinecolor": "white"
           },
           "yaxis": {
            "backgroundcolor": "#E5ECF6",
            "gridcolor": "white",
            "gridwidth": 2,
            "linecolor": "white",
            "showbackground": true,
            "ticks": "",
            "zerolinecolor": "white"
           },
           "zaxis": {
            "backgroundcolor": "#E5ECF6",
            "gridcolor": "white",
            "gridwidth": 2,
            "linecolor": "white",
            "showbackground": true,
            "ticks": "",
            "zerolinecolor": "white"
           }
          },
          "shapedefaults": {
           "line": {
            "color": "#2a3f5f"
           }
          },
          "ternary": {
           "aaxis": {
            "gridcolor": "white",
            "linecolor": "white",
            "ticks": ""
           },
           "baxis": {
            "gridcolor": "white",
            "linecolor": "white",
            "ticks": ""
           },
           "bgcolor": "#E5ECF6",
           "caxis": {
            "gridcolor": "white",
            "linecolor": "white",
            "ticks": ""
           }
          },
          "title": {
           "x": 0.05
          },
          "xaxis": {
           "automargin": true,
           "gridcolor": "white",
           "linecolor": "white",
           "ticks": "",
           "title": {
            "standoff": 15
           },
           "zerolinecolor": "white",
           "zerolinewidth": 2
          },
          "yaxis": {
           "automargin": true,
           "gridcolor": "white",
           "linecolor": "white",
           "ticks": "",
           "title": {
            "standoff": 15
           },
           "zerolinecolor": "white",
           "zerolinewidth": 2
          }
         }
        },
        "title": {
         "text": "Most connected characters based on in- and out-degree"
        }
       }
      }
     },
     "metadata": {},
     "output_type": "display_data"
    }
   ],
   "source": [
    "#hide_input\n",
    "fig = go.Figure(data=[go.Table(header=dict(values=['<b>Character name</b>', '<b>In degree</b>','<b>Character name</b>', '<b>Out degree</b>']),\n",
    "                 cells=dict(values=[\n",
    "                     [name[0].replace('_',' ') for name in top5_in_degrees], \n",
    "                     [name[1] for name in top5_in_degrees],\n",
    "                     [name[0].replace('_', ' ') for name in top5_out_degrees], \n",
    "                     [name[1] for name in top5_out_degrees]]))\n",
    "                     ])\n",
    "fig.update_layout(\n",
    "    height=310,\n",
    "    showlegend=False,\n",
    "    title_text = \"Most connected characters based on in- and out-degree\"\n",
    ")\n",
    "\n",
    "fig.show()"
   ]
  },
  {
   "cell_type": "markdown",
   "metadata": {
    "cell_id": "00018-4e3d102e-1f11-42c1-afbd-7bc0a8f193d4",
    "deepnote_cell_type": "markdown",
    "tags": []
   },
   "source": [
    "From the table above it appears that *Jon Snow* is the most connected character based on in-degree. Also it should be noted that all five characters are main characters in Game Of Thrones, and therefore it would make sense that they are well connected in the network. Further, all but *Eddard Stark* are characters that are appearing in most episodes (see [Basic Statistics](https://mikkelmathiasen23.github.io/GameOfThrones_Network/02_Basic_Statistics/)). \n",
    "\n",
    "*Eddark Stark* dies quite early in the series, and it might be a surprise that he is one of the most connected characters, but as this is based on in-degree this could be due to many of the others characters pages references Eddard. This would make sense as his children probably talks about him/mentions him and therefore make him very connected compared to many other characters. \n",
    "\n",
    "\n",
    "Based on out-degree again *Jon Snow* is the most connected character, but we see that *Eddard Stark*, *Daeneras Targaryen* and *Cersei Lannister* are replaced by *Sansa Stark, Arya Stark* and *Jamie Lannister* which also are very well connected characters and also appears as main characters in the series. "
   ]
  },
  {
   "cell_type": "markdown",
   "metadata": {
    "cell_id": "00019-abf1ebbb-0422-4788-aa47-1eaafe5b5aaa",
    "deepnote_cell_type": "markdown",
    "tags": []
   },
   "source": [
    "We will now try to investigate the in- and out-degree in a log-scale environment, as this sometimes can reveal the patterns. "
   ]
  },
  {
   "cell_type": "code",
   "execution_count": 8,
   "metadata": {
    "cell_id": "00019-7d28f29a-12c6-4ddd-b6dc-398196a164ce",
    "deepnote_cell_type": "code",
    "deepnote_output_heights": [
     510
    ],
    "deepnote_to_be_reexecuted": false,
    "execution_millis": 1557,
    "execution_start": 1638445127251,
    "source_hash": "b85ede40",
    "tags": []
   },
   "outputs": [
    {
     "data": {
      "image/png": "[encoded data removed]",
      "text/plain": [
       "<Figure size 864x576 with 1 Axes>"
      ]
     },
     "metadata": {
      "needs_background": "light"
     },
     "output_type": "display_data"
    }
   ],
   "source": [
    "#Create bins and counts\n",
    "in_degrees = [d for name, d in top5_in_degrees]\n",
    "hist_in, bins = np.histogram(in_degrees, bins = np.arange(np.min(in_degrees), np.max(in_degrees)+1))\n",
    "#Compute center of each bin\n",
    "center_in = (bins[:-1] + bins[1:]) / 2\n",
    "\n",
    "#Create bins and counts\n",
    "out_degrees = [d for name, d in top5_out_degrees]\n",
    "hist_out, bins = np.histogram(out_degrees, bins = np.arange(np.min(out_degrees), np.max(out_degrees)+1))\n",
    "#Compute center of each bin\n",
    "center_out = (bins[:-1] + bins[1:]) / 2\n",
    "\n",
    "plt.figure(figsize=(12,8))\n",
    "plt.loglog(center_in, hist_in, '.b', label = \"In degree\",markersize = 12)\n",
    "plt.loglog(center_out, hist_out, '.r', label = \"Out degree\",markersize = 12)\n",
    "plt.xlabel('Degree', fontsize = 12)\n",
    "plt.ylabel('Count', fontsize = 12)\n",
    "plt.title('Degree distribution with log axis', fontsize = 20)\n",
    "plt.legend()\n",
    "plt.show()\n"
   ]
  },
  {
   "cell_type": "markdown",
   "metadata": {
    "cell_id": "00021-be3e0723-3207-40c2-8054-8e1c33f83318",
    "deepnote_cell_type": "markdown",
    "tags": []
   },
   "source": [
    "This could look like a random network, but also somewhat like a scale-free network, and it is hard to determine exactly. Therefore we will look into powerlaw. This is done using the `powerlaw` package which determines the coefficient. "
   ]
  },
  {
   "cell_type": "code",
   "execution_count": 9,
   "metadata": {
    "cell_id": "00022-3b64e24f-6d4d-47d2-8e40-c984857f7cd1",
    "deepnote_cell_type": "code",
    "deepnote_to_be_reexecuted": false,
    "execution_millis": 8,
    "execution_start": 1638445581652,
    "source_hash": "98afd3e5",
    "tags": []
   },
   "outputs": [
    {
     "name": "stdout",
     "output_type": "stream",
     "text": [
      "Power law exponent for in degrees: 2.56\n",
      "Power law exponent for out degrees: 3.03\n"
     ]
    }
   ],
   "source": [
    "# To stop unnecessary print messages from the powerlaw package\n",
    "with open(os.devnull, \"w\") as f, contextlib.redirect_stdout(f):\n",
    "    #Compute exponent of in and out-degree distributions\n",
    "    in_alpha = powerlaw.Fit([G.in_degree(n) for n in G.nodes()],verbose = False).alpha\n",
    "    out_alpha= powerlaw.Fit([G.out_degree(n) for n in G.nodes()],verbose = False).alpha\n",
    "\n",
    "print(f\"Power law exponent for in degrees: {round(in_alpha,2)}\")\n",
    "print(f\"Power law exponent for out degrees: {round(out_alpha,2)}\")\n"
   ]
  },
  {
   "cell_type": "markdown",
   "metadata": {
    "cell_id": "00023-19333af7-366c-4c92-9ba7-193ff747a3b5",
    "deepnote_cell_type": "markdown",
    "tags": []
   },
   "source": [
    "The out-degree coefficient is just above 3 indicating that the network is a random network, but it is quite close to be a scale-free network. The in-degree are below 3 and above 2 which indicates that it is scale-free."
   ]
  },
  {
   "cell_type": "markdown",
   "metadata": {
    "cell_id": "00019-7fef42f9-c6d9-4120-8d07-3cdbcb521b31",
    "deepnote_cell_type": "markdown",
    "tags": []
   },
   "source": [
    "Next, we looking into how the in- and out-degree are correlated, ie. if you are connected to many people in a out-going fashion are these people also connecting to you."
   ]
  },
  {
   "cell_type": "code",
   "execution_count": 10,
   "metadata": {
    "cell_id": "00019-9bf9d48f-a712-49cf-9fc9-353ab5fcb3e1",
    "deepnote_cell_type": "code",
    "deepnote_output_heights": [
     506
    ],
    "deepnote_to_be_reexecuted": false,
    "execution_millis": 658,
    "execution_start": 1638452348793,
    "source_hash": "e0ec4d1",
    "tags": []
   },
   "outputs": [
    {
     "data": {
      "image/png": "[encoded data removed]",
      "text/plain": [
       "<Figure size 864x576 with 1 Axes>"
      ]
     },
     "metadata": {
      "needs_background": "light"
     },
     "output_type": "display_data"
    }
   ],
   "source": [
    "correlation = np.corrcoef([d for name, d in top5_in_degrees],[d for name, d in top5_out_degrees])\n",
    "plt.figure(figsize = (12,8))\n",
    "plt.scatter([d for name, d in top5_in_degrees],[d for name, d in top5_out_degrees], color = 'red')\n",
    "plt.title(f'In-degree vs. Out-degree: rho = {round(correlation[1,0],3)}', fontsize = 20)\n",
    "plt.xlabel('In degree', fontsize = 12)\n",
    "plt.ylabel('Out degree', fontsize = 12)\n",
    "plt.show()"
   ]
  },
  {
   "cell_type": "markdown",
   "metadata": {
    "cell_id": "00021-53636471-75ea-4ae0-b3d2-1eb69bfb3271",
    "deepnote_cell_type": "markdown",
    "tags": []
   },
   "source": [
    "From the plot, we can see that we have a very strong correlation between these connectiveness. "
   ]
  },
  {
   "cell_type": "markdown",
   "metadata": {
    "cell_id": "00013-a341834d-4fee-4aee-b8ce-fb607d924940",
    "deepnote_cell_type": "markdown",
    "tags": []
   },
   "source": [
    "<h2 align = \"center\"> 1.3 Attribute interactions </h2>\n",
    "\n",
    "In this part we are going to investigate how the attributes relate and interact with each other, also it could be that some attributes eg. religion is more well connected than others. We will start out by examining the allegiance attribute. "
   ]
  },
  {
   "cell_type": "code",
   "execution_count": 11,
   "metadata": {
    "cell_id": "00020-38a43b19-0cd7-4d04-920e-ccf519a3b4f0",
    "deepnote_cell_type": "code",
    "deepnote_output_heights": [
     527
    ],
    "deepnote_to_be_reexecuted": false,
    "execution_millis": 494,
    "execution_start": 1638443897153,
    "source_hash": "1bc3630a",
    "tags": []
   },
   "outputs": [
    {
     "data": {
      "application/vnd.plotly.v1+json": {
       "config": {
        "plotlyServerURL": "https://plot.ly"
       },
       "data": [
        {
         "coloraxis": "coloraxis",
         "hovertemplate": "x: %{x}<br>y: %{y}<br>color: %{z}<extra></extra>",
         "name": "0",
         "type": "heatmap",
         "x": [
          "House Stark",
          "House Lannister",
          "Night's Watch",
          "House Targaryen",
          "Order of Maesters",
          "House Baratheon",
          "House Greyjoy",
          "House Bolton"
         ],
         "xaxis": "x",
         "y": [
          "House Stark",
          "House Lannister",
          "Night's Watch",
          "House Targaryen",
          "Order of Maesters",
          "House Baratheon",
          "House Greyjoy",
          "House Bolton"
         ],
         "yaxis": "y",
         "z": [
          [
           84,
           35,
           25,
           21,
           16,
           17,
           18,
           16
          ],
          [
           35,
           41,
           11,
           17,
           12,
           13,
           8,
           12
          ],
          [
           25,
           10,
           46,
           8,
           10,
           4,
           2,
           8
          ],
          [
           18,
           15,
           9,
           24,
           7,
           9,
           5,
           0
          ],
          [
           18,
           7,
           10,
           4,
           9,
           1,
           3,
           3
          ],
          [
           13,
           7,
           1,
           4,
           3,
           5,
           3,
           1
          ],
          [
           12,
           8,
           2,
           5,
           4,
           2,
           18,
           6
          ],
          [
           23,
           6,
           9,
           1,
           5,
           2,
           7,
           7
          ]
         ]
        }
       ],
       "layout": {
        "coloraxis": {
         "colorscale": [
          [
           0,
           "#0d0887"
          ],
          [
           0.1111111111111111,
           "#46039f"
          ],
          [
           0.2222222222222222,
           "#7201a8"
          ],
          [
           0.3333333333333333,
           "#9c179e"
          ],
          [
           0.4444444444444444,
           "#bd3786"
          ],
          [
           0.5555555555555556,
           "#d8576b"
          ],
          [
           0.6666666666666666,
           "#ed7953"
          ],
          [
           0.7777777777777778,
           "#fb9f3a"
          ],
          [
           0.8888888888888888,
           "#fdca26"
          ],
          [
           1,
           "#f0f921"
          ]
         ]
        },
        "template": {
         "data": {
          "bar": [
           {
            "error_x": {
             "color": "#2a3f5f"
            },
            "error_y": {
             "color": "#2a3f5f"
            },
            "marker": {
             "line": {
              "color": "#E5ECF6",
              "width": 0.5
             },
             "pattern": {
              "fillmode": "overlay",
              "size": 10,
              "solidity": 0.2
             }
            },
            "type": "bar"
           }
          ],
          "barpolar": [
           {
            "marker": {
             "line": {
              "color": "#E5ECF6",
              "width": 0.5
             },
             "pattern": {
              "fillmode": "overlay",
              "size": 10,
              "solidity": 0.2
             }
            },
            "type": "barpolar"
           }
          ],
          "carpet": [
           {
            "aaxis": {
             "endlinecolor": "#2a3f5f",
             "gridcolor": "white",
             "linecolor": "white",
             "minorgridcolor": "white",
             "startlinecolor": "#2a3f5f"
            },
            "baxis": {
             "endlinecolor": "#2a3f5f",
             "gridcolor": "white",
             "linecolor": "white",
             "minorgridcolor": "white",
             "startlinecolor": "#2a3f5f"
            },
            "type": "carpet"
           }
          ],
          "choropleth": [
           {
            "colorbar": {
             "outlinewidth": 0,
             "ticks": ""
            },
            "type": "choropleth"
           }
          ],
          "contour": [
           {
            "colorbar": {
             "outlinewidth": 0,
             "ticks": ""
            },
            "colorscale": [
             [
              0,
              "#0d0887"
             ],
             [
              0.1111111111111111,
              "#46039f"
             ],
             [
              0.2222222222222222,
              "#7201a8"
             ],
             [
              0.3333333333333333,
              "#9c179e"
             ],
             [
              0.4444444444444444,
              "#bd3786"
             ],
             [
              0.5555555555555556,
              "#d8576b"
             ],
             [
              0.6666666666666666,
              "#ed7953"
             ],
             [
              0.7777777777777778,
              "#fb9f3a"
             ],
             [
              0.8888888888888888,
              "#fdca26"
             ],
             [
              1,
              "#f0f921"
             ]
            ],
            "type": "contour"
           }
          ],
          "contourcarpet": [
           {
            "colorbar": {
             "outlinewidth": 0,
             "ticks": ""
            },
            "type": "contourcarpet"
           }
          ],
          "heatmap": [
           {
            "colorbar": {
             "outlinewidth": 0,
             "ticks": ""
            },
            "colorscale": [
             [
              0,
              "#0d0887"
             ],
             [
              0.1111111111111111,
              "#46039f"
             ],
             [
              0.2222222222222222,
              "#7201a8"
             ],
             [
              0.3333333333333333,
              "#9c179e"
             ],
             [
              0.4444444444444444,
              "#bd3786"
             ],
             [
              0.5555555555555556,
              "#d8576b"
             ],
             [
              0.6666666666666666,
              "#ed7953"
             ],
             [
              0.7777777777777778,
              "#fb9f3a"
             ],
             [
              0.8888888888888888,
              "#fdca26"
             ],
             [
              1,
              "#f0f921"
             ]
            ],
            "type": "heatmap"
           }
          ],
          "heatmapgl": [
           {
            "colorbar": {
             "outlinewidth": 0,
             "ticks": ""
            },
            "colorscale": [
             [
              0,
              "#0d0887"
             ],
             [
              0.1111111111111111,
              "#46039f"
             ],
             [
              0.2222222222222222,
              "#7201a8"
             ],
             [
              0.3333333333333333,
              "#9c179e"
             ],
             [
              0.4444444444444444,
              "#bd3786"
             ],
             [
              0.5555555555555556,
              "#d8576b"
             ],
             [
              0.6666666666666666,
              "#ed7953"
             ],
             [
              0.7777777777777778,
              "#fb9f3a"
             ],
             [
              0.8888888888888888,
              "#fdca26"
             ],
             [
              1,
              "#f0f921"
             ]
            ],
            "type": "heatmapgl"
           }
          ],
          "histogram": [
           {
            "marker": {
             "pattern": {
              "fillmode": "overlay",
              "size": 10,
              "solidity": 0.2
             }
            },
            "type": "histogram"
           }
          ],
          "histogram2d": [
           {
            "colorbar": {
             "outlinewidth": 0,
             "ticks": ""
            },
            "colorscale": [
             [
              0,
              "#0d0887"
             ],
             [
              0.1111111111111111,
              "#46039f"
             ],
             [
              0.2222222222222222,
              "#7201a8"
             ],
             [
              0.3333333333333333,
              "#9c179e"
             ],
             [
              0.4444444444444444,
              "#bd3786"
             ],
             [
              0.5555555555555556,
              "#d8576b"
             ],
             [
              0.6666666666666666,
              "#ed7953"
             ],
             [
              0.7777777777777778,
              "#fb9f3a"
             ],
             [
              0.8888888888888888,
              "#fdca26"
             ],
             [
              1,
              "#f0f921"
             ]
            ],
            "type": "histogram2d"
           }
          ],
          "histogram2dcontour": [
           {
            "colorbar": {
             "outlinewidth": 0,
             "ticks": ""
            },
            "colorscale": [
             [
              0,
              "#0d0887"
             ],
             [
              0.1111111111111111,
              "#46039f"
             ],
             [
              0.2222222222222222,
              "#7201a8"
             ],
             [
              0.3333333333333333,
              "#9c179e"
             ],
             [
              0.4444444444444444,
              "#bd3786"
             ],
             [
              0.5555555555555556,
              "#d8576b"
             ],
             [
              0.6666666666666666,
              "#ed7953"
             ],
             [
              0.7777777777777778,
              "#fb9f3a"
             ],
             [
              0.8888888888888888,
              "#fdca26"
             ],
             [
              1,
              "#f0f921"
             ]
            ],
            "type": "histogram2dcontour"
           }
          ],
          "mesh3d": [
           {
            "colorbar": {
             "outlinewidth": 0,
             "ticks": ""
            },
            "type": "mesh3d"
           }
          ],
          "parcoords": [
           {
            "line": {
             "colorbar": {
              "outlinewidth": 0,
              "ticks": ""
             }
            },
            "type": "parcoords"
           }
          ],
          "pie": [
           {
            "automargin": true,
            "type": "pie"
           }
          ],
          "scatter": [
           {
            "marker": {
             "colorbar": {
              "outlinewidth": 0,
              "ticks": ""
             }
            },
            "type": "scatter"
           }
          ],
          "scatter3d": [
           {
            "line": {
             "colorbar": {
              "outlinewidth": 0,
              "ticks": ""
             }
            },
            "marker": {
             "colorbar": {
              "outlinewidth": 0,
              "ticks": ""
             }
            },
            "type": "scatter3d"
           }
          ],
          "scattercarpet": [
           {
            "marker": {
             "colorbar": {
              "outlinewidth": 0,
              "ticks": ""
             }
            },
            "type": "scattercarpet"
           }
          ],
          "scattergeo": [
           {
            "marker": {
             "colorbar": {
              "outlinewidth": 0,
              "ticks": ""
             }
            },
            "type": "scattergeo"
           }
          ],
          "scattergl": [
           {
            "marker": {
             "colorbar": {
              "outlinewidth": 0,
              "ticks": ""
             }
            },
            "type": "scattergl"
           }
          ],
          "scattermapbox": [
           {
            "marker": {
             "colorbar": {
              "outlinewidth": 0,
              "ticks": ""
             }
            },
            "type": "scattermapbox"
           }
          ],
          "scatterpolar": [
           {
            "marker": {
             "colorbar": {
              "outlinewidth": 0,
              "ticks": ""
             }
            },
            "type": "scatterpolar"
           }
          ],
          "scatterpolargl": [
           {
            "marker": {
             "colorbar": {
              "outlinewidth": 0,
              "ticks": ""
             }
            },
            "type": "scatterpolargl"
           }
          ],
          "scatterternary": [
           {
            "marker": {
             "colorbar": {
              "outlinewidth": 0,
              "ticks": ""
             }
            },
            "type": "scatterternary"
           }
          ],
          "surface": [
           {
            "colorbar": {
             "outlinewidth": 0,
             "ticks": ""
            },
            "colorscale": [
             [
              0,
              "#0d0887"
             ],
             [
              0.1111111111111111,
              "#46039f"
             ],
             [
              0.2222222222222222,
              "#7201a8"
             ],
             [
              0.3333333333333333,
              "#9c179e"
             ],
             [
              0.4444444444444444,
              "#bd3786"
             ],
             [
              0.5555555555555556,
              "#d8576b"
             ],
             [
              0.6666666666666666,
              "#ed7953"
             ],
             [
              0.7777777777777778,
              "#fb9f3a"
             ],
             [
              0.8888888888888888,
              "#fdca26"
             ],
             [
              1,
              "#f0f921"
             ]
            ],
            "type": "surface"
           }
          ],
          "table": [
           {
            "cells": {
             "fill": {
              "color": "#EBF0F8"
             },
             "line": {
              "color": "white"
             }
            },
            "header": {
             "fill": {
              "color": "#C8D4E3"
             },
             "line": {
              "color": "white"
             }
            },
            "type": "table"
           }
          ]
         },
         "layout": {
          "annotationdefaults": {
           "arrowcolor": "#2a3f5f",
           "arrowhead": 0,
           "arrowwidth": 1
          },
          "autotypenumbers": "strict",
          "coloraxis": {
           "colorbar": {
            "outlinewidth": 0,
            "ticks": ""
           }
          },
          "colorscale": {
           "diverging": [
            [
             0,
             "#8e0152"
            ],
            [
             0.1,
             "#c51b7d"
            ],
            [
             0.2,
             "#de77ae"
            ],
            [
             0.3,
             "#f1b6da"
            ],
            [
             0.4,
             "#fde0ef"
            ],
            [
             0.5,
             "#f7f7f7"
            ],
            [
             0.6,
             "#e6f5d0"
            ],
            [
             0.7,
             "#b8e186"
            ],
            [
             0.8,
             "#7fbc41"
            ],
            [
             0.9,
             "#4d9221"
            ],
            [
             1,
             "#276419"
            ]
           ],
           "sequential": [
            [
             0,
             "#0d0887"
            ],
            [
             0.1111111111111111,
             "#46039f"
            ],
            [
             0.2222222222222222,
             "#7201a8"
            ],
            [
             0.3333333333333333,
             "#9c179e"
            ],
            [
             0.4444444444444444,
             "#bd3786"
            ],
            [
             0.5555555555555556,
             "#d8576b"
            ],
            [
             0.6666666666666666,
             "#ed7953"
            ],
            [
             0.7777777777777778,
             "#fb9f3a"
            ],
            [
             0.8888888888888888,
             "#fdca26"
            ],
            [
             1,
             "#f0f921"
            ]
           ],
           "sequentialminus": [
            [
             0,
             "#0d0887"
            ],
            [
             0.1111111111111111,
             "#46039f"
            ],
            [
             0.2222222222222222,
             "#7201a8"
            ],
            [
             0.3333333333333333,
             "#9c179e"
            ],
            [
             0.4444444444444444,
             "#bd3786"
            ],
            [
             0.5555555555555556,
             "#d8576b"
            ],
            [
             0.6666666666666666,
             "#ed7953"
            ],
            [
             0.7777777777777778,
             "#fb9f3a"
            ],
            [
             0.8888888888888888,
             "#fdca26"
            ],
            [
             1,
             "#f0f921"
            ]
           ]
          },
          "colorway": [
           "#636efa",
           "#EF553B",
           "#00cc96",
           "#ab63fa",
           "#FFA15A",
           "#19d3f3",
           "#FF6692",
           "#B6E880",
           "#FF97FF",
           "#FECB52"
          ],
          "font": {
           "color": "#2a3f5f"
          },
          "geo": {
           "bgcolor": "white",
           "lakecolor": "white",
           "landcolor": "#E5ECF6",
           "showlakes": true,
           "showland": true,
           "subunitcolor": "white"
          },
          "hoverlabel": {
           "align": "left"
          },
          "hovermode": "closest",
          "mapbox": {
           "style": "light"
          },
          "paper_bgcolor": "white",
          "plot_bgcolor": "#E5ECF6",
          "polar": {
           "angularaxis": {
            "gridcolor": "white",
            "linecolor": "white",
            "ticks": ""
           },
           "bgcolor": "#E5ECF6",
           "radialaxis": {
            "gridcolor": "white",
            "linecolor": "white",
            "ticks": ""
           }
          },
          "scene": {
           "xaxis": {
            "backgroundcolor": "#E5ECF6",
            "gridcolor": "white",
            "gridwidth": 2,
            "linecolor": "white",
            "showbackground": true,
            "ticks": "",
            "zerolinecolor": "white"
           },
           "yaxis": {
            "backgroundcolor": "#E5ECF6",
            "gridcolor": "white",
            "gridwidth": 2,
            "linecolor": "white",
            "showbackground": true,
            "ticks": "",
            "zerolinecolor": "white"
           },
           "zaxis": {
            "backgroundcolor": "#E5ECF6",
            "gridcolor": "white",
            "gridwidth": 2,
            "linecolor": "white",
            "showbackground": true,
            "ticks": "",
            "zerolinecolor": "white"
           }
          },
          "shapedefaults": {
           "line": {
            "color": "#2a3f5f"
           }
          },
          "ternary": {
           "aaxis": {
            "gridcolor": "white",
            "linecolor": "white",
            "ticks": ""
           },
           "baxis": {
            "gridcolor": "white",
            "linecolor": "white",
            "ticks": ""
           },
           "bgcolor": "#E5ECF6",
           "caxis": {
            "gridcolor": "white",
            "linecolor": "white",
            "ticks": ""
           }
          },
          "title": {
           "x": 0.05
          },
          "xaxis": {
           "automargin": true,
           "gridcolor": "white",
           "linecolor": "white",
           "ticks": "",
           "title": {
            "standoff": 15
           },
           "zerolinecolor": "white",
           "zerolinewidth": 2
          },
          "yaxis": {
           "automargin": true,
           "gridcolor": "white",
           "linecolor": "white",
           "ticks": "",
           "title": {
            "standoff": 15
           },
           "zerolinecolor": "white",
           "zerolinewidth": 2
          }
         }
        },
        "title": {
         "text": "Heatmap of connection between allegiances"
        },
        "xaxis": {
         "anchor": "y",
         "constrain": "domain",
         "domain": [
          0,
          1
         ],
         "scaleanchor": "y"
        },
        "yaxis": {
         "anchor": "x",
         "autorange": "reversed",
         "constrain": "domain",
         "domain": [
          0,
          1
         ]
        }
       }
      }
     },
     "metadata": {},
     "output_type": "display_data"
    }
   ],
   "source": [
    "def most_connected_on_attribute(att, n, restrict = False):\n",
    "    attribute = nx.get_node_attributes(G,att)\n",
    "\n",
    "    # Get connection between houses and also find most connected houses: \n",
    "    connection_dict = {}\n",
    "    house_connection = {}\n",
    "    for ef, et in list(G.edges()):\n",
    "        a_from = attribute[ef]\n",
    "        a_to = attribute[et]\n",
    "        \n",
    "        if a_from == \"\": continue\n",
    "        if a_to == \"\" : continue\n",
    "        if \"No known\" in a_from: continue\n",
    "        if \"No known\" in a_to: continue\n",
    "        if a_from in connection_dict.keys():\n",
    "            house_connection[a_from] += 1\n",
    "            if a_to in connection_dict[a_from]:\n",
    "                connection_dict[a_from][a_to] += 1\n",
    "            else:\n",
    "                connection_dict[a_from][a_to] = 1\n",
    "        else:\n",
    "            house_connection[a_from] = 1\n",
    "            connection_dict[a_from] = {a_to : 1}\n",
    "    most_connected_houses = sorted(house_connection, key = lambda i: house_connection[i],reverse = True)[:n]\n",
    "    tmp = [[house, house_connection[house]] for house in most_connected_houses]\n",
    "    df_count = pd.DataFrame(tmp, columns = [att.capitalize(), 'Count'])\n",
    "    fig_count = px.bar(df_count, x = att.capitalize(), y = 'Count', title = \"Most connected \"+ att)\n",
    "    \n",
    "    df_connection = pd.DataFrame.from_dict(connection_dict)\n",
    "    df_connection = df_connection.fillna(0)\n",
    "\n",
    "    if restrict:\n",
    "        df_connection = df_connection.loc[most_connected_houses,most_connected_houses]\n",
    "        \n",
    "    fig_heatmap = px.imshow(df_connection, title = \"Heatmap of connection between \" + str(att)+\"s\")\n",
    "\n",
    "    return fig_count, df_count, fig_heatmap, df_connection\n",
    "    \n",
    "fig_count, df_count, fig_heatmap, df_connection = most_connected_on_attribute(\"allegiance\",8 ,True)\n",
    "fig_heatmap.show()"
   ]
  },
  {
   "cell_type": "markdown",
   "metadata": {
    "cell_id": "00021-02cb8784-719a-48e1-942a-98b5d090029e",
    "deepnote_cell_type": "markdown",
    "tags": []
   },
   "source": [
    "The figure above shows the top 10 most connected allegiances in Game Of Thrones, and it can clearly be seen that *House Stark* is the most connected allegiance, but a lot of the connectivity derives from the interaction with their own allegiance. Further, it can be seen that *House Stark* is well connected with *House Lannister*, *Night's Watch* and *House Bolton*. The connection with *House Lannister* and *Night's Watch* can easily be explained by eg. *Ned Starks'* work as the Kings Hand but also *Sansa Stark* being married with Joffrey. Further, *Jon Snow* from the *House Stark* allegiance are becoming part of *Night's Watch* can explain this interaction.\n",
    "\n",
    "Generally, it can also be seen that the allegiances interacts with it-self most, compared to interaction with other allegiances. \n",
    "\n",
    "Next, we will look into how the religions interact, and from the figure below, it can clearly be seen that the two main religions are the religions that mainly interact with each other, which does not come as a surprise. "
   ]
  },
  {
   "cell_type": "code",
   "execution_count": 12,
   "metadata": {
    "cell_id": "00022-25099508-8882-4a18-a874-85464b0bc3a6",
    "deepnote_cell_type": "code",
    "deepnote_output_heights": [
     527
    ],
    "deepnote_to_be_reexecuted": false,
    "execution_millis": 330,
    "execution_start": 1638443905346,
    "source_hash": "45b80049",
    "tags": []
   },
   "outputs": [
    {
     "data": {
      "application/vnd.plotly.v1+json": {
       "config": {
        "plotlyServerURL": "https://plot.ly"
       },
       "data": [
        {
         "coloraxis": "coloraxis",
         "hovertemplate": "x: %{x}<br>y: %{y}<br>color: %{z}<extra></extra>",
         "name": "0",
         "type": "heatmap",
         "x": [
          "Faith of the Seven",
          "Old Gods of the Forest",
          "R'hllor, the Lord of Light",
          "Drowned God",
          "Great Stallion"
         ],
         "xaxis": "x",
         "y": [
          "Faith of the Seven",
          "Old Gods of the Forest",
          "R'hllor, the Lord of Light",
          "Drowned God",
          "Great Stallion"
         ],
         "yaxis": "y",
         "z": [
          [
           269,
           121,
           25,
           21,
           14
          ],
          [
           109,
           181,
           25,
           27,
           8
          ],
          [
           26,
           32,
           20,
           5,
           1
          ],
          [
           19,
           15,
           1,
           17,
           0
          ],
          [
           12,
           7,
           1,
           0,
           16
          ]
         ]
        }
       ],
       "layout": {
        "coloraxis": {
         "colorscale": [
          [
           0,
           "#0d0887"
          ],
          [
           0.1111111111111111,
           "#46039f"
          ],
          [
           0.2222222222222222,
           "#7201a8"
          ],
          [
           0.3333333333333333,
           "#9c179e"
          ],
          [
           0.4444444444444444,
           "#bd3786"
          ],
          [
           0.5555555555555556,
           "#d8576b"
          ],
          [
           0.6666666666666666,
           "#ed7953"
          ],
          [
           0.7777777777777778,
           "#fb9f3a"
          ],
          [
           0.8888888888888888,
           "#fdca26"
          ],
          [
           1,
           "#f0f921"
          ]
         ]
        },
        "template": {
         "data": {
          "bar": [
           {
            "error_x": {
             "color": "#2a3f5f"
            },
            "error_y": {
             "color": "#2a3f5f"
            },
            "marker": {
             "line": {
              "color": "#E5ECF6",
              "width": 0.5
             },
             "pattern": {
              "fillmode": "overlay",
              "size": 10,
              "solidity": 0.2
             }
            },
            "type": "bar"
           }
          ],
          "barpolar": [
           {
            "marker": {
             "line": {
              "color": "#E5ECF6",
              "width": 0.5
             },
             "pattern": {
              "fillmode": "overlay",
              "size": 10,
              "solidity": 0.2
             }
            },
            "type": "barpolar"
           }
          ],
          "carpet": [
           {
            "aaxis": {
             "endlinecolor": "#2a3f5f",
             "gridcolor": "white",
             "linecolor": "white",
             "minorgridcolor": "white",
             "startlinecolor": "#2a3f5f"
            },
            "baxis": {
             "endlinecolor": "#2a3f5f",
             "gridcolor": "white",
             "linecolor": "white",
             "minorgridcolor": "white",
             "startlinecolor": "#2a3f5f"
            },
            "type": "carpet"
           }
          ],
          "choropleth": [
           {
            "colorbar": {
             "outlinewidth": 0,
             "ticks": ""
            },
            "type": "choropleth"
           }
          ],
          "contour": [
           {
            "colorbar": {
             "outlinewidth": 0,
             "ticks": ""
            },
            "colorscale": [
             [
              0,
              "#0d0887"
             ],
             [
              0.1111111111111111,
              "#46039f"
             ],
             [
              0.2222222222222222,
              "#7201a8"
             ],
             [
              0.3333333333333333,
              "#9c179e"
             ],
             [
              0.4444444444444444,
              "#bd3786"
             ],
             [
              0.5555555555555556,
              "#d8576b"
             ],
             [
              0.6666666666666666,
              "#ed7953"
             ],
             [
              0.7777777777777778,
              "#fb9f3a"
             ],
             [
              0.8888888888888888,
              "#fdca26"
             ],
             [
              1,
              "#f0f921"
             ]
            ],
            "type": "contour"
           }
          ],
          "contourcarpet": [
           {
            "colorbar": {
             "outlinewidth": 0,
             "ticks": ""
            },
            "type": "contourcarpet"
           }
          ],
          "heatmap": [
           {
            "colorbar": {
             "outlinewidth": 0,
             "ticks": ""
            },
            "colorscale": [
             [
              0,
              "#0d0887"
             ],
             [
              0.1111111111111111,
              "#46039f"
             ],
             [
              0.2222222222222222,
              "#7201a8"
             ],
             [
              0.3333333333333333,
              "#9c179e"
             ],
             [
              0.4444444444444444,
              "#bd3786"
             ],
             [
              0.5555555555555556,
              "#d8576b"
             ],
             [
              0.6666666666666666,
              "#ed7953"
             ],
             [
              0.7777777777777778,
              "#fb9f3a"
             ],
             [
              0.8888888888888888,
              "#fdca26"
             ],
             [
              1,
              "#f0f921"
             ]
            ],
            "type": "heatmap"
           }
          ],
          "heatmapgl": [
           {
            "colorbar": {
             "outlinewidth": 0,
             "ticks": ""
            },
            "colorscale": [
             [
              0,
              "#0d0887"
             ],
             [
              0.1111111111111111,
              "#46039f"
             ],
             [
              0.2222222222222222,
              "#7201a8"
             ],
             [
              0.3333333333333333,
              "#9c179e"
             ],
             [
              0.4444444444444444,
              "#bd3786"
             ],
             [
              0.5555555555555556,
              "#d8576b"
             ],
             [
              0.6666666666666666,
              "#ed7953"
             ],
             [
              0.7777777777777778,
              "#fb9f3a"
             ],
             [
              0.8888888888888888,
              "#fdca26"
             ],
             [
              1,
              "#f0f921"
             ]
            ],
            "type": "heatmapgl"
           }
          ],
          "histogram": [
           {
            "marker": {
             "pattern": {
              "fillmode": "overlay",
              "size": 10,
              "solidity": 0.2
             }
            },
            "type": "histogram"
           }
          ],
          "histogram2d": [
           {
            "colorbar": {
             "outlinewidth": 0,
             "ticks": ""
            },
            "colorscale": [
             [
              0,
              "#0d0887"
             ],
             [
              0.1111111111111111,
              "#46039f"
             ],
             [
              0.2222222222222222,
              "#7201a8"
             ],
             [
              0.3333333333333333,
              "#9c179e"
             ],
             [
              0.4444444444444444,
              "#bd3786"
             ],
             [
              0.5555555555555556,
              "#d8576b"
             ],
             [
              0.6666666666666666,
              "#ed7953"
             ],
             [
              0.7777777777777778,
              "#fb9f3a"
             ],
             [
              0.8888888888888888,
              "#fdca26"
             ],
             [
              1,
              "#f0f921"
             ]
            ],
            "type": "histogram2d"
           }
          ],
          "histogram2dcontour": [
           {
            "colorbar": {
             "outlinewidth": 0,
             "ticks": ""
            },
            "colorscale": [
             [
              0,
              "#0d0887"
             ],
             [
              0.1111111111111111,
              "#46039f"
             ],
             [
              0.2222222222222222,
              "#7201a8"
             ],
             [
              0.3333333333333333,
              "#9c179e"
             ],
             [
              0.4444444444444444,
              "#bd3786"
             ],
             [
              0.5555555555555556,
              "#d8576b"
             ],
             [
              0.6666666666666666,
              "#ed7953"
             ],
             [
              0.7777777777777778,
              "#fb9f3a"
             ],
             [
              0.8888888888888888,
              "#fdca26"
             ],
             [
              1,
              "#f0f921"
             ]
            ],
            "type": "histogram2dcontour"
           }
          ],
          "mesh3d": [
           {
            "colorbar": {
             "outlinewidth": 0,
             "ticks": ""
            },
            "type": "mesh3d"
           }
          ],
          "parcoords": [
           {
            "line": {
             "colorbar": {
              "outlinewidth": 0,
              "ticks": ""
             }
            },
            "type": "parcoords"
           }
          ],
          "pie": [
           {
            "automargin": true,
            "type": "pie"
           }
          ],
          "scatter": [
           {
            "marker": {
             "colorbar": {
              "outlinewidth": 0,
              "ticks": ""
             }
            },
            "type": "scatter"
           }
          ],
          "scatter3d": [
           {
            "line": {
             "colorbar": {
              "outlinewidth": 0,
              "ticks": ""
             }
            },
            "marker": {
             "colorbar": {
              "outlinewidth": 0,
              "ticks": ""
             }
            },
            "type": "scatter3d"
           }
          ],
          "scattercarpet": [
           {
            "marker": {
             "colorbar": {
              "outlinewidth": 0,
              "ticks": ""
             }
            },
            "type": "scattercarpet"
           }
          ],
          "scattergeo": [
           {
            "marker": {
             "colorbar": {
              "outlinewidth": 0,
              "ticks": ""
             }
            },
            "type": "scattergeo"
           }
          ],
          "scattergl": [
           {
            "marker": {
             "colorbar": {
              "outlinewidth": 0,
              "ticks": ""
             }
            },
            "type": "scattergl"
           }
          ],
          "scattermapbox": [
           {
            "marker": {
             "colorbar": {
              "outlinewidth": 0,
              "ticks": ""
             }
            },
            "type": "scattermapbox"
           }
          ],
          "scatterpolar": [
           {
            "marker": {
             "colorbar": {
              "outlinewidth": 0,
              "ticks": ""
             }
            },
            "type": "scatterpolar"
           }
          ],
          "scatterpolargl": [
           {
            "marker": {
             "colorbar": {
              "outlinewidth": 0,
              "ticks": ""
             }
            },
            "type": "scatterpolargl"
           }
          ],
          "scatterternary": [
           {
            "marker": {
             "colorbar": {
              "outlinewidth": 0,
              "ticks": ""
             }
            },
            "type": "scatterternary"
           }
          ],
          "surface": [
           {
            "colorbar": {
             "outlinewidth": 0,
             "ticks": ""
            },
            "colorscale": [
             [
              0,
              "#0d0887"
             ],
             [
              0.1111111111111111,
              "#46039f"
             ],
             [
              0.2222222222222222,
              "#7201a8"
             ],
             [
              0.3333333333333333,
              "#9c179e"
             ],
             [
              0.4444444444444444,
              "#bd3786"
             ],
             [
              0.5555555555555556,
              "#d8576b"
             ],
             [
              0.6666666666666666,
              "#ed7953"
             ],
             [
              0.7777777777777778,
              "#fb9f3a"
             ],
             [
              0.8888888888888888,
              "#fdca26"
             ],
             [
              1,
              "#f0f921"
             ]
            ],
            "type": "surface"
           }
          ],
          "table": [
           {
            "cells": {
             "fill": {
              "color": "#EBF0F8"
             },
             "line": {
              "color": "white"
             }
            },
            "header": {
             "fill": {
              "color": "#C8D4E3"
             },
             "line": {
              "color": "white"
             }
            },
            "type": "table"
           }
          ]
         },
         "layout": {
          "annotationdefaults": {
           "arrowcolor": "#2a3f5f",
           "arrowhead": 0,
           "arrowwidth": 1
          },
          "autotypenumbers": "strict",
          "coloraxis": {
           "colorbar": {
            "outlinewidth": 0,
            "ticks": ""
           }
          },
          "colorscale": {
           "diverging": [
            [
             0,
             "#8e0152"
            ],
            [
             0.1,
             "#c51b7d"
            ],
            [
             0.2,
             "#de77ae"
            ],
            [
             0.3,
             "#f1b6da"
            ],
            [
             0.4,
             "#fde0ef"
            ],
            [
             0.5,
             "#f7f7f7"
            ],
            [
             0.6,
             "#e6f5d0"
            ],
            [
             0.7,
             "#b8e186"
            ],
            [
             0.8,
             "#7fbc41"
            ],
            [
             0.9,
             "#4d9221"
            ],
            [
             1,
             "#276419"
            ]
           ],
           "sequential": [
            [
             0,
             "#0d0887"
            ],
            [
             0.1111111111111111,
             "#46039f"
            ],
            [
             0.2222222222222222,
             "#7201a8"
            ],
            [
             0.3333333333333333,
             "#9c179e"
            ],
            [
             0.4444444444444444,
             "#bd3786"
            ],
            [
             0.5555555555555556,
             "#d8576b"
            ],
            [
             0.6666666666666666,
             "#ed7953"
            ],
            [
             0.7777777777777778,
             "#fb9f3a"
            ],
            [
             0.8888888888888888,
             "#fdca26"
            ],
            [
             1,
             "#f0f921"
            ]
           ],
           "sequentialminus": [
            [
             0,
             "#0d0887"
            ],
            [
             0.1111111111111111,
             "#46039f"
            ],
            [
             0.2222222222222222,
             "#7201a8"
            ],
            [
             0.3333333333333333,
             "#9c179e"
            ],
            [
             0.4444444444444444,
             "#bd3786"
            ],
            [
             0.5555555555555556,
             "#d8576b"
            ],
            [
             0.6666666666666666,
             "#ed7953"
            ],
            [
             0.7777777777777778,
             "#fb9f3a"
            ],
            [
             0.8888888888888888,
             "#fdca26"
            ],
            [
             1,
             "#f0f921"
            ]
           ]
          },
          "colorway": [
           "#636efa",
           "#EF553B",
           "#00cc96",
           "#ab63fa",
           "#FFA15A",
           "#19d3f3",
           "#FF6692",
           "#B6E880",
           "#FF97FF",
           "#FECB52"
          ],
          "font": {
           "color": "#2a3f5f"
          },
          "geo": {
           "bgcolor": "white",
           "lakecolor": "white",
           "landcolor": "#E5ECF6",
           "showlakes": true,
           "showland": true,
           "subunitcolor": "white"
          },
          "hoverlabel": {
           "align": "left"
          },
          "hovermode": "closest",
          "mapbox": {
           "style": "light"
          },
          "paper_bgcolor": "white",
          "plot_bgcolor": "#E5ECF6",
          "polar": {
           "angularaxis": {
            "gridcolor": "white",
            "linecolor": "white",
            "ticks": ""
           },
           "bgcolor": "#E5ECF6",
           "radialaxis": {
            "gridcolor": "white",
            "linecolor": "white",
            "ticks": ""
           }
          },
          "scene": {
           "xaxis": {
            "backgroundcolor": "#E5ECF6",
            "gridcolor": "white",
            "gridwidth": 2,
            "linecolor": "white",
            "showbackground": true,
            "ticks": "",
            "zerolinecolor": "white"
           },
           "yaxis": {
            "backgroundcolor": "#E5ECF6",
            "gridcolor": "white",
            "gridwidth": 2,
            "linecolor": "white",
            "showbackground": true,
            "ticks": "",
            "zerolinecolor": "white"
           },
           "zaxis": {
            "backgroundcolor": "#E5ECF6",
            "gridcolor": "white",
            "gridwidth": 2,
            "linecolor": "white",
            "showbackground": true,
            "ticks": "",
            "zerolinecolor": "white"
           }
          },
          "shapedefaults": {
           "line": {
            "color": "#2a3f5f"
           }
          },
          "ternary": {
           "aaxis": {
            "gridcolor": "white",
            "linecolor": "white",
            "ticks": ""
           },
           "baxis": {
            "gridcolor": "white",
            "linecolor": "white",
            "ticks": ""
           },
           "bgcolor": "#E5ECF6",
           "caxis": {
            "gridcolor": "white",
            "linecolor": "white",
            "ticks": ""
           }
          },
          "title": {
           "x": 0.05
          },
          "xaxis": {
           "automargin": true,
           "gridcolor": "white",
           "linecolor": "white",
           "ticks": "",
           "title": {
            "standoff": 15
           },
           "zerolinecolor": "white",
           "zerolinewidth": 2
          },
          "yaxis": {
           "automargin": true,
           "gridcolor": "white",
           "linecolor": "white",
           "ticks": "",
           "title": {
            "standoff": 15
           },
           "zerolinecolor": "white",
           "zerolinewidth": 2
          }
         }
        },
        "title": {
         "text": "Heatmap of connection between religions"
        },
        "xaxis": {
         "anchor": "y",
         "constrain": "domain",
         "domain": [
          0,
          1
         ],
         "scaleanchor": "y"
        },
        "yaxis": {
         "anchor": "x",
         "autorange": "reversed",
         "constrain": "domain",
         "domain": [
          0,
          1
         ]
        }
       }
      }
     },
     "metadata": {},
     "output_type": "display_data"
    }
   ],
   "source": [
    "fig_count, df_count, fig_heatmap, df_connection = most_connected_on_attribute(\"religion\",5 ,True)\n",
    "fig_heatmap.show()"
   ]
  },
  {
   "cell_type": "markdown",
   "metadata": {
    "cell_id": "00023-191af899-2659-42be-9204-3c436201da9b",
    "deepnote_cell_type": "markdown",
    "tags": []
   },
   "source": [
    "In the figure below, the connection between cultures are investigated. Here it can be seen that the *Andals* are the most connected culture, followed by *Northmen*. Furthermore, it can be seen that these two cultures interact alot. \n",
    "\n",
    "It can be seen that the third most connected culture is *Valyrians* which does not mainly interact with themselves, but instead are most connected to *Andals*. "
   ]
  },
  {
   "cell_type": "code",
   "execution_count": 13,
   "metadata": {
    "cell_id": "00023-86634694-f16e-40fe-a173-c4f610df183a",
    "deepnote_cell_type": "code",
    "deepnote_output_heights": [
     527
    ],
    "deepnote_to_be_reexecuted": false,
    "execution_millis": 290,
    "execution_start": 1638443932026,
    "source_hash": "6378fe2",
    "tags": []
   },
   "outputs": [
    {
     "data": {
      "application/vnd.plotly.v1+json": {
       "config": {
        "plotlyServerURL": "https://plot.ly"
       },
       "data": [
        {
         "coloraxis": "coloraxis",
         "hovertemplate": "x: %{x}<br>y: %{y}<br>color: %{z}<extra></extra>",
         "name": "0",
         "type": "heatmap",
         "x": [
          "Andals",
          "Northmen",
          "Ironborn"
         ],
         "xaxis": "x",
         "y": [
          "Andals",
          "Northmen",
          "Ironborn"
         ],
         "yaxis": "y",
         "z": [
          [
           628,
           234,
           25
          ],
          [
           257,
           222,
           37
          ],
          [
           26,
           26,
           25
          ]
         ]
        }
       ],
       "layout": {
        "coloraxis": {
         "colorscale": [
          [
           0,
           "#0d0887"
          ],
          [
           0.1111111111111111,
           "#46039f"
          ],
          [
           0.2222222222222222,
           "#7201a8"
          ],
          [
           0.3333333333333333,
           "#9c179e"
          ],
          [
           0.4444444444444444,
           "#bd3786"
          ],
          [
           0.5555555555555556,
           "#d8576b"
          ],
          [
           0.6666666666666666,
           "#ed7953"
          ],
          [
           0.7777777777777778,
           "#fb9f3a"
          ],
          [
           0.8888888888888888,
           "#fdca26"
          ],
          [
           1,
           "#f0f921"
          ]
         ]
        },
        "template": {
         "data": {
          "bar": [
           {
            "error_x": {
             "color": "#2a3f5f"
            },
            "error_y": {
             "color": "#2a3f5f"
            },
            "marker": {
             "line": {
              "color": "#E5ECF6",
              "width": 0.5
             },
             "pattern": {
              "fillmode": "overlay",
              "size": 10,
              "solidity": 0.2
             }
            },
            "type": "bar"
           }
          ],
          "barpolar": [
           {
            "marker": {
             "line": {
              "color": "#E5ECF6",
              "width": 0.5
             },
             "pattern": {
              "fillmode": "overlay",
              "size": 10,
              "solidity": 0.2
             }
            },
            "type": "barpolar"
           }
          ],
          "carpet": [
           {
            "aaxis": {
             "endlinecolor": "#2a3f5f",
             "gridcolor": "white",
             "linecolor": "white",
             "minorgridcolor": "white",
             "startlinecolor": "#2a3f5f"
            },
            "baxis": {
             "endlinecolor": "#2a3f5f",
             "gridcolor": "white",
             "linecolor": "white",
             "minorgridcolor": "white",
             "startlinecolor": "#2a3f5f"
            },
            "type": "carpet"
           }
          ],
          "choropleth": [
           {
            "colorbar": {
             "outlinewidth": 0,
             "ticks": ""
            },
            "type": "choropleth"
           }
          ],
          "contour": [
           {
            "colorbar": {
             "outlinewidth": 0,
             "ticks": ""
            },
            "colorscale": [
             [
              0,
              "#0d0887"
             ],
             [
              0.1111111111111111,
              "#46039f"
             ],
             [
              0.2222222222222222,
              "#7201a8"
             ],
             [
              0.3333333333333333,
              "#9c179e"
             ],
             [
              0.4444444444444444,
              "#bd3786"
             ],
             [
              0.5555555555555556,
              "#d8576b"
             ],
             [
              0.6666666666666666,
              "#ed7953"
             ],
             [
              0.7777777777777778,
              "#fb9f3a"
             ],
             [
              0.8888888888888888,
              "#fdca26"
             ],
             [
              1,
              "#f0f921"
             ]
            ],
            "type": "contour"
           }
          ],
          "contourcarpet": [
           {
            "colorbar": {
             "outlinewidth": 0,
             "ticks": ""
            },
            "type": "contourcarpet"
           }
          ],
          "heatmap": [
           {
            "colorbar": {
             "outlinewidth": 0,
             "ticks": ""
            },
            "colorscale": [
             [
              0,
              "#0d0887"
             ],
             [
              0.1111111111111111,
              "#46039f"
             ],
             [
              0.2222222222222222,
              "#7201a8"
             ],
             [
              0.3333333333333333,
              "#9c179e"
             ],
             [
              0.4444444444444444,
              "#bd3786"
             ],
             [
              0.5555555555555556,
              "#d8576b"
             ],
             [
              0.6666666666666666,
              "#ed7953"
             ],
             [
              0.7777777777777778,
              "#fb9f3a"
             ],
             [
              0.8888888888888888,
              "#fdca26"
             ],
             [
              1,
              "#f0f921"
             ]
            ],
            "type": "heatmap"
           }
          ],
          "heatmapgl": [
           {
            "colorbar": {
             "outlinewidth": 0,
             "ticks": ""
            },
            "colorscale": [
             [
              0,
              "#0d0887"
             ],
             [
              0.1111111111111111,
              "#46039f"
             ],
             [
              0.2222222222222222,
              "#7201a8"
             ],
             [
              0.3333333333333333,
              "#9c179e"
             ],
             [
              0.4444444444444444,
              "#bd3786"
             ],
             [
              0.5555555555555556,
              "#d8576b"
             ],
             [
              0.6666666666666666,
              "#ed7953"
             ],
             [
              0.7777777777777778,
              "#fb9f3a"
             ],
             [
              0.8888888888888888,
              "#fdca26"
             ],
             [
              1,
              "#f0f921"
             ]
            ],
            "type": "heatmapgl"
           }
          ],
          "histogram": [
           {
            "marker": {
             "pattern": {
              "fillmode": "overlay",
              "size": 10,
              "solidity": 0.2
             }
            },
            "type": "histogram"
           }
          ],
          "histogram2d": [
           {
            "colorbar": {
             "outlinewidth": 0,
             "ticks": ""
            },
            "colorscale": [
             [
              0,
              "#0d0887"
             ],
             [
              0.1111111111111111,
              "#46039f"
             ],
             [
              0.2222222222222222,
              "#7201a8"
             ],
             [
              0.3333333333333333,
              "#9c179e"
             ],
             [
              0.4444444444444444,
              "#bd3786"
             ],
             [
              0.5555555555555556,
              "#d8576b"
             ],
             [
              0.6666666666666666,
              "#ed7953"
             ],
             [
              0.7777777777777778,
              "#fb9f3a"
             ],
             [
              0.8888888888888888,
              "#fdca26"
             ],
             [
              1,
              "#f0f921"
             ]
            ],
            "type": "histogram2d"
           }
          ],
          "histogram2dcontour": [
           {
            "colorbar": {
             "outlinewidth": 0,
             "ticks": ""
            },
            "colorscale": [
             [
              0,
              "#0d0887"
             ],
             [
              0.1111111111111111,
              "#46039f"
             ],
             [
              0.2222222222222222,
              "#7201a8"
             ],
             [
              0.3333333333333333,
              "#9c179e"
             ],
             [
              0.4444444444444444,
              "#bd3786"
             ],
             [
              0.5555555555555556,
              "#d8576b"
             ],
             [
              0.6666666666666666,
              "#ed7953"
             ],
             [
              0.7777777777777778,
              "#fb9f3a"
             ],
             [
              0.8888888888888888,
              "#fdca26"
             ],
             [
              1,
              "#f0f921"
             ]
            ],
            "type": "histogram2dcontour"
           }
          ],
          "mesh3d": [
           {
            "colorbar": {
             "outlinewidth": 0,
             "ticks": ""
            },
            "type": "mesh3d"
           }
          ],
          "parcoords": [
           {
            "line": {
             "colorbar": {
              "outlinewidth": 0,
              "ticks": ""
             }
            },
            "type": "parcoords"
           }
          ],
          "pie": [
           {
            "automargin": true,
            "type": "pie"
           }
          ],
          "scatter": [
           {
            "marker": {
             "colorbar": {
              "outlinewidth": 0,
              "ticks": ""
             }
            },
            "type": "scatter"
           }
          ],
          "scatter3d": [
           {
            "line": {
             "colorbar": {
              "outlinewidth": 0,
              "ticks": ""
             }
            },
            "marker": {
             "colorbar": {
              "outlinewidth": 0,
              "ticks": ""
             }
            },
            "type": "scatter3d"
           }
          ],
          "scattercarpet": [
           {
            "marker": {
             "colorbar": {
              "outlinewidth": 0,
              "ticks": ""
             }
            },
            "type": "scattercarpet"
           }
          ],
          "scattergeo": [
           {
            "marker": {
             "colorbar": {
              "outlinewidth": 0,
              "ticks": ""
             }
            },
            "type": "scattergeo"
           }
          ],
          "scattergl": [
           {
            "marker": {
             "colorbar": {
              "outlinewidth": 0,
              "ticks": ""
             }
            },
            "type": "scattergl"
           }
          ],
          "scattermapbox": [
           {
            "marker": {
             "colorbar": {
              "outlinewidth": 0,
              "ticks": ""
             }
            },
            "type": "scattermapbox"
           }
          ],
          "scatterpolar": [
           {
            "marker": {
             "colorbar": {
              "outlinewidth": 0,
              "ticks": ""
             }
            },
            "type": "scatterpolar"
           }
          ],
          "scatterpolargl": [
           {
            "marker": {
             "colorbar": {
              "outlinewidth": 0,
              "ticks": ""
             }
            },
            "type": "scatterpolargl"
           }
          ],
          "scatterternary": [
           {
            "marker": {
             "colorbar": {
              "outlinewidth": 0,
              "ticks": ""
             }
            },
            "type": "scatterternary"
           }
          ],
          "surface": [
           {
            "colorbar": {
             "outlinewidth": 0,
             "ticks": ""
            },
            "colorscale": [
             [
              0,
              "#0d0887"
             ],
             [
              0.1111111111111111,
              "#46039f"
             ],
             [
              0.2222222222222222,
              "#7201a8"
             ],
             [
              0.3333333333333333,
              "#9c179e"
             ],
             [
              0.4444444444444444,
              "#bd3786"
             ],
             [
              0.5555555555555556,
              "#d8576b"
             ],
             [
              0.6666666666666666,
              "#ed7953"
             ],
             [
              0.7777777777777778,
              "#fb9f3a"
             ],
             [
              0.8888888888888888,
              "#fdca26"
             ],
             [
              1,
              "#f0f921"
             ]
            ],
            "type": "surface"
           }
          ],
          "table": [
           {
            "cells": {
             "fill": {
              "color": "#EBF0F8"
             },
             "line": {
              "color": "white"
             }
            },
            "header": {
             "fill": {
              "color": "#C8D4E3"
             },
             "line": {
              "color": "white"
             }
            },
            "type": "table"
           }
          ]
         },
         "layout": {
          "annotationdefaults": {
           "arrowcolor": "#2a3f5f",
           "arrowhead": 0,
           "arrowwidth": 1
          },
          "autotypenumbers": "strict",
          "coloraxis": {
           "colorbar": {
            "outlinewidth": 0,
            "ticks": ""
           }
          },
          "colorscale": {
           "diverging": [
            [
             0,
             "#8e0152"
            ],
            [
             0.1,
             "#c51b7d"
            ],
            [
             0.2,
             "#de77ae"
            ],
            [
             0.3,
             "#f1b6da"
            ],
            [
             0.4,
             "#fde0ef"
            ],
            [
             0.5,
             "#f7f7f7"
            ],
            [
             0.6,
             "#e6f5d0"
            ],
            [
             0.7,
             "#b8e186"
            ],
            [
             0.8,
             "#7fbc41"
            ],
            [
             0.9,
             "#4d9221"
            ],
            [
             1,
             "#276419"
            ]
           ],
           "sequential": [
            [
             0,
             "#0d0887"
            ],
            [
             0.1111111111111111,
             "#46039f"
            ],
            [
             0.2222222222222222,
             "#7201a8"
            ],
            [
             0.3333333333333333,
             "#9c179e"
            ],
            [
             0.4444444444444444,
             "#bd3786"
            ],
            [
             0.5555555555555556,
             "#d8576b"
            ],
            [
             0.6666666666666666,
             "#ed7953"
            ],
            [
             0.7777777777777778,
             "#fb9f3a"
            ],
            [
             0.8888888888888888,
             "#fdca26"
            ],
            [
             1,
             "#f0f921"
            ]
           ],
           "sequentialminus": [
            [
             0,
             "#0d0887"
            ],
            [
             0.1111111111111111,
             "#46039f"
            ],
            [
             0.2222222222222222,
             "#7201a8"
            ],
            [
             0.3333333333333333,
             "#9c179e"
            ],
            [
             0.4444444444444444,
             "#bd3786"
            ],
            [
             0.5555555555555556,
             "#d8576b"
            ],
            [
             0.6666666666666666,
             "#ed7953"
            ],
            [
             0.7777777777777778,
             "#fb9f3a"
            ],
            [
             0.8888888888888888,
             "#fdca26"
            ],
            [
             1,
             "#f0f921"
            ]
           ]
          },
          "colorway": [
           "#636efa",
           "#EF553B",
           "#00cc96",
           "#ab63fa",
           "#FFA15A",
           "#19d3f3",
           "#FF6692",
           "#B6E880",
           "#FF97FF",
           "#FECB52"
          ],
          "font": {
           "color": "#2a3f5f"
          },
          "geo": {
           "bgcolor": "white",
           "lakecolor": "white",
           "landcolor": "#E5ECF6",
           "showlakes": true,
           "showland": true,
           "subunitcolor": "white"
          },
          "hoverlabel": {
           "align": "left"
          },
          "hovermode": "closest",
          "mapbox": {
           "style": "light"
          },
          "paper_bgcolor": "white",
          "plot_bgcolor": "#E5ECF6",
          "polar": {
           "angularaxis": {
            "gridcolor": "white",
            "linecolor": "white",
            "ticks": ""
           },
           "bgcolor": "#E5ECF6",
           "radialaxis": {
            "gridcolor": "white",
            "linecolor": "white",
            "ticks": ""
           }
          },
          "scene": {
           "xaxis": {
            "backgroundcolor": "#E5ECF6",
            "gridcolor": "white",
            "gridwidth": 2,
            "linecolor": "white",
            "showbackground": true,
            "ticks": "",
            "zerolinecolor": "white"
           },
           "yaxis": {
            "backgroundcolor": "#E5ECF6",
            "gridcolor": "white",
            "gridwidth": 2,
            "linecolor": "white",
            "showbackground": true,
            "ticks": "",
            "zerolinecolor": "white"
           },
           "zaxis": {
            "backgroundcolor": "#E5ECF6",
            "gridcolor": "white",
            "gridwidth": 2,
            "linecolor": "white",
            "showbackground": true,
            "ticks": "",
            "zerolinecolor": "white"
           }
          },
          "shapedefaults": {
           "line": {
            "color": "#2a3f5f"
           }
          },
          "ternary": {
           "aaxis": {
            "gridcolor": "white",
            "linecolor": "white",
            "ticks": ""
           },
           "baxis": {
            "gridcolor": "white",
            "linecolor": "white",
            "ticks": ""
           },
           "bgcolor": "#E5ECF6",
           "caxis": {
            "gridcolor": "white",
            "linecolor": "white",
            "ticks": ""
           }
          },
          "title": {
           "x": 0.05
          },
          "xaxis": {
           "automargin": true,
           "gridcolor": "white",
           "linecolor": "white",
           "ticks": "",
           "title": {
            "standoff": 15
           },
           "zerolinecolor": "white",
           "zerolinewidth": 2
          },
          "yaxis": {
           "automargin": true,
           "gridcolor": "white",
           "linecolor": "white",
           "ticks": "",
           "title": {
            "standoff": 15
           },
           "zerolinecolor": "white",
           "zerolinewidth": 2
          }
         }
        },
        "title": {
         "text": "Heatmap of connection between cultures"
        },
        "xaxis": {
         "anchor": "y",
         "constrain": "domain",
         "domain": [
          0,
          1
         ],
         "scaleanchor": "y"
        },
        "yaxis": {
         "anchor": "x",
         "autorange": "reversed",
         "constrain": "domain",
         "domain": [
          0,
          1
         ]
        }
       }
      }
     },
     "metadata": {},
     "output_type": "display_data"
    }
   ],
   "source": [
    "fig_count, df_count, fig_heatmap, df_connection = most_connected_on_attribute(\"culture\",3 ,True)\n",
    "fig_heatmap.show()"
   ]
  },
  {
   "cell_type": "markdown",
   "metadata": {
    "cell_id": "00003-845e039f-b57a-4842-bde0-c71d4b1f3d86",
    "deepnote_cell_type": "markdown",
    "tags": []
   },
   "source": [
    "<h1 align = \"center\"> 2. Visualization of the graph  </h1>\n",
    "\n",
    "---\n",
    "\n",
    "This section is devoted to explain how we created our interactive visualization of the network. The app can be found by following this [link](https://gameofthronesnetworknx.herokuapp.com/). The code used to generate the network is found in two separate python files. The file for processing the Game Of Thrones `gpickle` file and creating links and edges can be found [here](https://github.com/MikkelMathiasen23/GameOfThrones_Network/blob/master/network_app/data_methods.py), whereas the python file for the interactive visualization are found [here](https://github.com/MikkelMathiasen23/GameOfThrones_Network/blob/master/network_app/network_app.py). \n",
    "\n",
    "The visualization contains a network which is created using `plotly`. Here the `alphas` and `node` sizes are scaled according their respective degree, whereas the `edge` width are scaled according to its frequency. This is done to indicate which nodes are well-connected and has a lot of connections, and further to make the visualizations more easy to understand, as the network is very dense, and can get confusing with all the links. \n",
    "\n",
    "The positions of the nodes are computed using `ForceAtlas2` algorithm, where the specific settings can be found in the `compute_positions` function. Further, these positions are saved to speed up the app, as it otherwise needed to recompute these every time, and this also make the figure more reproducible. \n",
    "\n",
    "Besides having the network, below are also four \"boxes\" with information namely: *Season selection, Graph attribute overlay, Click data and Character image*. \n",
    "\n",
    "*Season selection* makes it possible to choose whether the network should be based on all data across all seasons for the characters, or whether one wishes to look into a specific season. This makes it possible to investigate which characters are important in each season or across all seasons.\n",
    "\n",
    "*Graph attribute overlay* are a functionality where one can change the node colour, which is based on the selected attribute. One can select whether the colouring of the nodes should be based on: allegiance, religion or culture. \n",
    "\n",
    "*Click data* displays further information about the character when one click on a node. This information is allegiance, culture and religion of the selected attribute, and further a link to the character wiki-page. Further, the top 5 words based on TF-IDF are displayed, how these are computed can be seen in [Text analysis - Notebook](https://github.com/MikkelMathiasen23/GameOfThrones_Network/blob/master/notebooks_final/08_02_text_analysis.ipynb). \n",
    "\n",
    "Lastly, *Character image*, as the name says displays the character image which is found using `BeatifulSoup4` which scrapes the character wiki-page and finds the thumbnail image. \n",
    "\n",
    "The app is hosted through Heroku, which for free-accounts only have limited ressources, so it might be slow if too many people access it at once. Lastly, the data used to create this visualization is described in the explainer notebook section 2.1.1 where the data are processed and cleaned and saved in `gpickle` files. One file for each season and a file for data across all seasons. The data files can be found [here](https://github.com/MikkelMathiasen23/GameOfThrones_Network/tree/master/data).\n",
    "\n",
    "The app can be seen below:\n",
    "\n"
   ]
  },
  {
   "cell_type": "markdown",
   "metadata": {
    "cell_id": "00034-eb8cfed7-0514-418f-9de2-961e5b145da3",
    "deepnote_cell_type": "markdown",
    "tags": []
   },
   "source": [
    "<iframe src=\"https://gameofthronesnetworknx.herokuapp.com/\" height = \"1200\" width = \"1000\"> </iframe>"
   ]
  },
  {
   "cell_type": "markdown",
   "metadata": {
    "cell_id": "00004-c03e9dbe-0a98-4cca-9cbc-45e4cbb691af",
    "deepnote_cell_type": "markdown",
    "tags": []
   },
   "source": [
    "<h1 align = \"center\"> 3. Network properties </h1> \n",
    "\n",
    "---\n",
    "\n",
    "In this section we will look further into properties of the network. This will include clustering, assoritivity and centrality of the network. Which will be described in the sections below. \n",
    "\n",
    "Again, only the full network containing all data across seasons is going to be investigated in this section. \n",
    "<h2 align= \"center\" > 3.1 Average clustering </h2> \n",
    "\n",
    "We will start out by computing the average clustering coefficient for our network. This can help us understand how many of the possible links each character on average is connected to. "
   ]
  },
  {
   "cell_type": "code",
   "execution_count": 14,
   "metadata": {
    "cell_id": "00035-9bfad287-a7f1-4a28-94ce-4c8420f0edb4",
    "deepnote_cell_type": "code",
    "deepnote_output_heights": [
     21.1875
    ],
    "deepnote_to_be_reexecuted": false,
    "execution_millis": 443,
    "execution_start": 1638446240348,
    "source_hash": "7243bbef",
    "tags": []
   },
   "outputs": [
    {
     "name": "stdout",
     "output_type": "stream",
     "text": [
      "The average clustering coefficient is: 0.48300137580612906\n"
     ]
    }
   ],
   "source": [
    "print(f'The average clustering coefficient is: {nx.average_clustering(G)}')"
   ]
  },
  {
   "cell_type": "markdown",
   "metadata": {
    "cell_id": "00036-9ce6901b-35ff-446e-b456-9a8f7f98a8aa",
    "deepnote_cell_type": "markdown",
    "tags": []
   },
   "source": [
    "From this we can see that on average each character is connected to little less than half of the possible links. This would be expected to be pushed up by some of the main characters and down for some of the less important characters. "
   ]
  },
  {
   "cell_type": "code",
   "execution_count": 15,
   "metadata": {
    "cell_id": "00037-bfd1ff76-ad14-4c40-b0ae-0238f577a810",
    "deepnote_cell_type": "code",
    "deepnote_output_heights": [
     506
    ],
    "deepnote_to_be_reexecuted": false,
    "execution_millis": 1698,
    "execution_start": 1638452599540,
    "source_hash": "6217ef28",
    "tags": []
   },
   "outputs": [
    {
     "data": {
      "image/png": "[encoded data removed]",
      "text/plain": [
       "<Figure size 864x576 with 1 Axes>"
      ]
     },
     "metadata": {
      "needs_background": "light"
     },
     "output_type": "display_data"
    },
    {
     "name": "stdout",
     "output_type": "stream",
     "text": [
      "Correlation with in degree: -0.377\n",
      "Correlation with out degree: -0.412\n"
     ]
    }
   ],
   "source": [
    "plt.figure(figsize = (12,8))\n",
    "plt.scatter([e for n, e in top5_in_degrees],nx.clustering(G).values(), color= 'red', label = 'In degree')\n",
    "plt.scatter([e for n, e in top5_out_degrees],nx.clustering(G).values(), color= 'blue', label = 'Out degree')\n",
    "plt.title('Clustering against degree', fontsize = 20)\n",
    "plt.xlabel('Degree', fontsize = 12)\n",
    "plt.ylabel('Clustering', fontsize = 12)\n",
    "plt.legend()\n",
    "plt.show()\n",
    "c_in = np.corrcoef([d for name, d in top5_in_degrees],[v for v in nx.clustering(G).values()])\n",
    "c_out = np.corrcoef([d for name, d in top5_out_degrees],[v for v in nx.clustering(G).values()])\n",
    "print(f'Correlation with in degree: {round(c_in[1,0],3)}')\n",
    "print(f'Correlation with out degree: {round(c_out[1,0],3)}')"
   ]
  },
  {
   "cell_type": "markdown",
   "metadata": {
    "cell_id": "00038-851d3b85-1b5f-4b84-af3e-62e2bfa9dba0",
    "deepnote_cell_type": "markdown",
    "tags": []
   },
   "source": [
    "From the figure above, we can see a slight (very slight) negative correlation between clustering coefficient and the degree (in or out) and the correlation coefficient is approximately -0.5. Meaning character with high in or out-degree has a lower clustering coefficient. "
   ]
  },
  {
   "cell_type": "markdown",
   "metadata": {
    "cell_id": "00035-1e187c80-e7cb-4f7b-969a-977360cc1f54",
    "deepnote_cell_type": "markdown",
    "tags": []
   },
   "source": [
    "<h2 align= \"center\" > 3.2 Assortivity </h2> \n",
    "\n",
    "Next we are looking into assortivity of each of our character attributes to see if any of these could indicate whether the characters are linked based on their attribute. This could also help us understand how they are connected, and maybe how we could discover communities in our network. \n",
    "\n"
   ]
  },
  {
   "cell_type": "code",
   "execution_count": 16,
   "metadata": {
    "cell_id": "00037-86ba152a-0742-48c8-bac8-5854b88d8f49",
    "deepnote_cell_type": "code",
    "deepnote_output_heights": [
     302
    ],
    "deepnote_to_be_reexecuted": false,
    "execution_millis": 95,
    "execution_start": 1638448341557,
    "source_hash": "d516dc4f",
    "tags": []
   },
   "outputs": [
    {
     "data": {
      "application/vnd.plotly.v1+json": {
       "config": {
        "plotlyServerURL": "https://plot.ly"
       },
       "data": [
        {
         "cells": {
          "values": [
           [
            "Religion",
            "Appearances",
            "Culture",
            "Allegiance"
           ],
           [
            0.092,
            0.011,
            0.13,
            0.059
           ]
          ]
         },
         "header": {
          "values": [
           "<b>Attribute</b>",
           "<b>Assortivity</b>"
          ]
         },
         "type": "table"
        }
       ],
       "layout": {
        "height": 300,
        "showlegend": false,
        "template": {
         "data": {
          "bar": [
           {
            "error_x": {
             "color": "#2a3f5f"
            },
            "error_y": {
             "color": "#2a3f5f"
            },
            "marker": {
             "line": {
              "color": "#E5ECF6",
              "width": 0.5
             },
             "pattern": {
              "fillmode": "overlay",
              "size": 10,
              "solidity": 0.2
             }
            },
            "type": "bar"
           }
          ],
          "barpolar": [
           {
            "marker": {
             "line": {
              "color": "#E5ECF6",
              "width": 0.5
             },
             "pattern": {
              "fillmode": "overlay",
              "size": 10,
              "solidity": 0.2
             }
            },
            "type": "barpolar"
           }
          ],
          "carpet": [
           {
            "aaxis": {
             "endlinecolor": "#2a3f5f",
             "gridcolor": "white",
             "linecolor": "white",
             "minorgridcolor": "white",
             "startlinecolor": "#2a3f5f"
            },
            "baxis": {
             "endlinecolor": "#2a3f5f",
             "gridcolor": "white",
             "linecolor": "white",
             "minorgridcolor": "white",
             "startlinecolor": "#2a3f5f"
            },
            "type": "carpet"
           }
          ],
          "choropleth": [
           {
            "colorbar": {
             "outlinewidth": 0,
             "ticks": ""
            },
            "type": "choropleth"
           }
          ],
          "contour": [
           {
            "colorbar": {
             "outlinewidth": 0,
             "ticks": ""
            },
            "colorscale": [
             [
              0,
              "#0d0887"
             ],
             [
              0.1111111111111111,
              "#46039f"
             ],
             [
              0.2222222222222222,
              "#7201a8"
             ],
             [
              0.3333333333333333,
              "#9c179e"
             ],
             [
              0.4444444444444444,
              "#bd3786"
             ],
             [
              0.5555555555555556,
              "#d8576b"
             ],
             [
              0.6666666666666666,
              "#ed7953"
             ],
             [
              0.7777777777777778,
              "#fb9f3a"
             ],
             [
              0.8888888888888888,
              "#fdca26"
             ],
             [
              1,
              "#f0f921"
             ]
            ],
            "type": "contour"
           }
          ],
          "contourcarpet": [
           {
            "colorbar": {
             "outlinewidth": 0,
             "ticks": ""
            },
            "type": "contourcarpet"
           }
          ],
          "heatmap": [
           {
            "colorbar": {
             "outlinewidth": 0,
             "ticks": ""
            },
            "colorscale": [
             [
              0,
              "#0d0887"
             ],
             [
              0.1111111111111111,
              "#46039f"
             ],
             [
              0.2222222222222222,
              "#7201a8"
             ],
             [
              0.3333333333333333,
              "#9c179e"
             ],
             [
              0.4444444444444444,
              "#bd3786"
             ],
             [
              0.5555555555555556,
              "#d8576b"
             ],
             [
              0.6666666666666666,
              "#ed7953"
             ],
             [
              0.7777777777777778,
              "#fb9f3a"
             ],
             [
              0.8888888888888888,
              "#fdca26"
             ],
             [
              1,
              "#f0f921"
             ]
            ],
            "type": "heatmap"
           }
          ],
          "heatmapgl": [
           {
            "colorbar": {
             "outlinewidth": 0,
             "ticks": ""
            },
            "colorscale": [
             [
              0,
              "#0d0887"
             ],
             [
              0.1111111111111111,
              "#46039f"
             ],
             [
              0.2222222222222222,
              "#7201a8"
             ],
             [
              0.3333333333333333,
              "#9c179e"
             ],
             [
              0.4444444444444444,
              "#bd3786"
             ],
             [
              0.5555555555555556,
              "#d8576b"
             ],
             [
              0.6666666666666666,
              "#ed7953"
             ],
             [
              0.7777777777777778,
              "#fb9f3a"
             ],
             [
              0.8888888888888888,
              "#fdca26"
             ],
             [
              1,
              "#f0f921"
             ]
            ],
            "type": "heatmapgl"
           }
          ],
          "histogram": [
           {
            "marker": {
             "pattern": {
              "fillmode": "overlay",
              "size": 10,
              "solidity": 0.2
             }
            },
            "type": "histogram"
           }
          ],
          "histogram2d": [
           {
            "colorbar": {
             "outlinewidth": 0,
             "ticks": ""
            },
            "colorscale": [
             [
              0,
              "#0d0887"
             ],
             [
              0.1111111111111111,
              "#46039f"
             ],
             [
              0.2222222222222222,
              "#7201a8"
             ],
             [
              0.3333333333333333,
              "#9c179e"
             ],
             [
              0.4444444444444444,
              "#bd3786"
             ],
             [
              0.5555555555555556,
              "#d8576b"
             ],
             [
              0.6666666666666666,
              "#ed7953"
             ],
             [
              0.7777777777777778,
              "#fb9f3a"
             ],
             [
              0.8888888888888888,
              "#fdca26"
             ],
             [
              1,
              "#f0f921"
             ]
            ],
            "type": "histogram2d"
           }
          ],
          "histogram2dcontour": [
           {
            "colorbar": {
             "outlinewidth": 0,
             "ticks": ""
            },
            "colorscale": [
             [
              0,
              "#0d0887"
             ],
             [
              0.1111111111111111,
              "#46039f"
             ],
             [
              0.2222222222222222,
              "#7201a8"
             ],
             [
              0.3333333333333333,
              "#9c179e"
             ],
             [
              0.4444444444444444,
              "#bd3786"
             ],
             [
              0.5555555555555556,
              "#d8576b"
             ],
             [
              0.6666666666666666,
              "#ed7953"
             ],
             [
              0.7777777777777778,
              "#fb9f3a"
             ],
             [
              0.8888888888888888,
              "#fdca26"
             ],
             [
              1,
              "#f0f921"
             ]
            ],
            "type": "histogram2dcontour"
           }
          ],
          "mesh3d": [
           {
            "colorbar": {
             "outlinewidth": 0,
             "ticks": ""
            },
            "type": "mesh3d"
           }
          ],
          "parcoords": [
           {
            "line": {
             "colorbar": {
              "outlinewidth": 0,
              "ticks": ""
             }
            },
            "type": "parcoords"
           }
          ],
          "pie": [
           {
            "automargin": true,
            "type": "pie"
           }
          ],
          "scatter": [
           {
            "marker": {
             "colorbar": {
              "outlinewidth": 0,
              "ticks": ""
             }
            },
            "type": "scatter"
           }
          ],
          "scatter3d": [
           {
            "line": {
             "colorbar": {
              "outlinewidth": 0,
              "ticks": ""
             }
            },
            "marker": {
             "colorbar": {
              "outlinewidth": 0,
              "ticks": ""
             }
            },
            "type": "scatter3d"
           }
          ],
          "scattercarpet": [
           {
            "marker": {
             "colorbar": {
              "outlinewidth": 0,
              "ticks": ""
             }
            },
            "type": "scattercarpet"
           }
          ],
          "scattergeo": [
           {
            "marker": {
             "colorbar": {
              "outlinewidth": 0,
              "ticks": ""
             }
            },
            "type": "scattergeo"
           }
          ],
          "scattergl": [
           {
            "marker": {
             "colorbar": {
              "outlinewidth": 0,
              "ticks": ""
             }
            },
            "type": "scattergl"
           }
          ],
          "scattermapbox": [
           {
            "marker": {
             "colorbar": {
              "outlinewidth": 0,
              "ticks": ""
             }
            },
            "type": "scattermapbox"
           }
          ],
          "scatterpolar": [
           {
            "marker": {
             "colorbar": {
              "outlinewidth": 0,
              "ticks": ""
             }
            },
            "type": "scatterpolar"
           }
          ],
          "scatterpolargl": [
           {
            "marker": {
             "colorbar": {
              "outlinewidth": 0,
              "ticks": ""
             }
            },
            "type": "scatterpolargl"
           }
          ],
          "scatterternary": [
           {
            "marker": {
             "colorbar": {
              "outlinewidth": 0,
              "ticks": ""
             }
            },
            "type": "scatterternary"
           }
          ],
          "surface": [
           {
            "colorbar": {
             "outlinewidth": 0,
             "ticks": ""
            },
            "colorscale": [
             [
              0,
              "#0d0887"
             ],
             [
              0.1111111111111111,
              "#46039f"
             ],
             [
              0.2222222222222222,
              "#7201a8"
             ],
             [
              0.3333333333333333,
              "#9c179e"
             ],
             [
              0.4444444444444444,
              "#bd3786"
             ],
             [
              0.5555555555555556,
              "#d8576b"
             ],
             [
              0.6666666666666666,
              "#ed7953"
             ],
             [
              0.7777777777777778,
              "#fb9f3a"
             ],
             [
              0.8888888888888888,
              "#fdca26"
             ],
             [
              1,
              "#f0f921"
             ]
            ],
            "type": "surface"
           }
          ],
          "table": [
           {
            "cells": {
             "fill": {
              "color": "#EBF0F8"
             },
             "line": {
              "color": "white"
             }
            },
            "header": {
             "fill": {
              "color": "#C8D4E3"
             },
             "line": {
              "color": "white"
             }
            },
            "type": "table"
           }
          ]
         },
         "layout": {
          "annotationdefaults": {
           "arrowcolor": "#2a3f5f",
           "arrowhead": 0,
           "arrowwidth": 1
          },
          "autotypenumbers": "strict",
          "coloraxis": {
           "colorbar": {
            "outlinewidth": 0,
            "ticks": ""
           }
          },
          "colorscale": {
           "diverging": [
            [
             0,
             "#8e0152"
            ],
            [
             0.1,
             "#c51b7d"
            ],
            [
             0.2,
             "#de77ae"
            ],
            [
             0.3,
             "#f1b6da"
            ],
            [
             0.4,
             "#fde0ef"
            ],
            [
             0.5,
             "#f7f7f7"
            ],
            [
             0.6,
             "#e6f5d0"
            ],
            [
             0.7,
             "#b8e186"
            ],
            [
             0.8,
             "#7fbc41"
            ],
            [
             0.9,
             "#4d9221"
            ],
            [
             1,
             "#276419"
            ]
           ],
           "sequential": [
            [
             0,
             "#0d0887"
            ],
            [
             0.1111111111111111,
             "#46039f"
            ],
            [
             0.2222222222222222,
             "#7201a8"
            ],
            [
             0.3333333333333333,
             "#9c179e"
            ],
            [
             0.4444444444444444,
             "#bd3786"
            ],
            [
             0.5555555555555556,
             "#d8576b"
            ],
            [
             0.6666666666666666,
             "#ed7953"
            ],
            [
             0.7777777777777778,
             "#fb9f3a"
            ],
            [
             0.8888888888888888,
             "#fdca26"
            ],
            [
             1,
             "#f0f921"
            ]
           ],
           "sequentialminus": [
            [
             0,
             "#0d0887"
            ],
            [
             0.1111111111111111,
             "#46039f"
            ],
            [
             0.2222222222222222,
             "#7201a8"
            ],
            [
             0.3333333333333333,
             "#9c179e"
            ],
            [
             0.4444444444444444,
             "#bd3786"
            ],
            [
             0.5555555555555556,
             "#d8576b"
            ],
            [
             0.6666666666666666,
             "#ed7953"
            ],
            [
             0.7777777777777778,
             "#fb9f3a"
            ],
            [
             0.8888888888888888,
             "#fdca26"
            ],
            [
             1,
             "#f0f921"
            ]
           ]
          },
          "colorway": [
           "#636efa",
           "#EF553B",
           "#00cc96",
           "#ab63fa",
           "#FFA15A",
           "#19d3f3",
           "#FF6692",
           "#B6E880",
           "#FF97FF",
           "#FECB52"
          ],
          "font": {
           "color": "#2a3f5f"
          },
          "geo": {
           "bgcolor": "white",
           "lakecolor": "white",
           "landcolor": "#E5ECF6",
           "showlakes": true,
           "showland": true,
           "subunitcolor": "white"
          },
          "hoverlabel": {
           "align": "left"
          },
          "hovermode": "closest",
          "mapbox": {
           "style": "light"
          },
          "paper_bgcolor": "white",
          "plot_bgcolor": "#E5ECF6",
          "polar": {
           "angularaxis": {
            "gridcolor": "white",
            "linecolor": "white",
            "ticks": ""
           },
           "bgcolor": "#E5ECF6",
           "radialaxis": {
            "gridcolor": "white",
            "linecolor": "white",
            "ticks": ""
           }
          },
          "scene": {
           "xaxis": {
            "backgroundcolor": "#E5ECF6",
            "gridcolor": "white",
            "gridwidth": 2,
            "linecolor": "white",
            "showbackground": true,
            "ticks": "",
            "zerolinecolor": "white"
           },
           "yaxis": {
            "backgroundcolor": "#E5ECF6",
            "gridcolor": "white",
            "gridwidth": 2,
            "linecolor": "white",
            "showbackground": true,
            "ticks": "",
            "zerolinecolor": "white"
           },
           "zaxis": {
            "backgroundcolor": "#E5ECF6",
            "gridcolor": "white",
            "gridwidth": 2,
            "linecolor": "white",
            "showbackground": true,
            "ticks": "",
            "zerolinecolor": "white"
           }
          },
          "shapedefaults": {
           "line": {
            "color": "#2a3f5f"
           }
          },
          "ternary": {
           "aaxis": {
            "gridcolor": "white",
            "linecolor": "white",
            "ticks": ""
           },
           "baxis": {
            "gridcolor": "white",
            "linecolor": "white",
            "ticks": ""
           },
           "bgcolor": "#E5ECF6",
           "caxis": {
            "gridcolor": "white",
            "linecolor": "white",
            "ticks": ""
           }
          },
          "title": {
           "x": 0.05
          },
          "xaxis": {
           "automargin": true,
           "gridcolor": "white",
           "linecolor": "white",
           "ticks": "",
           "title": {
            "standoff": 15
           },
           "zerolinecolor": "white",
           "zerolinewidth": 2
          },
          "yaxis": {
           "automargin": true,
           "gridcolor": "white",
           "linecolor": "white",
           "ticks": "",
           "title": {
            "standoff": 15
           },
           "zerolinecolor": "white",
           "zerolinewidth": 2
          }
         }
        },
        "title": {
         "text": "Assortivity score of each character attribute"
        }
       }
      }
     },
     "metadata": {},
     "output_type": "display_data"
    }
   ],
   "source": [
    "A, assor = [], []\n",
    "attributes = [\"religion\", \"appearances\", \"culture\", \"allegiance\"]\n",
    "for attribute in attributes: \n",
    "    A.append(attribute.capitalize())\n",
    "    assor.append(np.round(nx.attribute_assortativity_coefficient(G, attribute),3))\n",
    "\n",
    "fig = go.Figure(data=[go.Table(header=dict(values=['<b>Attribute</b>', '<b>Assortivity</b>']),\n",
    "                 cells=dict(values=[A, assor]))\n",
    "                     ])\n",
    "fig.update_layout(\n",
    "        height=300,\n",
    "        showlegend=False,\n",
    "        title_text = \"Assortivity score of each character attribute\"\n",
    "    )\n",
    "fig.show()"
   ]
  },
  {
   "cell_type": "markdown",
   "metadata": {
    "cell_id": "00041-77d41c24-9329-4e85-aa38-2552bb775082",
    "deepnote_cell_type": "markdown",
    "tags": []
   },
   "source": [
    "From the table above it can be seen that religion has the highest assortivity score, which would indicate that this attribute is the best to distinquish the characters from each other. It should be noted that none of the scores are very high indicating, that the characters are linked in a more complex pattern, or based on another attribute. "
   ]
  },
  {
   "cell_type": "markdown",
   "metadata": {
    "cell_id": "00038-1249be76-44e2-4683-b6b9-ea2dc0b18b62",
    "deepnote_cell_type": "markdown",
    "tags": []
   },
   "source": [
    "<h2 align = \"center\"> 3.3 Centrality </h2>"
   ]
  },
  {
   "cell_type": "markdown",
   "metadata": {
    "cell_id": "00044-6242fc45-0760-4db9-b7ae-4eebee704a79",
    "deepnote_cell_type": "markdown",
    "tags": []
   },
   "source": [
    "This section is going to investigate different measures of centrality of the full network across all seasons."
   ]
  },
  {
   "cell_type": "markdown",
   "metadata": {
    "cell_id": "00045-e094edbd-8782-4f0c-94f4-88c09ff0798f",
    "deepnote_cell_type": "markdown",
    "tags": []
   },
   "source": [
    "<h4 align = \"center\"> 3.3.1 Closeness centrality </h4>"
   ]
  },
  {
   "cell_type": "markdown",
   "metadata": {
    "cell_id": "00046-ab0052fb-15ac-4045-8e80-4dc46a6c0fbe",
    "deepnote_cell_type": "markdown",
    "tags": []
   },
   "source": [
    "We are further going to investigate the closeness centrality of each node in the network, which measures the reciprocal sum of shortests paths from the given node to all other nodes. If a node therefore has a high closeness centrality score this means that the node is close to the rest and vice versa. This could give us an indication of well connected characters and further important characters. "
   ]
  },
  {
   "cell_type": "code",
   "execution_count": 17,
   "metadata": {
    "cell_id": "00039-39e66698-2643-4899-9965-fb5d13b3f439",
    "deepnote_cell_type": "code",
    "deepnote_output_heights": [
     312
    ],
    "deepnote_to_be_reexecuted": false,
    "execution_millis": 264,
    "execution_start": 1638451077962,
    "source_hash": "afb2b992",
    "tags": []
   },
   "outputs": [
    {
     "data": {
      "application/vnd.plotly.v1+json": {
       "config": {
        "plotlyServerURL": "https://plot.ly"
       },
       "data": [
        {
         "cells": {
          "values": [
           [
            "Jon Snow",
            "Daenerys Targaryen",
            "Tyrion Lannister",
            "Eddard Stark",
            "Stannis Baratheon",
            "Cersei Lannister",
            "Arya Stark",
            "Jaime Lannister",
            "Sansa Stark",
            "Robert Baratheon",
            "Robb Stark",
            "Varys",
            "Joffrey Baratheon",
            "Catelyn Stark",
            "Tywin Lannister",
            "Melisandre",
            "Theon Greyjoy",
            "Bran Stark",
            "Petyr Baelish",
            "Roose Bolton",
            "Gregor Clegane",
            "Bronn",
            "Night King",
            "Brienne of Tarth",
            "Samwell Tarly",
            "Ramsay Bolton",
            "Olenna Tyrell",
            "Tormund",
            "Mance Rayder",
            "Podrick Payne",
            "Rodrik Cassel",
            "Qyburn",
            "Euron Greyjoy",
            "Rhaegar Targaryen",
            "Margaery Tyrell",
            "Jorah Mormont",
            "Pycelle",
            "Barristan Selmy",
            "Renly Baratheon",
            "Rickon Stark",
            "Sandor Clegane",
            "Brynden Tully",
            "Thoros",
            "Missandei",
            "Mace Tyrell",
            "Lyanna Stark",
            "Randyll Tarly",
            "Oberyn Martell",
            "Davos Seaworth",
            "Benjen Stark",
            "Janos Slynt",
            "Jeor Mormont",
            "Luwin",
            "Beric Dondarrion",
            "Loras Tyrell",
            "Ellaria Sand",
            "Viserys Targaryen",
            "Tommen Baratheon",
            "Walder Frey",
            "Aemon",
            "Osha",
            "Doran Martell",
            "Grey Worm",
            "Ros",
            "Lysa Arryn",
            "Balon Greyjoy",
            "Edmure Tully",
            "Eddison Tollett",
            "Ilyn Payne",
            "Gilly",
            "Locke",
            "Shae",
            "Shireen Baratheon",
            "Drogo",
            "Jory Cassel",
            "Alys Karstark",
            "Myrcella Baratheon",
            "Dickon Tarly",
            "Hodor",
            "Lyanna Mormont",
            "Yoren",
            "Robett Glover",
            "Yohn Royce",
            "Meryn Trant",
            "Yara Greyjoy",
            "Talisa Stark",
            "Wolkan",
            "Ned Umber",
            "Ygritte",
            "Tycho Nestoris",
            "Amory Lorch",
            "Alliser Thorne",
            "Alton Lannister",
            "Mirri Maz Duur",
            "Tyene Sand",
            "Meera Reed",
            "Lancel Lannister",
            "Rickard Karstark",
            "Daario Naharis",
            "Greatjon Umber",
            "Syrio Forel",
            "Hizdahr zo Loraq",
            "Jaqen H'ghar",
            "Biter",
            "Myranda",
            "Selyse Baratheon",
            "Craster",
            "Grenn",
            "Rast",
            "Walder Rivers",
            "Salladhor Saan",
            "Dontos Hollard",
            "Olly",
            "Qhorin",
            "Marillion",
            "Kevan Lannister",
            "Rorge",
            "Hot Pie",
            "Polliver",
            "Karl Tanner",
            "Rakharo",
            "Styr",
            "Pypar",
            "Matthos Seaworth",
            "Olyvar",
            "Nymeria Sand",
            "Orell",
            "Mordane",
            "Gendry Baratheon",
            "Doreah",
            "Ebrose",
            "Pyat Pree",
            "Lommy",
            "Irri",
            "Jojen Reed",
            "Unella",
            "Xaro Xhoan Daxos",
            "Shagga",
            "Anguy",
            "Qotho",
            "Order of Maesters",
            "Kovarro",
            "Hallyne",
            "Harry Strickland",
            "Areo Hotah",
            "Kraznys mo Nakloz",
            "Trystane Martell",
            "Septa",
            "Obara Sand",
            "Moro",
            "Robin Arryn",
            "Leaf",
            "Armeca",
            "Anya Waynwood",
            "Lady Crane",
            "Daisy",
            "Dagmer",
            "Izembaro",
            "Black Lorren",
            "Aeron Greyjoy",
            "Qhono",
            "Ray"
           ],
           [
            0.685,
            0.652,
            0.631,
            0.617,
            0.608,
            0.603,
            0.603,
            0.596,
            0.594,
            0.588,
            0.588,
            0.577,
            0.577,
            0.575,
            0.573,
            0.561,
            0.557,
            0.557,
            0.551,
            0.542,
            0.542,
            0.54,
            0.54,
            0.537,
            0.537,
            0.53,
            0.521,
            0.519,
            0.518,
            0.518,
            0.516,
            0.516,
            0.514,
            0.514,
            0.514,
            0.513,
            0.511,
            0.511,
            0.506,
            0.506,
            0.506,
            0.502,
            0.5,
            0.498,
            0.498,
            0.498,
            0.498,
            0.497,
            0.497,
            0.497,
            0.495,
            0.495,
            0.495,
            0.494,
            0.494,
            0.492,
            0.491,
            0.491,
            0.489,
            0.489,
            0.486,
            0.485,
            0.482,
            0.482,
            0.479,
            0.478,
            0.478,
            0.476,
            0.475,
            0.474,
            0.474,
            0.474,
            0.474,
            0.474,
            0.474,
            0.472,
            0.471,
            0.469,
            0.469,
            0.468,
            0.465,
            0.465,
            0.461,
            0.461,
            0.46,
            0.459,
            0.457,
            0.455,
            0.455,
            0.455,
            0.454,
            0.452,
            0.452,
            0.447,
            0.446,
            0.446,
            0.446,
            0.445,
            0.441,
            0.441,
            0.44,
            0.438,
            0.436,
            0.435,
            0.435,
            0.435,
            0.434,
            0.434,
            0.432,
            0.432,
            0.43,
            0.429,
            0.428,
            0.427,
            0.427,
            0.426,
            0.425,
            0.425,
            0.425,
            0.425,
            0.425,
            0.423,
            0.421,
            0.421,
            0.42,
            0.419,
            0.418,
            0.415,
            0.414,
            0.413,
            0.413,
            0.413,
            0.413,
            0.412,
            0.412,
            0.412,
            0.411,
            0.41,
            0.408,
            0.407,
            0.407,
            0.405,
            0.404,
            0.404,
            0.402,
            0.401,
            0.4,
            0.4,
            0.4,
            0.4,
            0.398,
            0.391,
            0.389,
            0.388,
            0.383,
            0.375,
            0.374,
            0.37,
            0.369,
            0.369,
            0.36,
            0.355
           ]
          ]
         },
         "header": {
          "values": [
           "<b>Character</b>",
           "<b>Centrality score (closeness)</b>"
          ]
         },
         "type": "table"
        }
       ],
       "layout": {
        "height": 310,
        "showlegend": false,
        "template": {
         "data": {
          "bar": [
           {
            "error_x": {
             "color": "#2a3f5f"
            },
            "error_y": {
             "color": "#2a3f5f"
            },
            "marker": {
             "line": {
              "color": "#E5ECF6",
              "width": 0.5
             },
             "pattern": {
              "fillmode": "overlay",
              "size": 10,
              "solidity": 0.2
             }
            },
            "type": "bar"
           }
          ],
          "barpolar": [
           {
            "marker": {
             "line": {
              "color": "#E5ECF6",
              "width": 0.5
             },
             "pattern": {
              "fillmode": "overlay",
              "size": 10,
              "solidity": 0.2
             }
            },
            "type": "barpolar"
           }
          ],
          "carpet": [
           {
            "aaxis": {
             "endlinecolor": "#2a3f5f",
             "gridcolor": "white",
             "linecolor": "white",
             "minorgridcolor": "white",
             "startlinecolor": "#2a3f5f"
            },
            "baxis": {
             "endlinecolor": "#2a3f5f",
             "gridcolor": "white",
             "linecolor": "white",
             "minorgridcolor": "white",
             "startlinecolor": "#2a3f5f"
            },
            "type": "carpet"
           }
          ],
          "choropleth": [
           {
            "colorbar": {
             "outlinewidth": 0,
             "ticks": ""
            },
            "type": "choropleth"
           }
          ],
          "contour": [
           {
            "colorbar": {
             "outlinewidth": 0,
             "ticks": ""
            },
            "colorscale": [
             [
              0,
              "#0d0887"
             ],
             [
              0.1111111111111111,
              "#46039f"
             ],
             [
              0.2222222222222222,
              "#7201a8"
             ],
             [
              0.3333333333333333,
              "#9c179e"
             ],
             [
              0.4444444444444444,
              "#bd3786"
             ],
             [
              0.5555555555555556,
              "#d8576b"
             ],
             [
              0.6666666666666666,
              "#ed7953"
             ],
             [
              0.7777777777777778,
              "#fb9f3a"
             ],
             [
              0.8888888888888888,
              "#fdca26"
             ],
             [
              1,
              "#f0f921"
             ]
            ],
            "type": "contour"
           }
          ],
          "contourcarpet": [
           {
            "colorbar": {
             "outlinewidth": 0,
             "ticks": ""
            },
            "type": "contourcarpet"
           }
          ],
          "heatmap": [
           {
            "colorbar": {
             "outlinewidth": 0,
             "ticks": ""
            },
            "colorscale": [
             [
              0,
              "#0d0887"
             ],
             [
              0.1111111111111111,
              "#46039f"
             ],
             [
              0.2222222222222222,
              "#7201a8"
             ],
             [
              0.3333333333333333,
              "#9c179e"
             ],
             [
              0.4444444444444444,
              "#bd3786"
             ],
             [
              0.5555555555555556,
              "#d8576b"
             ],
             [
              0.6666666666666666,
              "#ed7953"
             ],
             [
              0.7777777777777778,
              "#fb9f3a"
             ],
             [
              0.8888888888888888,
              "#fdca26"
             ],
             [
              1,
              "#f0f921"
             ]
            ],
            "type": "heatmap"
           }
          ],
          "heatmapgl": [
           {
            "colorbar": {
             "outlinewidth": 0,
             "ticks": ""
            },
            "colorscale": [
             [
              0,
              "#0d0887"
             ],
             [
              0.1111111111111111,
              "#46039f"
             ],
             [
              0.2222222222222222,
              "#7201a8"
             ],
             [
              0.3333333333333333,
              "#9c179e"
             ],
             [
              0.4444444444444444,
              "#bd3786"
             ],
             [
              0.5555555555555556,
              "#d8576b"
             ],
             [
              0.6666666666666666,
              "#ed7953"
             ],
             [
              0.7777777777777778,
              "#fb9f3a"
             ],
             [
              0.8888888888888888,
              "#fdca26"
             ],
             [
              1,
              "#f0f921"
             ]
            ],
            "type": "heatmapgl"
           }
          ],
          "histogram": [
           {
            "marker": {
             "pattern": {
              "fillmode": "overlay",
              "size": 10,
              "solidity": 0.2
             }
            },
            "type": "histogram"
           }
          ],
          "histogram2d": [
           {
            "colorbar": {
             "outlinewidth": 0,
             "ticks": ""
            },
            "colorscale": [
             [
              0,
              "#0d0887"
             ],
             [
              0.1111111111111111,
              "#46039f"
             ],
             [
              0.2222222222222222,
              "#7201a8"
             ],
             [
              0.3333333333333333,
              "#9c179e"
             ],
             [
              0.4444444444444444,
              "#bd3786"
             ],
             [
              0.5555555555555556,
              "#d8576b"
             ],
             [
              0.6666666666666666,
              "#ed7953"
             ],
             [
              0.7777777777777778,
              "#fb9f3a"
             ],
             [
              0.8888888888888888,
              "#fdca26"
             ],
             [
              1,
              "#f0f921"
             ]
            ],
            "type": "histogram2d"
           }
          ],
          "histogram2dcontour": [
           {
            "colorbar": {
             "outlinewidth": 0,
             "ticks": ""
            },
            "colorscale": [
             [
              0,
              "#0d0887"
             ],
             [
              0.1111111111111111,
              "#46039f"
             ],
             [
              0.2222222222222222,
              "#7201a8"
             ],
             [
              0.3333333333333333,
              "#9c179e"
             ],
             [
              0.4444444444444444,
              "#bd3786"
             ],
             [
              0.5555555555555556,
              "#d8576b"
             ],
             [
              0.6666666666666666,
              "#ed7953"
             ],
             [
              0.7777777777777778,
              "#fb9f3a"
             ],
             [
              0.8888888888888888,
              "#fdca26"
             ],
             [
              1,
              "#f0f921"
             ]
            ],
            "type": "histogram2dcontour"
           }
          ],
          "mesh3d": [
           {
            "colorbar": {
             "outlinewidth": 0,
             "ticks": ""
            },
            "type": "mesh3d"
           }
          ],
          "parcoords": [
           {
            "line": {
             "colorbar": {
              "outlinewidth": 0,
              "ticks": ""
             }
            },
            "type": "parcoords"
           }
          ],
          "pie": [
           {
            "automargin": true,
            "type": "pie"
           }
          ],
          "scatter": [
           {
            "marker": {
             "colorbar": {
              "outlinewidth": 0,
              "ticks": ""
             }
            },
            "type": "scatter"
           }
          ],
          "scatter3d": [
           {
            "line": {
             "colorbar": {
              "outlinewidth": 0,
              "ticks": ""
             }
            },
            "marker": {
             "colorbar": {
              "outlinewidth": 0,
              "ticks": ""
             }
            },
            "type": "scatter3d"
           }
          ],
          "scattercarpet": [
           {
            "marker": {
             "colorbar": {
              "outlinewidth": 0,
              "ticks": ""
             }
            },
            "type": "scattercarpet"
           }
          ],
          "scattergeo": [
           {
            "marker": {
             "colorbar": {
              "outlinewidth": 0,
              "ticks": ""
             }
            },
            "type": "scattergeo"
           }
          ],
          "scattergl": [
           {
            "marker": {
             "colorbar": {
              "outlinewidth": 0,
              "ticks": ""
             }
            },
            "type": "scattergl"
           }
          ],
          "scattermapbox": [
           {
            "marker": {
             "colorbar": {
              "outlinewidth": 0,
              "ticks": ""
             }
            },
            "type": "scattermapbox"
           }
          ],
          "scatterpolar": [
           {
            "marker": {
             "colorbar": {
              "outlinewidth": 0,
              "ticks": ""
             }
            },
            "type": "scatterpolar"
           }
          ],
          "scatterpolargl": [
           {
            "marker": {
             "colorbar": {
              "outlinewidth": 0,
              "ticks": ""
             }
            },
            "type": "scatterpolargl"
           }
          ],
          "scatterternary": [
           {
            "marker": {
             "colorbar": {
              "outlinewidth": 0,
              "ticks": ""
             }
            },
            "type": "scatterternary"
           }
          ],
          "surface": [
           {
            "colorbar": {
             "outlinewidth": 0,
             "ticks": ""
            },
            "colorscale": [
             [
              0,
              "#0d0887"
             ],
             [
              0.1111111111111111,
              "#46039f"
             ],
             [
              0.2222222222222222,
              "#7201a8"
             ],
             [
              0.3333333333333333,
              "#9c179e"
             ],
             [
              0.4444444444444444,
              "#bd3786"
             ],
             [
              0.5555555555555556,
              "#d8576b"
             ],
             [
              0.6666666666666666,
              "#ed7953"
             ],
             [
              0.7777777777777778,
              "#fb9f3a"
             ],
             [
              0.8888888888888888,
              "#fdca26"
             ],
             [
              1,
              "#f0f921"
             ]
            ],
            "type": "surface"
           }
          ],
          "table": [
           {
            "cells": {
             "fill": {
              "color": "#EBF0F8"
             },
             "line": {
              "color": "white"
             }
            },
            "header": {
             "fill": {
              "color": "#C8D4E3"
             },
             "line": {
              "color": "white"
             }
            },
            "type": "table"
           }
          ]
         },
         "layout": {
          "annotationdefaults": {
           "arrowcolor": "#2a3f5f",
           "arrowhead": 0,
           "arrowwidth": 1
          },
          "autotypenumbers": "strict",
          "coloraxis": {
           "colorbar": {
            "outlinewidth": 0,
            "ticks": ""
           }
          },
          "colorscale": {
           "diverging": [
            [
             0,
             "#8e0152"
            ],
            [
             0.1,
             "#c51b7d"
            ],
            [
             0.2,
             "#de77ae"
            ],
            [
             0.3,
             "#f1b6da"
            ],
            [
             0.4,
             "#fde0ef"
            ],
            [
             0.5,
             "#f7f7f7"
            ],
            [
             0.6,
             "#e6f5d0"
            ],
            [
             0.7,
             "#b8e186"
            ],
            [
             0.8,
             "#7fbc41"
            ],
            [
             0.9,
             "#4d9221"
            ],
            [
             1,
             "#276419"
            ]
           ],
           "sequential": [
            [
             0,
             "#0d0887"
            ],
            [
             0.1111111111111111,
             "#46039f"
            ],
            [
             0.2222222222222222,
             "#7201a8"
            ],
            [
             0.3333333333333333,
             "#9c179e"
            ],
            [
             0.4444444444444444,
             "#bd3786"
            ],
            [
             0.5555555555555556,
             "#d8576b"
            ],
            [
             0.6666666666666666,
             "#ed7953"
            ],
            [
             0.7777777777777778,
             "#fb9f3a"
            ],
            [
             0.8888888888888888,
             "#fdca26"
            ],
            [
             1,
             "#f0f921"
            ]
           ],
           "sequentialminus": [
            [
             0,
             "#0d0887"
            ],
            [
             0.1111111111111111,
             "#46039f"
            ],
            [
             0.2222222222222222,
             "#7201a8"
            ],
            [
             0.3333333333333333,
             "#9c179e"
            ],
            [
             0.4444444444444444,
             "#bd3786"
            ],
            [
             0.5555555555555556,
             "#d8576b"
            ],
            [
             0.6666666666666666,
             "#ed7953"
            ],
            [
             0.7777777777777778,
             "#fb9f3a"
            ],
            [
             0.8888888888888888,
             "#fdca26"
            ],
            [
             1,
             "#f0f921"
            ]
           ]
          },
          "colorway": [
           "#636efa",
           "#EF553B",
           "#00cc96",
           "#ab63fa",
           "#FFA15A",
           "#19d3f3",
           "#FF6692",
           "#B6E880",
           "#FF97FF",
           "#FECB52"
          ],
          "font": {
           "color": "#2a3f5f"
          },
          "geo": {
           "bgcolor": "white",
           "lakecolor": "white",
           "landcolor": "#E5ECF6",
           "showlakes": true,
           "showland": true,
           "subunitcolor": "white"
          },
          "hoverlabel": {
           "align": "left"
          },
          "hovermode": "closest",
          "mapbox": {
           "style": "light"
          },
          "paper_bgcolor": "white",
          "plot_bgcolor": "#E5ECF6",
          "polar": {
           "angularaxis": {
            "gridcolor": "white",
            "linecolor": "white",
            "ticks": ""
           },
           "bgcolor": "#E5ECF6",
           "radialaxis": {
            "gridcolor": "white",
            "linecolor": "white",
            "ticks": ""
           }
          },
          "scene": {
           "xaxis": {
            "backgroundcolor": "#E5ECF6",
            "gridcolor": "white",
            "gridwidth": 2,
            "linecolor": "white",
            "showbackground": true,
            "ticks": "",
            "zerolinecolor": "white"
           },
           "yaxis": {
            "backgroundcolor": "#E5ECF6",
            "gridcolor": "white",
            "gridwidth": 2,
            "linecolor": "white",
            "showbackground": true,
            "ticks": "",
            "zerolinecolor": "white"
           },
           "zaxis": {
            "backgroundcolor": "#E5ECF6",
            "gridcolor": "white",
            "gridwidth": 2,
            "linecolor": "white",
            "showbackground": true,
            "ticks": "",
            "zerolinecolor": "white"
           }
          },
          "shapedefaults": {
           "line": {
            "color": "#2a3f5f"
           }
          },
          "ternary": {
           "aaxis": {
            "gridcolor": "white",
            "linecolor": "white",
            "ticks": ""
           },
           "baxis": {
            "gridcolor": "white",
            "linecolor": "white",
            "ticks": ""
           },
           "bgcolor": "#E5ECF6",
           "caxis": {
            "gridcolor": "white",
            "linecolor": "white",
            "ticks": ""
           }
          },
          "title": {
           "x": 0.05
          },
          "xaxis": {
           "automargin": true,
           "gridcolor": "white",
           "linecolor": "white",
           "ticks": "",
           "title": {
            "standoff": 15
           },
           "zerolinecolor": "white",
           "zerolinewidth": 2
          },
          "yaxis": {
           "automargin": true,
           "gridcolor": "white",
           "linecolor": "white",
           "ticks": "",
           "title": {
            "standoff": 15
           },
           "zerolinecolor": "white",
           "zerolinewidth": 2
          }
         }
        },
        "title": {
         "text": "Closeness centralitiy score of each character"
        }
       }
      }
     },
     "metadata": {},
     "output_type": "display_data"
    }
   ],
   "source": [
    "sort_cent = sorted(nx.closeness_centrality(G).items(), key=lambda kv: kv[1], reverse = True)\n",
    "fig = go.Figure(data=[go.Table(header=dict(values=['<b>Character</b>', '<b>Centrality score (closeness)</b>']),\n",
    "                 cells=dict(values=[\n",
    "                     [name[0].replace('_', ' ') for name in sort_cent],\n",
    "                      [np.round(name[1],3) for name in sort_cent]\n",
    "                      ]))\n",
    "                     ])\n",
    "fig.update_layout(\n",
    "        height=310,\n",
    "        showlegend=False,\n",
    "        title_text = \"Closeness centralitiy score of each character\"\n",
    "    )\n",
    "fig.show()"
   ]
  },
  {
   "cell_type": "markdown",
   "metadata": {
    "cell_id": "00048-46abfd43-051b-4449-85fd-ad9562c408dd",
    "deepnote_cell_type": "markdown",
    "tags": []
   },
   "source": [
    "In the table above the closeness centrality score is computed for all characters and sorted in descending order. As expected it can be seen that *Jon Snow, Daenerys Targaryen* and *Tyrion Lannister* are some of the characters close to the others. Further, *Stannis Baratheon* has a high centrality score, which would make sense as he is involved both as an heir to the throne, but also his involment with the red priest *Mellisandre*. \n",
    "\n",
    "Further, *Gregor Clegane, Eddard Stark, Bronn* and the *Night King* has a high centrality score, which does not come as a surprise as these are key characters in the story, and interacts with many characters. In the bottom some of the smaller characters such as *Ray* and *Aeron Greyjoy* are present. \n",
    "\n",
    "From this it could appear that character with a high degree also has a high closeness centralitity. This are we going to visualize in a scatter plot below and as well compute correlation coefficients for both in- and out-degree. "
   ]
  },
  {
   "cell_type": "code",
   "execution_count": 18,
   "metadata": {
    "cell_id": "00045-79e8086f-11dc-40c4-b364-5ab1972cc1a5",
    "deepnote_cell_type": "code",
    "deepnote_output_heights": [
     506
    ],
    "deepnote_to_be_reexecuted": false,
    "execution_millis": 1826,
    "execution_start": 1638453247319,
    "source_hash": "c799fc0e",
    "tags": []
   },
   "outputs": [
    {
     "data": {
      "image/png": "[encoded data removed]",
      "text/plain": [
       "<Figure size 864x576 with 1 Axes>"
      ]
     },
     "metadata": {
      "needs_background": "light"
     },
     "output_type": "display_data"
    },
    {
     "name": "stdout",
     "output_type": "stream",
     "text": [
      "Correlation with in degree: 0.426\n",
      "Correlation with out degree: 0.459\n"
     ]
    }
   ],
   "source": [
    "plt.figure(figsize = (12,8))\n",
    "plt.scatter([e for n, e in top5_in_degrees],nx.closeness_centrality(G).values(), color= 'red', label = 'In degree')\n",
    "plt.scatter([e for n, e in top5_out_degrees],nx.closeness_centrality(G).values(), color= 'blue', label = 'Out degree')\n",
    "plt.title('Closeness centrality vs. degree', fontsize = 20)\n",
    "plt.xlabel('Degree', fontsize = 12)\n",
    "plt.ylabel('Closeness centrality', fontsize = 12)\n",
    "plt.legend()\n",
    "plt.show()\n",
    "c_in = np.corrcoef([d for name, d in top5_in_degrees],[v for v in nx.closeness_centrality(G).values()])\n",
    "c_out = np.corrcoef([d for name, d in top5_out_degrees],[v for v in nx.closeness_centrality(G).values()])\n",
    "print(f'Correlation with in degree: {round(c_in[1,0],3)}')\n",
    "print(f'Correlation with out degree: {round(c_out[1,0],3)}')"
   ]
  },
  {
   "cell_type": "markdown",
   "metadata": {
    "cell_id": "00050-8494a0b4-e2a4-41d0-ad67-a3bdb3c39d1a",
    "deepnote_cell_type": "markdown",
    "tags": []
   },
   "source": [
    "From the above it can be seen that there are only some slight correlation between in- and out-degree and closeness centrality. We can see in general that it appears when a character has high degree also have high closeness centrality, but a few characters with very high degree interfer with this tendency."
   ]
  },
  {
   "cell_type": "markdown",
   "metadata": {
    "cell_id": "00048-4162b771-a59e-4f40-9502-e7c34c46f06c",
    "deepnote_cell_type": "markdown",
    "tags": []
   },
   "source": [
    "<h4 align = \"center\"> 3.3.2 Eigenvector centrality </h4>\n",
    "\n",
    "We are now going to compute the eigenvector centrality for each character in the network. The eigenvector centrality is based on the centrality of its neighbors. "
   ]
  },
  {
   "cell_type": "code",
   "execution_count": 19,
   "metadata": {
    "cell_id": "00049-1805800c-7f15-4150-98fb-5375f51aa0dd",
    "deepnote_cell_type": "code",
    "deepnote_output_heights": [
     312
    ],
    "deepnote_to_be_reexecuted": false,
    "execution_millis": 72,
    "execution_start": 1638451112347,
    "source_hash": "4db5bce0",
    "tags": []
   },
   "outputs": [
    {
     "data": {
      "application/vnd.plotly.v1+json": {
       "config": {
        "plotlyServerURL": "https://plot.ly"
       },
       "data": [
        {
         "cells": {
          "values": [
           [
            "Jon Snow",
            "Daenerys Targaryen",
            "Tyrion Lannister",
            "Eddard Stark",
            "Cersei Lannister",
            "Stannis Baratheon",
            "Sansa Stark",
            "Jaime Lannister",
            "Robb Stark",
            "Robert Baratheon",
            "Tywin Lannister",
            "Varys",
            "Joffrey Baratheon",
            "Catelyn Stark",
            "Arya Stark",
            "Petyr Baelish",
            "Bran Stark",
            "Gregor Clegane",
            "Roose Bolton",
            "Brienne of Tarth",
            "Theon Greyjoy",
            "Melisandre",
            "Ramsay Bolton",
            "Bronn",
            "Olenna Tyrell",
            "Pycelle",
            "Qyburn",
            "Renly Baratheon",
            "Podrick Payne",
            "Night King",
            "Samwell Tarly",
            "Tommen Baratheon",
            "Oberyn Martell",
            "Margaery Tyrell",
            "Loras Tyrell",
            "Mance Rayder",
            "Tormund",
            "Sandor Clegane",
            "Rodrik Cassel",
            "Rhaegar Targaryen",
            "Mace Tyrell",
            "Rickon Stark",
            "Euron Greyjoy",
            "Randyll Tarly",
            "Barristan Selmy",
            "Janos Slynt",
            "Walder Frey",
            "Shae",
            "Brynden Tully",
            "Jorah Mormont",
            "Myrcella Baratheon",
            "Edmure Tully",
            "Lyanna Stark",
            "Balon Greyjoy",
            "Luwin",
            "Ros",
            "Ilyn Payne",
            "Missandei",
            "Davos Seaworth",
            "Jeor Mormont",
            "Ellaria Sand",
            "Lysa Arryn",
            "Beric Dondarrion",
            "Eddison Tollett",
            "Locke",
            "Osha",
            "Gilly",
            "Hodor",
            "Grey Worm",
            "Aemon",
            "Benjen Stark",
            "Thoros",
            "Viserys Targaryen",
            "Meryn Trant",
            "Rickard Karstark",
            "Shireen Baratheon",
            "Lancel Lannister",
            "Alys Karstark",
            "Doran Martell",
            "Robett Glover",
            "Yara Greyjoy",
            "Lyanna Mormont",
            "Drogo",
            "Tyene Sand",
            "Greatjon Umber",
            "Alliser Thorne",
            "Yohn Royce",
            "Meera Reed",
            "Alton Lannister",
            "Dickon Tarly",
            "Ned Umber",
            "Ygritte",
            "Tycho Nestoris",
            "Jory Cassel",
            "Kevan Lannister",
            "Olyvar",
            "Yoren",
            "Syrio Forel",
            "Dontos Hollard",
            "Craster",
            "Amory Lorch",
            "Marillion",
            "Wolkan",
            "Talisa Stark",
            "Myranda",
            "Jaqen H'ghar",
            "Rast",
            "Grenn",
            "Nymeria Sand",
            "Selyse Baratheon",
            "Walder Rivers",
            "Daario Naharis",
            "Rorge",
            "Olly",
            "Qhorin",
            "Biter",
            "Hizdahr zo Loraq",
            "Salladhor Saan",
            "Hot Pie",
            "Unella",
            "Matthos Seaworth",
            "Pypar",
            "Mirri Maz Duur",
            "Styr",
            "Areo Hotah",
            "Obara Sand",
            "Polliver",
            "Mordane",
            "Jojen Reed",
            "Harry Strickland",
            "Gendry Baratheon",
            "Trystane Martell",
            "Irri",
            "Karl Tanner",
            "Shagga",
            "Septa",
            "Order of Maesters",
            "Hallyne",
            "Lommy",
            "Orell",
            "Anguy",
            "Doreah",
            "Robin Arryn",
            "Ebrose",
            "Anya Waynwood",
            "Rakharo",
            "Pyat Pree",
            "Qotho",
            "Xaro Xhoan Daxos",
            "Leaf",
            "Kraznys mo Nakloz",
            "Armeca",
            "Kovarro",
            "Dagmer",
            "Moro",
            "Black Lorren",
            "Aeron Greyjoy",
            "Daisy",
            "Lady Crane",
            "Izembaro",
            "Ray",
            "Qhono"
           ],
           [
            0.228,
            0.205,
            0.205,
            0.196,
            0.195,
            0.19,
            0.187,
            0.179,
            0.174,
            0.174,
            0.167,
            0.166,
            0.166,
            0.161,
            0.16,
            0.147,
            0.143,
            0.132,
            0.128,
            0.124,
            0.122,
            0.119,
            0.111,
            0.107,
            0.107,
            0.106,
            0.102,
            0.099,
            0.098,
            0.096,
            0.094,
            0.093,
            0.093,
            0.093,
            0.091,
            0.087,
            0.087,
            0.085,
            0.084,
            0.083,
            0.083,
            0.082,
            0.082,
            0.08,
            0.08,
            0.074,
            0.074,
            0.073,
            0.072,
            0.071,
            0.07,
            0.068,
            0.068,
            0.066,
            0.065,
            0.065,
            0.065,
            0.064,
            0.064,
            0.062,
            0.061,
            0.06,
            0.059,
            0.057,
            0.056,
            0.056,
            0.054,
            0.051,
            0.051,
            0.049,
            0.048,
            0.048,
            0.048,
            0.047,
            0.047,
            0.047,
            0.046,
            0.046,
            0.044,
            0.044,
            0.043,
            0.043,
            0.042,
            0.04,
            0.04,
            0.039,
            0.039,
            0.038,
            0.037,
            0.037,
            0.037,
            0.036,
            0.036,
            0.036,
            0.035,
            0.034,
            0.034,
            0.033,
            0.033,
            0.031,
            0.031,
            0.031,
            0.03,
            0.029,
            0.029,
            0.029,
            0.028,
            0.027,
            0.026,
            0.026,
            0.025,
            0.025,
            0.025,
            0.024,
            0.023,
            0.023,
            0.022,
            0.021,
            0.021,
            0.021,
            0.02,
            0.02,
            0.019,
            0.019,
            0.018,
            0.018,
            0.018,
            0.018,
            0.018,
            0.017,
            0.017,
            0.017,
            0.017,
            0.016,
            0.016,
            0.016,
            0.016,
            0.016,
            0.015,
            0.015,
            0.015,
            0.015,
            0.015,
            0.015,
            0.014,
            0.014,
            0.014,
            0.013,
            0.012,
            0.012,
            0.011,
            0.011,
            0.011,
            0.01,
            0.01,
            0.009,
            0.008,
            0.008,
            0.007,
            0.006,
            0.005,
            0.004
           ]
          ]
         },
         "header": {
          "values": [
           "<b>Character</b>",
           "<b>Centrality score (eigenvector)</b>"
          ]
         },
         "type": "table"
        }
       ],
       "layout": {
        "height": 310,
        "showlegend": false,
        "template": {
         "data": {
          "bar": [
           {
            "error_x": {
             "color": "#2a3f5f"
            },
            "error_y": {
             "color": "#2a3f5f"
            },
            "marker": {
             "line": {
              "color": "#E5ECF6",
              "width": 0.5
             },
             "pattern": {
              "fillmode": "overlay",
              "size": 10,
              "solidity": 0.2
             }
            },
            "type": "bar"
           }
          ],
          "barpolar": [
           {
            "marker": {
             "line": {
              "color": "#E5ECF6",
              "width": 0.5
             },
             "pattern": {
              "fillmode": "overlay",
              "size": 10,
              "solidity": 0.2
             }
            },
            "type": "barpolar"
           }
          ],
          "carpet": [
           {
            "aaxis": {
             "endlinecolor": "#2a3f5f",
             "gridcolor": "white",
             "linecolor": "white",
             "minorgridcolor": "white",
             "startlinecolor": "#2a3f5f"
            },
            "baxis": {
             "endlinecolor": "#2a3f5f",
             "gridcolor": "white",
             "linecolor": "white",
             "minorgridcolor": "white",
             "startlinecolor": "#2a3f5f"
            },
            "type": "carpet"
           }
          ],
          "choropleth": [
           {
            "colorbar": {
             "outlinewidth": 0,
             "ticks": ""
            },
            "type": "choropleth"
           }
          ],
          "contour": [
           {
            "colorbar": {
             "outlinewidth": 0,
             "ticks": ""
            },
            "colorscale": [
             [
              0,
              "#0d0887"
             ],
             [
              0.1111111111111111,
              "#46039f"
             ],
             [
              0.2222222222222222,
              "#7201a8"
             ],
             [
              0.3333333333333333,
              "#9c179e"
             ],
             [
              0.4444444444444444,
              "#bd3786"
             ],
             [
              0.5555555555555556,
              "#d8576b"
             ],
             [
              0.6666666666666666,
              "#ed7953"
             ],
             [
              0.7777777777777778,
              "#fb9f3a"
             ],
             [
              0.8888888888888888,
              "#fdca26"
             ],
             [
              1,
              "#f0f921"
             ]
            ],
            "type": "contour"
           }
          ],
          "contourcarpet": [
           {
            "colorbar": {
             "outlinewidth": 0,
             "ticks": ""
            },
            "type": "contourcarpet"
           }
          ],
          "heatmap": [
           {
            "colorbar": {
             "outlinewidth": 0,
             "ticks": ""
            },
            "colorscale": [
             [
              0,
              "#0d0887"
             ],
             [
              0.1111111111111111,
              "#46039f"
             ],
             [
              0.2222222222222222,
              "#7201a8"
             ],
             [
              0.3333333333333333,
              "#9c179e"
             ],
             [
              0.4444444444444444,
              "#bd3786"
             ],
             [
              0.5555555555555556,
              "#d8576b"
             ],
             [
              0.6666666666666666,
              "#ed7953"
             ],
             [
              0.7777777777777778,
              "#fb9f3a"
             ],
             [
              0.8888888888888888,
              "#fdca26"
             ],
             [
              1,
              "#f0f921"
             ]
            ],
            "type": "heatmap"
           }
          ],
          "heatmapgl": [
           {
            "colorbar": {
             "outlinewidth": 0,
             "ticks": ""
            },
            "colorscale": [
             [
              0,
              "#0d0887"
             ],
             [
              0.1111111111111111,
              "#46039f"
             ],
             [
              0.2222222222222222,
              "#7201a8"
             ],
             [
              0.3333333333333333,
              "#9c179e"
             ],
             [
              0.4444444444444444,
              "#bd3786"
             ],
             [
              0.5555555555555556,
              "#d8576b"
             ],
             [
              0.6666666666666666,
              "#ed7953"
             ],
             [
              0.7777777777777778,
              "#fb9f3a"
             ],
             [
              0.8888888888888888,
              "#fdca26"
             ],
             [
              1,
              "#f0f921"
             ]
            ],
            "type": "heatmapgl"
           }
          ],
          "histogram": [
           {
            "marker": {
             "pattern": {
              "fillmode": "overlay",
              "size": 10,
              "solidity": 0.2
             }
            },
            "type": "histogram"
           }
          ],
          "histogram2d": [
           {
            "colorbar": {
             "outlinewidth": 0,
             "ticks": ""
            },
            "colorscale": [
             [
              0,
              "#0d0887"
             ],
             [
              0.1111111111111111,
              "#46039f"
             ],
             [
              0.2222222222222222,
              "#7201a8"
             ],
             [
              0.3333333333333333,
              "#9c179e"
             ],
             [
              0.4444444444444444,
              "#bd3786"
             ],
             [
              0.5555555555555556,
              "#d8576b"
             ],
             [
              0.6666666666666666,
              "#ed7953"
             ],
             [
              0.7777777777777778,
              "#fb9f3a"
             ],
             [
              0.8888888888888888,
              "#fdca26"
             ],
             [
              1,
              "#f0f921"
             ]
            ],
            "type": "histogram2d"
           }
          ],
          "histogram2dcontour": [
           {
            "colorbar": {
             "outlinewidth": 0,
             "ticks": ""
            },
            "colorscale": [
             [
              0,
              "#0d0887"
             ],
             [
              0.1111111111111111,
              "#46039f"
             ],
             [
              0.2222222222222222,
              "#7201a8"
             ],
             [
              0.3333333333333333,
              "#9c179e"
             ],
             [
              0.4444444444444444,
              "#bd3786"
             ],
             [
              0.5555555555555556,
              "#d8576b"
             ],
             [
              0.6666666666666666,
              "#ed7953"
             ],
             [
              0.7777777777777778,
              "#fb9f3a"
             ],
             [
              0.8888888888888888,
              "#fdca26"
             ],
             [
              1,
              "#f0f921"
             ]
            ],
            "type": "histogram2dcontour"
           }
          ],
          "mesh3d": [
           {
            "colorbar": {
             "outlinewidth": 0,
             "ticks": ""
            },
            "type": "mesh3d"
           }
          ],
          "parcoords": [
           {
            "line": {
             "colorbar": {
              "outlinewidth": 0,
              "ticks": ""
             }
            },
            "type": "parcoords"
           }
          ],
          "pie": [
           {
            "automargin": true,
            "type": "pie"
           }
          ],
          "scatter": [
           {
            "marker": {
             "colorbar": {
              "outlinewidth": 0,
              "ticks": ""
             }
            },
            "type": "scatter"
           }
          ],
          "scatter3d": [
           {
            "line": {
             "colorbar": {
              "outlinewidth": 0,
              "ticks": ""
             }
            },
            "marker": {
             "colorbar": {
              "outlinewidth": 0,
              "ticks": ""
             }
            },
            "type": "scatter3d"
           }
          ],
          "scattercarpet": [
           {
            "marker": {
             "colorbar": {
              "outlinewidth": 0,
              "ticks": ""
             }
            },
            "type": "scattercarpet"
           }
          ],
          "scattergeo": [
           {
            "marker": {
             "colorbar": {
              "outlinewidth": 0,
              "ticks": ""
             }
            },
            "type": "scattergeo"
           }
          ],
          "scattergl": [
           {
            "marker": {
             "colorbar": {
              "outlinewidth": 0,
              "ticks": ""
             }
            },
            "type": "scattergl"
           }
          ],
          "scattermapbox": [
           {
            "marker": {
             "colorbar": {
              "outlinewidth": 0,
              "ticks": ""
             }
            },
            "type": "scattermapbox"
           }
          ],
          "scatterpolar": [
           {
            "marker": {
             "colorbar": {
              "outlinewidth": 0,
              "ticks": ""
             }
            },
            "type": "scatterpolar"
           }
          ],
          "scatterpolargl": [
           {
            "marker": {
             "colorbar": {
              "outlinewidth": 0,
              "ticks": ""
             }
            },
            "type": "scatterpolargl"
           }
          ],
          "scatterternary": [
           {
            "marker": {
             "colorbar": {
              "outlinewidth": 0,
              "ticks": ""
             }
            },
            "type": "scatterternary"
           }
          ],
          "surface": [
           {
            "colorbar": {
             "outlinewidth": 0,
             "ticks": ""
            },
            "colorscale": [
             [
              0,
              "#0d0887"
             ],
             [
              0.1111111111111111,
              "#46039f"
             ],
             [
              0.2222222222222222,
              "#7201a8"
             ],
             [
              0.3333333333333333,
              "#9c179e"
             ],
             [
              0.4444444444444444,
              "#bd3786"
             ],
             [
              0.5555555555555556,
              "#d8576b"
             ],
             [
              0.6666666666666666,
              "#ed7953"
             ],
             [
              0.7777777777777778,
              "#fb9f3a"
             ],
             [
              0.8888888888888888,
              "#fdca26"
             ],
             [
              1,
              "#f0f921"
             ]
            ],
            "type": "surface"
           }
          ],
          "table": [
           {
            "cells": {
             "fill": {
              "color": "#EBF0F8"
             },
             "line": {
              "color": "white"
             }
            },
            "header": {
             "fill": {
              "color": "#C8D4E3"
             },
             "line": {
              "color": "white"
             }
            },
            "type": "table"
           }
          ]
         },
         "layout": {
          "annotationdefaults": {
           "arrowcolor": "#2a3f5f",
           "arrowhead": 0,
           "arrowwidth": 1
          },
          "autotypenumbers": "strict",
          "coloraxis": {
           "colorbar": {
            "outlinewidth": 0,
            "ticks": ""
           }
          },
          "colorscale": {
           "diverging": [
            [
             0,
             "#8e0152"
            ],
            [
             0.1,
             "#c51b7d"
            ],
            [
             0.2,
             "#de77ae"
            ],
            [
             0.3,
             "#f1b6da"
            ],
            [
             0.4,
             "#fde0ef"
            ],
            [
             0.5,
             "#f7f7f7"
            ],
            [
             0.6,
             "#e6f5d0"
            ],
            [
             0.7,
             "#b8e186"
            ],
            [
             0.8,
             "#7fbc41"
            ],
            [
             0.9,
             "#4d9221"
            ],
            [
             1,
             "#276419"
            ]
           ],
           "sequential": [
            [
             0,
             "#0d0887"
            ],
            [
             0.1111111111111111,
             "#46039f"
            ],
            [
             0.2222222222222222,
             "#7201a8"
            ],
            [
             0.3333333333333333,
             "#9c179e"
            ],
            [
             0.4444444444444444,
             "#bd3786"
            ],
            [
             0.5555555555555556,
             "#d8576b"
            ],
            [
             0.6666666666666666,
             "#ed7953"
            ],
            [
             0.7777777777777778,
             "#fb9f3a"
            ],
            [
             0.8888888888888888,
             "#fdca26"
            ],
            [
             1,
             "#f0f921"
            ]
           ],
           "sequentialminus": [
            [
             0,
             "#0d0887"
            ],
            [
             0.1111111111111111,
             "#46039f"
            ],
            [
             0.2222222222222222,
             "#7201a8"
            ],
            [
             0.3333333333333333,
             "#9c179e"
            ],
            [
             0.4444444444444444,
             "#bd3786"
            ],
            [
             0.5555555555555556,
             "#d8576b"
            ],
            [
             0.6666666666666666,
             "#ed7953"
            ],
            [
             0.7777777777777778,
             "#fb9f3a"
            ],
            [
             0.8888888888888888,
             "#fdca26"
            ],
            [
             1,
             "#f0f921"
            ]
           ]
          },
          "colorway": [
           "#636efa",
           "#EF553B",
           "#00cc96",
           "#ab63fa",
           "#FFA15A",
           "#19d3f3",
           "#FF6692",
           "#B6E880",
           "#FF97FF",
           "#FECB52"
          ],
          "font": {
           "color": "#2a3f5f"
          },
          "geo": {
           "bgcolor": "white",
           "lakecolor": "white",
           "landcolor": "#E5ECF6",
           "showlakes": true,
           "showland": true,
           "subunitcolor": "white"
          },
          "hoverlabel": {
           "align": "left"
          },
          "hovermode": "closest",
          "mapbox": {
           "style": "light"
          },
          "paper_bgcolor": "white",
          "plot_bgcolor": "#E5ECF6",
          "polar": {
           "angularaxis": {
            "gridcolor": "white",
            "linecolor": "white",
            "ticks": ""
           },
           "bgcolor": "#E5ECF6",
           "radialaxis": {
            "gridcolor": "white",
            "linecolor": "white",
            "ticks": ""
           }
          },
          "scene": {
           "xaxis": {
            "backgroundcolor": "#E5ECF6",
            "gridcolor": "white",
            "gridwidth": 2,
            "linecolor": "white",
            "showbackground": true,
            "ticks": "",
            "zerolinecolor": "white"
           },
           "yaxis": {
            "backgroundcolor": "#E5ECF6",
            "gridcolor": "white",
            "gridwidth": 2,
            "linecolor": "white",
            "showbackground": true,
            "ticks": "",
            "zerolinecolor": "white"
           },
           "zaxis": {
            "backgroundcolor": "#E5ECF6",
            "gridcolor": "white",
            "gridwidth": 2,
            "linecolor": "white",
            "showbackground": true,
            "ticks": "",
            "zerolinecolor": "white"
           }
          },
          "shapedefaults": {
           "line": {
            "color": "#2a3f5f"
           }
          },
          "ternary": {
           "aaxis": {
            "gridcolor": "white",
            "linecolor": "white",
            "ticks": ""
           },
           "baxis": {
            "gridcolor": "white",
            "linecolor": "white",
            "ticks": ""
           },
           "bgcolor": "#E5ECF6",
           "caxis": {
            "gridcolor": "white",
            "linecolor": "white",
            "ticks": ""
           }
          },
          "title": {
           "x": 0.05
          },
          "xaxis": {
           "automargin": true,
           "gridcolor": "white",
           "linecolor": "white",
           "ticks": "",
           "title": {
            "standoff": 15
           },
           "zerolinecolor": "white",
           "zerolinewidth": 2
          },
          "yaxis": {
           "automargin": true,
           "gridcolor": "white",
           "linecolor": "white",
           "ticks": "",
           "title": {
            "standoff": 15
           },
           "zerolinecolor": "white",
           "zerolinewidth": 2
          }
         }
        },
        "title": {
         "text": "Eigenvector centrality score of each character"
        }
       }
      }
     },
     "metadata": {},
     "output_type": "display_data"
    }
   ],
   "source": [
    "sort_cent = sorted(nx.eigenvector_centrality(G).items(), key=lambda kv: kv[1], reverse = True)\n",
    "fig = go.Figure(data=[go.Table(header=dict(values=['<b>Character</b>', '<b>Centrality score (eigenvector)</b>']),\n",
    "                 cells=dict(values=[\n",
    "                     [name[0].replace('_', ' ') for name in sort_cent],\n",
    "                      [np.round(name[1],3) for name in sort_cent]\n",
    "                      ]))\n",
    "                     ])\n",
    "fig.update_layout(\n",
    "        height=310,\n",
    "        showlegend=False,\n",
    "        title_text = \"Eigenvector centrality score of each character\"\n",
    "    )\n",
    "fig.show()"
   ]
  },
  {
   "cell_type": "markdown",
   "metadata": {
    "cell_id": "00053-a73e7f80-e989-43d9-9000-68a2df120fb4",
    "deepnote_cell_type": "markdown",
    "tags": []
   },
   "source": [
    "Again, we notice that main characters has the highest eigenvector centrality score, and almost the same characters are in top 5. Further, the largest eigenvector centrality is 0.228 which is Jon Snow. \n",
    "\n",
    "Again, we will visualize the centrality vs. the in and out-degree to see if there are any correlation. "
   ]
  },
  {
   "cell_type": "code",
   "execution_count": 20,
   "metadata": {
    "cell_id": "00050-fe30dda9-49b3-41c7-9431-189eee3ab76f",
    "deepnote_cell_type": "code",
    "deepnote_output_heights": [
     506
    ],
    "deepnote_to_be_reexecuted": false,
    "execution_millis": 1037,
    "execution_start": 1638453041047,
    "source_hash": "ac0c4b52",
    "tags": []
   },
   "outputs": [
    {
     "data": {
      "image/png": "[encoded data removed]",
      "text/plain": [
       "<Figure size 864x576 with 1 Axes>"
      ]
     },
     "metadata": {
      "needs_background": "light"
     },
     "output_type": "display_data"
    },
    {
     "name": "stdout",
     "output_type": "stream",
     "text": [
      "Correlation with in degree: 0.414\n",
      "Correlation with out degree: 0.438\n"
     ]
    }
   ],
   "source": [
    "plt.figure(figsize = (12,8))\n",
    "plt.scatter([e for n, e in top5_in_degrees],nx.eigenvector_centrality(G).values(), color= 'red', label = 'In degree')\n",
    "plt.scatter([e for n, e in top5_out_degrees],nx.eigenvector_centrality(G).values(), color= 'blue', label = 'Out degree')\n",
    "plt.title('Eigenvector centrality vs. degree', fontsize = 20)\n",
    "plt.xlabel('Degree', fontsize = 12)\n",
    "plt.ylabel('Eigenvector centrality', fontsize = 12)\n",
    "plt.legend()\n",
    "plt.show()\n",
    "c_in = np.corrcoef([d for name, d in top5_in_degrees],[v for v in nx.eigenvector_centrality(G).values()])\n",
    "c_out = np.corrcoef([d for name, d in top5_out_degrees],[v for v in nx.eigenvector_centrality(G).values()])\n",
    "print(f'Correlation with in degree: {round(c_in[1,0],3)}')\n",
    "print(f'Correlation with out degree: {round(c_out[1,0],3)}')"
   ]
  },
  {
   "cell_type": "markdown",
   "metadata": {
    "cell_id": "00055-77e985bd-996f-4b44-8718-258f6e487248",
    "deepnote_cell_type": "markdown",
    "tags": []
   },
   "source": [
    "The result is very similar to the one achieved by using the closeness centrality measure. Again we see some correlation between the degree and the eigenvector centrality. When the degree is increasing the variation in eigenvector centrality appears to increase as well. "
   ]
  },
  {
   "cell_type": "markdown",
   "metadata": {
    "cell_id": "00048-30be3ffb-ca7d-4fc1-92b2-30c800e247da",
    "deepnote_cell_type": "markdown",
    "tags": []
   },
   "source": [
    "<h4 align = \"center\"> 3.3.4 Betweenness centrality </h4>\n",
    "\n",
    "As a last metric of centrality we will investigate the betweenness centrality, which is estimated as the sum of the fraction of all shortest paths that passes through the given node."
   ]
  },
  {
   "cell_type": "code",
   "execution_count": 21,
   "metadata": {
    "cell_id": "00051-6e057269-ba6c-4b66-b70c-30b747e37fa9",
    "deepnote_cell_type": "code",
    "deepnote_output_heights": [
     312
    ],
    "deepnote_to_be_reexecuted": false,
    "execution_millis": 594,
    "execution_start": 1638451118852,
    "source_hash": "b0f6a459",
    "tags": []
   },
   "outputs": [
    {
     "data": {
      "application/vnd.plotly.v1+json": {
       "config": {
        "plotlyServerURL": "https://plot.ly"
       },
       "data": [
        {
         "cells": {
          "values": [
           [
            "Jon Snow",
            "Daenerys Targaryen",
            "Arya Stark",
            "Tyrion Lannister",
            "Eddard Stark",
            "Jaime Lannister",
            "Sansa Stark",
            "Cersei Lannister",
            "Robb Stark",
            "Jorah Mormont",
            "Petyr Baelish",
            "Bronn",
            "Stannis Baratheon",
            "Joffrey Baratheon",
            "Robert Baratheon",
            "Gregor Clegane",
            "Theon Greyjoy",
            "Bran Stark",
            "Tywin Lannister",
            "Catelyn Stark",
            "Melisandre",
            "Samwell Tarly",
            "Varys",
            "Sandor Clegane",
            "Brienne of Tarth",
            "Davos Seaworth",
            "Tormund",
            "Rodrik Cassel",
            "Ramsay Bolton",
            "Night King",
            "Euron Greyjoy",
            "Beric Dondarrion",
            "Barristan Selmy",
            "Janos Slynt",
            "Jaqen H'ghar",
            "Roose Bolton",
            "Qyburn",
            "Oberyn Martell",
            "Mance Rayder",
            "Pycelle",
            "Jeor Mormont",
            "Thoros",
            "Eddison Tollett",
            "Lommy",
            "Viserys Targaryen",
            "Olenna Tyrell",
            "Myrcella Baratheon",
            "Benjen Stark",
            "Missandei",
            "Drogo",
            "Gilly",
            "Hot Pie",
            "Ros",
            "Yohn Royce",
            "Luwin",
            "Podrick Payne",
            "Alliser Thorne",
            "Lysa Arryn",
            "Rickon Stark",
            "Renly Baratheon",
            "Locke",
            "Loras Tyrell",
            "Balon Greyjoy",
            "Aemon",
            "Ellaria Sand",
            "Mace Tyrell",
            "Osha",
            "Amory Lorch",
            "Tommen Baratheon",
            "Shireen Baratheon",
            "Hodor",
            "Yara Greyjoy",
            "Yoren",
            "Margaery Tyrell",
            "Rhaegar Targaryen",
            "Walder Frey",
            "Randyll Tarly",
            "Rast",
            "Wolkan",
            "Lyanna Mormont",
            "Alys Karstark",
            "Edmure Tully",
            "Meera Reed",
            "Robett Glover",
            "Doran Martell",
            "Rickard Karstark",
            "Tyene Sand",
            "Order of Maesters",
            "Lancel Lannister",
            "Meryn Trant",
            "Grey Worm",
            "Lyanna Stark",
            "Biter",
            "Syrio Forel",
            "Xaro Xhoan Daxos",
            "Ilyn Payne",
            "Gendry Baratheon",
            "Greatjon Umber",
            "Grenn",
            "Ygritte",
            "Kevan Lannister",
            "Brynden Tully",
            "Areo Hotah",
            "Karl Tanner",
            "Doreah",
            "Jojen Reed",
            "Pyat Pree",
            "Salladhor Saan",
            "Matthos Seaworth",
            "Craster",
            "Shae",
            "Rorge",
            "Mirri Maz Duur",
            "Nymeria Sand",
            "Polliver",
            "Ned Umber",
            "Styr",
            "Daario Naharis",
            "Dickon Tarly",
            "Rakharo",
            "Obara Sand",
            "Aeron Greyjoy",
            "Lady Crane",
            "Tycho Nestoris",
            "Qhorin",
            "Olyvar",
            "Dontos Hollard",
            "Talisa Stark",
            "Olly",
            "Septa",
            "Ebrose",
            "Unella",
            "Orell",
            "Robin Arryn",
            "Alton Lannister",
            "Myranda",
            "Irri",
            "Pypar",
            "Walder Rivers",
            "Jory Cassel",
            "Trystane Martell",
            "Marillion",
            "Qhono",
            "Izembaro",
            "Hallyne",
            "Mordane",
            "Black Lorren",
            "Dagmer",
            "Kovarro",
            "Anguy",
            "Harry Strickland",
            "Selyse Baratheon",
            "Daisy",
            "Qotho",
            "Hizdahr zo Loraq",
            "Anya Waynwood",
            "Shagga",
            "Leaf",
            "Armeca",
            "Moro",
            "Kraznys mo Nakloz",
            "Ray"
           ],
           [
            0.11,
            0.095,
            0.067,
            0.05,
            0.04,
            0.039,
            0.035,
            0.033,
            0.03,
            0.029,
            0.028,
            0.026,
            0.025,
            0.025,
            0.024,
            0.023,
            0.022,
            0.021,
            0.021,
            0.02,
            0.02,
            0.017,
            0.014,
            0.014,
            0.013,
            0.011,
            0.01,
            0.01,
            0.01,
            0.009,
            0.009,
            0.009,
            0.008,
            0.008,
            0.008,
            0.008,
            0.008,
            0.007,
            0.007,
            0.007,
            0.007,
            0.007,
            0.007,
            0.006,
            0.006,
            0.005,
            0.005,
            0.005,
            0.005,
            0.005,
            0.004,
            0.004,
            0.004,
            0.004,
            0.004,
            0.004,
            0.004,
            0.004,
            0.004,
            0.004,
            0.004,
            0.004,
            0.004,
            0.003,
            0.003,
            0.003,
            0.003,
            0.003,
            0.003,
            0.003,
            0.003,
            0.003,
            0.003,
            0.003,
            0.002,
            0.002,
            0.002,
            0.002,
            0.002,
            0.002,
            0.002,
            0.002,
            0.002,
            0.002,
            0.001,
            0.001,
            0.001,
            0.001,
            0.001,
            0.001,
            0.001,
            0.001,
            0.001,
            0.001,
            0.001,
            0.001,
            0.001,
            0.001,
            0.001,
            0.001,
            0.001,
            0.001,
            0.001,
            0.001,
            0.001,
            0.001,
            0.001,
            0.001,
            0.001,
            0.001,
            0.001,
            0.001,
            0.001,
            0.001,
            0.001,
            0.001,
            0.001,
            0.001,
            0,
            0,
            0,
            0,
            0,
            0,
            0,
            0,
            0,
            0,
            0,
            0,
            0,
            0,
            0,
            0,
            0,
            0,
            0,
            0,
            0,
            0,
            0,
            0,
            0,
            0,
            0,
            0,
            0,
            0,
            0,
            0,
            0,
            0,
            0,
            0,
            0,
            0,
            0,
            0,
            0,
            0,
            0,
            0
           ]
          ]
         },
         "header": {
          "values": [
           "<b>Character</b>",
           "<b>Centrality score (betweenness)</b>"
          ]
         },
         "type": "table"
        }
       ],
       "layout": {
        "height": 310,
        "showlegend": false,
        "template": {
         "data": {
          "bar": [
           {
            "error_x": {
             "color": "#2a3f5f"
            },
            "error_y": {
             "color": "#2a3f5f"
            },
            "marker": {
             "line": {
              "color": "#E5ECF6",
              "width": 0.5
             },
             "pattern": {
              "fillmode": "overlay",
              "size": 10,
              "solidity": 0.2
             }
            },
            "type": "bar"
           }
          ],
          "barpolar": [
           {
            "marker": {
             "line": {
              "color": "#E5ECF6",
              "width": 0.5
             },
             "pattern": {
              "fillmode": "overlay",
              "size": 10,
              "solidity": 0.2
             }
            },
            "type": "barpolar"
           }
          ],
          "carpet": [
           {
            "aaxis": {
             "endlinecolor": "#2a3f5f",
             "gridcolor": "white",
             "linecolor": "white",
             "minorgridcolor": "white",
             "startlinecolor": "#2a3f5f"
            },
            "baxis": {
             "endlinecolor": "#2a3f5f",
             "gridcolor": "white",
             "linecolor": "white",
             "minorgridcolor": "white",
             "startlinecolor": "#2a3f5f"
            },
            "type": "carpet"
           }
          ],
          "choropleth": [
           {
            "colorbar": {
             "outlinewidth": 0,
             "ticks": ""
            },
            "type": "choropleth"
           }
          ],
          "contour": [
           {
            "colorbar": {
             "outlinewidth": 0,
             "ticks": ""
            },
            "colorscale": [
             [
              0,
              "#0d0887"
             ],
             [
              0.1111111111111111,
              "#46039f"
             ],
             [
              0.2222222222222222,
              "#7201a8"
             ],
             [
              0.3333333333333333,
              "#9c179e"
             ],
             [
              0.4444444444444444,
              "#bd3786"
             ],
             [
              0.5555555555555556,
              "#d8576b"
             ],
             [
              0.6666666666666666,
              "#ed7953"
             ],
             [
              0.7777777777777778,
              "#fb9f3a"
             ],
             [
              0.8888888888888888,
              "#fdca26"
             ],
             [
              1,
              "#f0f921"
             ]
            ],
            "type": "contour"
           }
          ],
          "contourcarpet": [
           {
            "colorbar": {
             "outlinewidth": 0,
             "ticks": ""
            },
            "type": "contourcarpet"
           }
          ],
          "heatmap": [
           {
            "colorbar": {
             "outlinewidth": 0,
             "ticks": ""
            },
            "colorscale": [
             [
              0,
              "#0d0887"
             ],
             [
              0.1111111111111111,
              "#46039f"
             ],
             [
              0.2222222222222222,
              "#7201a8"
             ],
             [
              0.3333333333333333,
              "#9c179e"
             ],
             [
              0.4444444444444444,
              "#bd3786"
             ],
             [
              0.5555555555555556,
              "#d8576b"
             ],
             [
              0.6666666666666666,
              "#ed7953"
             ],
             [
              0.7777777777777778,
              "#fb9f3a"
             ],
             [
              0.8888888888888888,
              "#fdca26"
             ],
             [
              1,
              "#f0f921"
             ]
            ],
            "type": "heatmap"
           }
          ],
          "heatmapgl": [
           {
            "colorbar": {
             "outlinewidth": 0,
             "ticks": ""
            },
            "colorscale": [
             [
              0,
              "#0d0887"
             ],
             [
              0.1111111111111111,
              "#46039f"
             ],
             [
              0.2222222222222222,
              "#7201a8"
             ],
             [
              0.3333333333333333,
              "#9c179e"
             ],
             [
              0.4444444444444444,
              "#bd3786"
             ],
             [
              0.5555555555555556,
              "#d8576b"
             ],
             [
              0.6666666666666666,
              "#ed7953"
             ],
             [
              0.7777777777777778,
              "#fb9f3a"
             ],
             [
              0.8888888888888888,
              "#fdca26"
             ],
             [
              1,
              "#f0f921"
             ]
            ],
            "type": "heatmapgl"
           }
          ],
          "histogram": [
           {
            "marker": {
             "pattern": {
              "fillmode": "overlay",
              "size": 10,
              "solidity": 0.2
             }
            },
            "type": "histogram"
           }
          ],
          "histogram2d": [
           {
            "colorbar": {
             "outlinewidth": 0,
             "ticks": ""
            },
            "colorscale": [
             [
              0,
              "#0d0887"
             ],
             [
              0.1111111111111111,
              "#46039f"
             ],
             [
              0.2222222222222222,
              "#7201a8"
             ],
             [
              0.3333333333333333,
              "#9c179e"
             ],
             [
              0.4444444444444444,
              "#bd3786"
             ],
             [
              0.5555555555555556,
              "#d8576b"
             ],
             [
              0.6666666666666666,
              "#ed7953"
             ],
             [
              0.7777777777777778,
              "#fb9f3a"
             ],
             [
              0.8888888888888888,
              "#fdca26"
             ],
             [
              1,
              "#f0f921"
             ]
            ],
            "type": "histogram2d"
           }
          ],
          "histogram2dcontour": [
           {
            "colorbar": {
             "outlinewidth": 0,
             "ticks": ""
            },
            "colorscale": [
             [
              0,
              "#0d0887"
             ],
             [
              0.1111111111111111,
              "#46039f"
             ],
             [
              0.2222222222222222,
              "#7201a8"
             ],
             [
              0.3333333333333333,
              "#9c179e"
             ],
             [
              0.4444444444444444,
              "#bd3786"
             ],
             [
              0.5555555555555556,
              "#d8576b"
             ],
             [
              0.6666666666666666,
              "#ed7953"
             ],
             [
              0.7777777777777778,
              "#fb9f3a"
             ],
             [
              0.8888888888888888,
              "#fdca26"
             ],
             [
              1,
              "#f0f921"
             ]
            ],
            "type": "histogram2dcontour"
           }
          ],
          "mesh3d": [
           {
            "colorbar": {
             "outlinewidth": 0,
             "ticks": ""
            },
            "type": "mesh3d"
           }
          ],
          "parcoords": [
           {
            "line": {
             "colorbar": {
              "outlinewidth": 0,
              "ticks": ""
             }
            },
            "type": "parcoords"
           }
          ],
          "pie": [
           {
            "automargin": true,
            "type": "pie"
           }
          ],
          "scatter": [
           {
            "marker": {
             "colorbar": {
              "outlinewidth": 0,
              "ticks": ""
             }
            },
            "type": "scatter"
           }
          ],
          "scatter3d": [
           {
            "line": {
             "colorbar": {
              "outlinewidth": 0,
              "ticks": ""
             }
            },
            "marker": {
             "colorbar": {
              "outlinewidth": 0,
              "ticks": ""
             }
            },
            "type": "scatter3d"
           }
          ],
          "scattercarpet": [
           {
            "marker": {
             "colorbar": {
              "outlinewidth": 0,
              "ticks": ""
             }
            },
            "type": "scattercarpet"
           }
          ],
          "scattergeo": [
           {
            "marker": {
             "colorbar": {
              "outlinewidth": 0,
              "ticks": ""
             }
            },
            "type": "scattergeo"
           }
          ],
          "scattergl": [
           {
            "marker": {
             "colorbar": {
              "outlinewidth": 0,
              "ticks": ""
             }
            },
            "type": "scattergl"
           }
          ],
          "scattermapbox": [
           {
            "marker": {
             "colorbar": {
              "outlinewidth": 0,
              "ticks": ""
             }
            },
            "type": "scattermapbox"
           }
          ],
          "scatterpolar": [
           {
            "marker": {
             "colorbar": {
              "outlinewidth": 0,
              "ticks": ""
             }
            },
            "type": "scatterpolar"
           }
          ],
          "scatterpolargl": [
           {
            "marker": {
             "colorbar": {
              "outlinewidth": 0,
              "ticks": ""
             }
            },
            "type": "scatterpolargl"
           }
          ],
          "scatterternary": [
           {
            "marker": {
             "colorbar": {
              "outlinewidth": 0,
              "ticks": ""
             }
            },
            "type": "scatterternary"
           }
          ],
          "surface": [
           {
            "colorbar": {
             "outlinewidth": 0,
             "ticks": ""
            },
            "colorscale": [
             [
              0,
              "#0d0887"
             ],
             [
              0.1111111111111111,
              "#46039f"
             ],
             [
              0.2222222222222222,
              "#7201a8"
             ],
             [
              0.3333333333333333,
              "#9c179e"
             ],
             [
              0.4444444444444444,
              "#bd3786"
             ],
             [
              0.5555555555555556,
              "#d8576b"
             ],
             [
              0.6666666666666666,
              "#ed7953"
             ],
             [
              0.7777777777777778,
              "#fb9f3a"
             ],
             [
              0.8888888888888888,
              "#fdca26"
             ],
             [
              1,
              "#f0f921"
             ]
            ],
            "type": "surface"
           }
          ],
          "table": [
           {
            "cells": {
             "fill": {
              "color": "#EBF0F8"
             },
             "line": {
              "color": "white"
             }
            },
            "header": {
             "fill": {
              "color": "#C8D4E3"
             },
             "line": {
              "color": "white"
             }
            },
            "type": "table"
           }
          ]
         },
         "layout": {
          "annotationdefaults": {
           "arrowcolor": "#2a3f5f",
           "arrowhead": 0,
           "arrowwidth": 1
          },
          "autotypenumbers": "strict",
          "coloraxis": {
           "colorbar": {
            "outlinewidth": 0,
            "ticks": ""
           }
          },
          "colorscale": {
           "diverging": [
            [
             0,
             "#8e0152"
            ],
            [
             0.1,
             "#c51b7d"
            ],
            [
             0.2,
             "#de77ae"
            ],
            [
             0.3,
             "#f1b6da"
            ],
            [
             0.4,
             "#fde0ef"
            ],
            [
             0.5,
             "#f7f7f7"
            ],
            [
             0.6,
             "#e6f5d0"
            ],
            [
             0.7,
             "#b8e186"
            ],
            [
             0.8,
             "#7fbc41"
            ],
            [
             0.9,
             "#4d9221"
            ],
            [
             1,
             "#276419"
            ]
           ],
           "sequential": [
            [
             0,
             "#0d0887"
            ],
            [
             0.1111111111111111,
             "#46039f"
            ],
            [
             0.2222222222222222,
             "#7201a8"
            ],
            [
             0.3333333333333333,
             "#9c179e"
            ],
            [
             0.4444444444444444,
             "#bd3786"
            ],
            [
             0.5555555555555556,
             "#d8576b"
            ],
            [
             0.6666666666666666,
             "#ed7953"
            ],
            [
             0.7777777777777778,
             "#fb9f3a"
            ],
            [
             0.8888888888888888,
             "#fdca26"
            ],
            [
             1,
             "#f0f921"
            ]
           ],
           "sequentialminus": [
            [
             0,
             "#0d0887"
            ],
            [
             0.1111111111111111,
             "#46039f"
            ],
            [
             0.2222222222222222,
             "#7201a8"
            ],
            [
             0.3333333333333333,
             "#9c179e"
            ],
            [
             0.4444444444444444,
             "#bd3786"
            ],
            [
             0.5555555555555556,
             "#d8576b"
            ],
            [
             0.6666666666666666,
             "#ed7953"
            ],
            [
             0.7777777777777778,
             "#fb9f3a"
            ],
            [
             0.8888888888888888,
             "#fdca26"
            ],
            [
             1,
             "#f0f921"
            ]
           ]
          },
          "colorway": [
           "#636efa",
           "#EF553B",
           "#00cc96",
           "#ab63fa",
           "#FFA15A",
           "#19d3f3",
           "#FF6692",
           "#B6E880",
           "#FF97FF",
           "#FECB52"
          ],
          "font": {
           "color": "#2a3f5f"
          },
          "geo": {
           "bgcolor": "white",
           "lakecolor": "white",
           "landcolor": "#E5ECF6",
           "showlakes": true,
           "showland": true,
           "subunitcolor": "white"
          },
          "hoverlabel": {
           "align": "left"
          },
          "hovermode": "closest",
          "mapbox": {
           "style": "light"
          },
          "paper_bgcolor": "white",
          "plot_bgcolor": "#E5ECF6",
          "polar": {
           "angularaxis": {
            "gridcolor": "white",
            "linecolor": "white",
            "ticks": ""
           },
           "bgcolor": "#E5ECF6",
           "radialaxis": {
            "gridcolor": "white",
            "linecolor": "white",
            "ticks": ""
           }
          },
          "scene": {
           "xaxis": {
            "backgroundcolor": "#E5ECF6",
            "gridcolor": "white",
            "gridwidth": 2,
            "linecolor": "white",
            "showbackground": true,
            "ticks": "",
            "zerolinecolor": "white"
           },
           "yaxis": {
            "backgroundcolor": "#E5ECF6",
            "gridcolor": "white",
            "gridwidth": 2,
            "linecolor": "white",
            "showbackground": true,
            "ticks": "",
            "zerolinecolor": "white"
           },
           "zaxis": {
            "backgroundcolor": "#E5ECF6",
            "gridcolor": "white",
            "gridwidth": 2,
            "linecolor": "white",
            "showbackground": true,
            "ticks": "",
            "zerolinecolor": "white"
           }
          },
          "shapedefaults": {
           "line": {
            "color": "#2a3f5f"
           }
          },
          "ternary": {
           "aaxis": {
            "gridcolor": "white",
            "linecolor": "white",
            "ticks": ""
           },
           "baxis": {
            "gridcolor": "white",
            "linecolor": "white",
            "ticks": ""
           },
           "bgcolor": "#E5ECF6",
           "caxis": {
            "gridcolor": "white",
            "linecolor": "white",
            "ticks": ""
           }
          },
          "title": {
           "x": 0.05
          },
          "xaxis": {
           "automargin": true,
           "gridcolor": "white",
           "linecolor": "white",
           "ticks": "",
           "title": {
            "standoff": 15
           },
           "zerolinecolor": "white",
           "zerolinewidth": 2
          },
          "yaxis": {
           "automargin": true,
           "gridcolor": "white",
           "linecolor": "white",
           "ticks": "",
           "title": {
            "standoff": 15
           },
           "zerolinecolor": "white",
           "zerolinewidth": 2
          }
         }
        },
        "title": {
         "text": "Betweenness centrality score of each character"
        }
       }
      }
     },
     "metadata": {},
     "output_type": "display_data"
    }
   ],
   "source": [
    "sort_cent = sorted(nx.betweenness_centrality(G).items(), key=lambda kv: kv[1], reverse = True)\n",
    "fig = go.Figure(data=[go.Table(header=dict(values=['<b>Character</b>', '<b>Centrality score (betweenness)</b>']),\n",
    "                 cells=dict(values=[\n",
    "                     [name[0].replace('_', ' ') for name in sort_cent],\n",
    "                      [np.round(name[1],3) for name in sort_cent]\n",
    "                      ]))\n",
    "                     ])\n",
    "fig.update_layout(\n",
    "        height=310,\n",
    "        showlegend=False,\n",
    "        title_text = \"Betweenness centrality score of each character\"\n",
    "    )\n",
    "fig.show()"
   ]
  },
  {
   "cell_type": "markdown",
   "metadata": {
    "cell_id": "00058-694b8bed-1a33-4328-8b3a-2504f6cdae35",
    "deepnote_cell_type": "markdown",
    "tags": []
   },
   "source": [
    "Again, the characters in top 5 are almost the same, and the highest betweenness centrality is 0.11 assigned to Jon Snow. We are again going to investigate the correlation between the betweenness centrality and degree (in and out)."
   ]
  },
  {
   "cell_type": "code",
   "execution_count": 22,
   "metadata": {
    "cell_id": "00056-99ac0e41-70c5-4f5f-bdf7-3a9669b16b34",
    "deepnote_cell_type": "code",
    "deepnote_output_heights": [
     506
    ],
    "deepnote_to_be_reexecuted": false,
    "execution_millis": 3468,
    "execution_start": 1638453032774,
    "source_hash": "7ee0358a",
    "tags": []
   },
   "outputs": [
    {
     "data": {
      "image/png": "[encoded data removed]",
      "text/plain": [
       "<Figure size 864x576 with 1 Axes>"
      ]
     },
     "metadata": {
      "needs_background": "light"
     },
     "output_type": "display_data"
    },
    {
     "name": "stdout",
     "output_type": "stream",
     "text": [
      "Correlation with in degree: 0.379\n",
      "Correlation with out degree: 0.391\n"
     ]
    }
   ],
   "source": [
    "plt.figure(figsize = (12,8))\n",
    "plt.scatter([e for n, e in top5_in_degrees],nx.betweenness_centrality(G).values(), color= 'red', label = 'In degree')\n",
    "plt.scatter([e for n, e in top5_out_degrees],nx.betweenness_centrality(G).values(), color= 'blue', label = 'Out degree')\n",
    "plt.title('Betweenness centrality vs. degree', fontsize = 20)\n",
    "plt.xlabel('Degree', fontsize = 12)\n",
    "plt.ylabel('Betweenness centrality', fontsize = 12)\n",
    "plt.legend()\n",
    "plt.show()\n",
    "c_in = np.corrcoef([d for name, d in top5_in_degrees],[v for v in nx.betweenness_centrality(G).values()])\n",
    "c_out = np.corrcoef([d for name, d in top5_out_degrees],[v for v in nx.betweenness_centrality(G).values()])\n",
    "print(f'Correlation with in degree: {round(c_in[1,0],3)}')\n",
    "print(f'Correlation with out degree: {round(c_out[1,0],3)}')"
   ]
  },
  {
   "cell_type": "markdown",
   "metadata": {
    "cell_id": "00060-d8b3194a-f386-4c57-9673-9d0fabf632f6",
    "deepnote_cell_type": "markdown",
    "tags": []
   },
   "source": [
    "We can see that the centrality score in general are lower, and a few points are pulling the tendency up whereas most are quite low. The corerlation coefficients are again quite low only between 0.38-0.39."
   ]
  },
  {
   "cell_type": "markdown",
   "metadata": {
    "cell_id": "00057-6372d8d8-a507-4f70-b286-8e539ac8785d",
    "deepnote_cell_type": "markdown",
    "tags": []
   },
   "source": [
    "<h2 align = \"center\"> 3.4 VoteRank </h2>\n",
    "\n",
    "As a last property of the network we are going to investigate the VoteRank of the network. We are going to use the VoteRank algorithm to find a number of important nodes. The VoteRank algorithm computes a ranking for all nodes in the network in an iterative manner, where each node vote for it in-neighbors and the node with the laregst amount of votes are selected. The selected nodes effect on the voting are decreased iteratively, so they dont keep influencing the algorithm.\n",
    "\n",
    "We are going to find the top 5 characters based on the VoteRank algorithm using the `voterank` function. "
   ]
  },
  {
   "cell_type": "code",
   "execution_count": 23,
   "metadata": {
    "cell_id": "00058-9198f730-d86a-4b6f-bc3b-75d39ee16c1c",
    "deepnote_cell_type": "code",
    "deepnote_output_heights": [
     98
    ],
    "deepnote_to_be_reexecuted": false,
    "execution_millis": 31,
    "execution_start": 1638454107099,
    "source_hash": "f4f77ba3",
    "tags": []
   },
   "outputs": [
    {
     "name": "stdout",
     "output_type": "stream",
     "text": [
      "Top 5 most important characters based on the VoteRank algorithm: \n",
      "  ['Jon Snow', 'Sansa Stark', 'Tyrion Lannister', 'Arya Stark', 'Jaime Lannister']\n"
     ]
    }
   ],
   "source": [
    "ranked = [name.replace('_',' ') for name in nx.voterank(G,5)]\n",
    "\n",
    "print(f'Top 5 most important characters based on the VoteRank algorithm: \\n  {ranked}')"
   ]
  },
  {
   "cell_type": "markdown",
   "metadata": {
    "cell_id": "00063-008c38cb-7656-4282-aded-cb6987cd8172",
    "deepnote_cell_type": "markdown",
    "tags": []
   },
   "source": [
    "Again, Jon Snow appear to be the most important character. The other characters are also main characters from the series, so it would make sense they are part of being the most important. "
   ]
  },
  {
   "cell_type": "markdown",
   "metadata": {
    "cell_id": "00032-f877db29-0def-400a-9454-885658559c55",
    "deepnote_cell_type": "markdown",
    "tags": []
   },
   "source": [
    "<h1 align = \"center\"> 4. Important characters for each season</h1>\n",
    "\n",
    "---\n",
    "\n",
    "This section is devoted to explain how we did create our interactive visualization of the character degree and centrality measures. The app can be found by following this [link](https://gameofthronestables.herokuapp.com/). As Heroku only makes it possible to host one app pr. Github repository the code are uploaded to a separate Github repository, which can be found [here](https://github.com/MikkelMathiasen23/GameOfThrones_table). \n",
    "\n",
    "The code can be found in this python [file](https://github.com/MikkelMathiasen23/GameOfThrones_table/blob/main/table_graf.py). The app contain three main parts: the season tabs which is created using `dash_core_components.Tabs`, the table which is create using `dash_table.DataTable`, where it has been selected to include functionalities such as deleting columns and rows, sorting and filtering the data. The last component is the barplots below the table which also responds to sorting, filtering and deletions. \n",
    "\n",
    "The idea with the table is to make it possible for the end user to go through the seasons and investigate what characters are most connected and have the highest centrality score. Instead of listing 8 tables we thought this were a more engaging and nice way to do it. \n",
    "\n",
    "In order to generate the needed data, we did iterate through all seasons and loaded the `gpickle` file for the given season, computed closeness centrality, in- and out-degree for each character and saved it in a dataframe. \n",
    "\n",
    "All the dataframes were saved in a dictionary which were saved in a `pickle` that could be loaded by the app. The code for generating the`pickle` file can be seen below."
   ]
  },
  {
   "cell_type": "code",
   "execution_count": 24,
   "metadata": {
    "cell_id": "00048-17bc36b3-47d4-4df6-99e7-d9a0e17b01a2",
    "deepnote_cell_type": "code",
    "tags": []
   },
   "outputs": [],
   "source": [
    "tables = {}\n",
    "\n",
    "#Iterate through each season:\n",
    "for i in range(1,9):\n",
    "    #Load network\n",
    "    G = nx.read_gpickle(\"../data/got_G_s\"+str(i)+\".gpickle\")\n",
    "\n",
    "    #Compute out centrality:\n",
    "    centrality = nx.closeness_centrality(G)    \n",
    "\n",
    "    #Store in, out, centrality and character name in list of lists\n",
    "    att = [[n.replace('_',' '),G.in_degree(n), G.out_degree(n), np.round(centrality[n],3)] for n, d in G.nodes(data = True)]\n",
    "\n",
    "    #Save to dataframe and rename columns\n",
    "    df = pd.DataFrame(att)\n",
    "    df.columns = ['Character name', 'In degree', 'Out degree', 'Closeness centrality']\n",
    "    #Save in dictionary:\n",
    "    tables[i] = df\n",
    "import pickle\n",
    "\n",
    "#Save pickle file\n",
    "with open('../data/tables.pickle', 'wb') as handle:\n",
    "    pickle.dump(tables, handle, protocol=pickle.HIGHEST_PROTOCOL)"
   ]
  },
  {
   "cell_type": "markdown",
   "metadata": {
    "cell_id": "00049-eaed9d83-7f12-4159-9593-2342d3a820e1",
    "deepnote_cell_type": "markdown",
    "tags": []
   },
   "source": [
    "The running app can be seen below:"
   ]
  },
  {
   "cell_type": "markdown",
   "metadata": {
    "cell_id": "00048-b211a5d0-d5ce-4f5c-aef8-e7e722f41e2b",
    "deepnote_cell_type": "markdown",
    "tags": []
   },
   "source": [
    "<iframe src=\"https://gameofthronestables.herokuapp.com/\" width = \"1000\" height = \"1000\"> </iframe>"
   ]
  },
  {
   "cell_type": "markdown",
   "metadata": {
    "cell_id": "00051-fcc86d6d-d2bf-4145-938c-c62e111a7503",
    "deepnote_cell_type": "markdown",
    "tags": []
   },
   "source": [
    "From the table it can be seen that the most connected and maybe important characters in season 1 might be *Eddard Stark* and *Robert Baratheon*, which makes perfect sense as Eddard is present a lot in season 1, both in Winterfell but also when he becomes the Kings hand. Robert is also very central in season 1, as he rules as King and dies when hunting - *killed by a pig*, as he says it. \n",
    "\n",
    "Season 2, here *Joffrey Baratheon*, the new king, rules, and *Robb Stark* goes to war as he wants revenge for his fathers execution in season 1. \n",
    "\n",
    "Later, in season 7 *Jon Snow*  and *Daenerys Targaryen* becomes key players as the winter is approaching and the focus moves from Kings Landing to the wall and the fight against the dead. "
   ]
  },
  {
   "cell_type": "markdown",
   "metadata": {
    "cell_id": "00060-f416f756-dcff-44e6-9333-9037f53620e9",
    "deepnote_cell_type": "markdown",
    "tags": []
   },
   "source": [
    "<h1 align = \"center\"> 5. Subconclusion </h1>\n",
    "\n",
    "---\n",
    "The resulting graph across all seasons were a very dense graph, and through different network analysis tools and by splitting into seasons it was possible to determine the most important characters in each season. Further, we found that the character attributes selected (religion, culture, allegiance, appearance and status) did not pose to be good measures to distinguish the characters. The characters were possibly connected base on another attribute or underlying pattern. \n",
    "\n",
    "In the next sections we are going to investigate community analysis and hopefully this can help us reveal some of these patterns. "
   ]
  }
 ],
 "metadata": {
  "deepnote": {
   "is_reactive": false
  },
  "deepnote_execution_queue": [],
  "deepnote_notebook_id": "582f6e6d-7069-4d5d-a7ee-5943e0b5c6d3",
  "interpreter": {
   "hash": "c6480e6e0a7465e87e9efdc0a99efb8f43fa04a9c73e4e8a4c0e8def9a8e558b"
  },
  "kernelspec": {
   "display_name": "Python 3.8.5 64-bit ('base': conda)",
   "language": "python",
   "name": "python3"
  },
  "language_info": {
   "codemirror_mode": {
    "name": "ipython",
    "version": 3
   },
   "file_extension": ".py",
   "mimetype": "text/x-python",
   "name": "python",
   "nbconvert_exporter": "python",
   "pygments_lexer": "ipython3",
   "version": "3.8.5"
  },
  "orig_nbformat": 2
 },
 "nbformat": 4,
 "nbformat_minor": 2
}
