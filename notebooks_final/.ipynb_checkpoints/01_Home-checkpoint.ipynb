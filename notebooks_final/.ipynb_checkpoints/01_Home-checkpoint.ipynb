{
 "cells": [
  {
   "cell_type": "markdown",
   "metadata": {
    "cell_id": "00001-e5bdddb8-935f-455e-b395-8749c2f94472",
    "deepnote_cell_type": "markdown",
    "tags": []
   },
   "source": [
    "# Introduction\n",
    "> \"An introduction to the Game of Thrones universe, the goal of the project and how we will reach this goal.\"\n",
    "\n",
    "- toc: false\n",
    "- branch: master\n",
    "- badges: true\n",
    "- comments: true\n",
    "- categories: [fastpages, jupyter]\n",
    "- hide: false\n",
    "- search_exclude: true\n",
    "- metadata_key1: metadata_value1\n",
    "- metadata_key2: metadata_value2"
   ]
  },
  {
   "cell_type": "markdown",
   "metadata": {
    "cell_id": "00001-baaf67b8-f3ba-4a2c-84eb-0078c634e5a8",
    "deepnote_cell_type": "markdown",
    "tags": []
   },
   "source": [
    "<img src=\"https://external-content.duckduckgo.com/iu/?u=https%3A%2F%2Fwww.highreshdwallpapers.com%2Fwp-content%2Fuploads%2F2014%2F04%2FGame-of-Thrones-Season-1-HD-Background-1920x1080.jpg&f=1&nofb=1\">"
   ]
  },
  {
   "cell_type": "markdown",
   "metadata": {
    "cell_id": "00001-6173f3d5-86aa-4ba4-92b8-49776db02a04",
    "deepnote_cell_type": "markdown",
    "tags": []
   },
   "source": [
    "<h1 align=\"center\">Table of contents of the website</h1>\n",
    "\n",
    "The website contains 6 sections. The first section *The Data* describes the data, where it is found, and briefly what it is used for. The next section performs an initial exploratory analysis of the data. The third section performs an analysis of the Game Of Thrones networks describing how the network is created and how the charaters interact. The next part performs text analysis of the character dialogoues but also the text from the character wiki-pages. The fifth section detects communities in the network, and perform analysis on these. \n",
    "\n",
    "Lastly, the analysis performed throughout the website can be found in the explainer notebook if one want's to dig into all the details. If one want's to replicate the analysis the data can be downloaded in the data section. \n",
    "\n",
    "- [The Data](https://mikkelmathiasen23.github.io/GameOfThrones_Network/data/)\n",
    "- [Basic Statistics of the Data](https://mikkelmathiasen23.github.io/GameOfThrones_Network/02_Basic_Statistics/)\n",
    "- [The Game of Thrones Network](https://mikkelmathiasen23.github.io/GameOfThrones_Network/GameOfThronesNetwork/)\n",
    "- [Text Analysis](https://mikkelmathiasen23.github.io/GameOfThrones_Network/textanalysis/)\n",
    "- [Community Detection](https://mikkelmathiasen23.github.io/GameOfThrones_Network/CommunityAnalysis/)\n",
    "- [Explainer Notebook](https://mikkelmathiasen23.github.io/GameOfThrones_Network/Explainer_Notebook/)"
   ]
  },
  {
   "cell_type": "markdown",
   "metadata": {
    "cell_id": "00002-5a32ce1a-c202-4bfa-a0bc-cd10b517e956",
    "deepnote_cell_type": "markdown",
    "tags": []
   },
   "source": [
    "<h1 align=\"center\">Aim of project</h1>\n",
    "\n",
    "The Game of Thrones series recieved world-wide rekognition and [is the most watched series to date](https://www.imdb.com/list/ls095964455/). It takes place in a mediaval fantasy universe and introduces many characters with complicated relations. The goals of this project is to try and answer, who was actually the main character throughout the seasons and if it is possible to find a pattern in all these character relations. We will also investigate the overall themes of the series and if these changes over the course of the show.\n",
    "\n",
    "**To sum it up, this project will try to answer the following:**\n",
    "- Who is the main characters of each season of the series?\n",
    "- Is it possible to find a pattern in the data that helps understand the complicated world of Westeros?\n",
    "- Is the theme of the Game of Thrones series consistent throughout the show or does it change during it's course?\n",
    "\n"
   ]
  },
  {
   "cell_type": "markdown",
   "metadata": {
    "cell_id": "00004-997d7a10-a57d-486b-859d-956f2a5d7eca",
    "deepnote_cell_type": "markdown",
    "tags": []
   },
   "source": [
    "The following video is a short presentation of the aim of the project: \n",
    "\n",
    "<a href=\"https://drive.google.com/file/d/1XAXjN9zGMwV0NXuqa893qOGJ4cTLrclo/view\" title=\"Link to video\"><img alt=\"Video link\" src=\"https://i.postimg.cc/vTTnYWSz/thumbnail-video.png\"></a>"
   ]
  },
  {
   "cell_type": "markdown",
   "metadata": {
    "cell_id": "00004-554baf7e-5e95-4dd6-a79a-cb25d225c107",
    "deepnote_cell_type": "markdown",
    "tags": []
   },
   "source": [
    "<h1 align=\"center\">The Game of Thrones Universe</h1>\n",
    "\n",
    "The Game of Thrones is based on the book series *\"A Song of Ice and Fire\"* written by George R. R. Martin and takes place in the mediaval fantasy world of Westeros and Essos. During the show, the viewer follow multiple story arcs: A succesion war amongst the houses of Westeros as the king, Robert Baratheon, dies and doubt of the legitimacy of his childrens claim to the throne arises. Another arc takes place in the northern most part of Westeros, where the Night Watch have guarded the Wall keeping the Seven Kingdoms safe for centuries. And a third arc, where the viewers follow an exiled princess who wishes to reconquer The Seven Kingdoms and reclaim her birth right, the Iron Throne.  \n",
    "\n",
    "\n",
    "<p align =\"center\">\n",
    "<img src= https://media.gq-magazine.co.uk/photos/5d13ab5271e2a05e5eae6e04/master/w_1280,c_limit/map-westeros-gq-10apr19_elliot_bryne_b.jpg width=\"400\"/>\n",
    "</p>\n"
   ]
  },
  {
   "cell_type": "markdown",
   "metadata": {
    "cell_id": "00003-f8d879c4-8839-4cf3-bea1-3470f741739f",
    "deepnote_cell_type": "markdown",
    "tags": []
   },
   "source": [
    "<h1 align=center> The Website </h1>\n",
    "\n",
    "This website is built using the blogging template *fastpages* built by [*fastai*](https://github.com/fastai/fastpages). It uses GitHub actions to create Jekyll blog posts on GitHub Pages by converting jupyter notebooks to html"
   ]
  }
 ],
 "metadata": {
  "deepnote": {
   "is_reactive": false
  },
  "deepnote_execution_queue": [],
  "deepnote_notebook_id": "316851ca-e85e-4755-8c9e-55e87bff25a2",
  "kernelspec": {
   "display_name": "Python 3 (ipykernel)",
   "language": "python",
   "name": "python3"
  },
  "language_info": {
   "codemirror_mode": {
    "name": "ipython",
    "version": 3
   },
   "file_extension": ".py",
   "mimetype": "text/x-python",
   "name": "python",
   "nbconvert_exporter": "python",
   "pygments_lexer": "ipython3",
   "version": "3.8.8"
  }
 },
 "nbformat": 4,
 "nbformat_minor": 2
}
