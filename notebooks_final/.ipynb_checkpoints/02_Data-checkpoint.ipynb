{
 "cells": [
  {
   "cell_type": "markdown",
   "metadata": {
    "cell_id": "00001-21b9abf3-ffb1-4375-8d3c-3774fec0bb62",
    "deepnote_cell_type": "markdown",
    "tags": []
   },
   "source": [
    "# Data\n",
    "> \"This section describes the data used in this project and how it is acquired.\"\n",
    "\n",
    "- toc: false\n",
    "- branch: master\n",
    "- badges: true\n",
    "- comments: true\n",
    "- categories: [data]\n",
    "- image: images/some_folder/your_image.png\n",
    "- hide: true\n",
    "- search_exclude: false\n",
    "- metadata_key1: metadata_value1\n",
    "- metadata_key2: metadata_value2"
   ]
  },
  {
   "cell_type": "markdown",
   "metadata": {
    "cell_id": "00001-b96c8315-75df-42df-a374-e8b301323129",
    "deepnote_cell_type": "markdown",
    "tags": []
   },
   "source": [
    "This project is built on three sources of data. A detailed description of each dataset will be described in the following three sections. \n",
    "\n",
    "<h1 align=\"center\">Game Of Thrones Wikipage</h1>\n",
    "\n",
    "The first data source is the [Game Of Thrones Wikipage](https://gameofthrones.fandom.com/wiki/Game_of_Thrones_Wiki), where it was possible to extract the data using their API. The Wiki-page contains a section describing each season of the series, where this text contains information of characters being involved in each season.  Through the use of regular expressions it was possible to extract characters present in each season. Having extracted the characters present in the series we could again utilize the API to extract and gather information about each character and save these text files.\n",
    "\n",
    "An example can be seen here: [link to character page](https://gameofthrones.fandom.com/wiki/Bronn). Information included in a character page are an image of the character, some basic information including: seasons where the character are present, religion, allegiance, culture, family information, status ie. whether the character are dead or alive. It should be noted that the available information can vary between the characters. \n",
    "\n",
    "Further information are bibliography, family tree etc. but again it should be noted that the available information can vary heavily. The character pages can be used to find interactions between the characters, but also gather basic information about each character. \n",
    "\n",
    "The wikipage was used to gather information about each character ie. basic stats such as religion, status, appearances, allegiance but also interactions between the characters. This will be further explained and investigated in the coming pages. Furthermore, the character pages were used to investigate words used by the character and also the sentiment of these wiki-pages.\n",
    "\n",
    "Another approach could be to investigate all the possible wikipages, but this would involve scraping 4723 pages (at the moment), where a lot of these pages are describing scenes, places and eg. religions, which is not important information about the characters. \n",
    "\n",
    "The extracted data from the wikipages can be found [here](https://github.com/MikkelMathiasen23/GameOfThrones_Network/tree/master/data) the text for each character across all season can be downloaded using this [link](https://github.com/MikkelMathiasen23/GameOfThrones_Network/raw/master/data/got.zip) which is raw text and the initial cleaned text [here](https://github.com/MikkelMathiasen23/GameOfThrones_Network/raw/master/data/got_cleaned.zip). \n",
    "Extracted data on seasonal level can be found [here](https://github.com/MikkelMathiasen23/GameOfThrones_Network/raw/master/data/got2.zip).\n",
    "\n",
    "The code used to extract information from the wikipages can be found in the [Explainer Notebook](https://mikkelmathiasen23.github.io/GameOfThrones_Network/Explainer_Notebook/).\n"
   ]
  },
  {
   "cell_type": "markdown",
   "metadata": {
    "cell_id": "00001-8811ead3-8e67-4fe3-a7f0-8849c70c7ee4",
    "deepnote_cell_type": "markdown",
    "tags": []
   },
   "source": [
    "<h1 align=\"center\">Character dialogoues</h1>\n",
    "\n",
    "\n",
    "The second data source are character dialogoues which can be found [here](https://raw.githubusercontent.com/jeffreylancaster/game-of-thrones/master/data/script-bag-of-words.json). The character dialogoues are based on transcripts of the series' episodes, and as all transcripts are not freely available some of them are created by fans. The data are divided into dialogoues for each episode and which character the dialogue belong to.\n",
    "\n",
    "The data are already cleaned and ready to use. The data are used for text- and sentiment analysis later in this project. \n",
    "\n",
    "<p align =\"center\">\n",
    "<img src= https://pbs.twimg.com/media/Eu2YthOU4AA5pWI.jpg width=\"500\"/>\n",
    "</p>\n"
   ]
  },
  {
   "cell_type": "markdown",
   "metadata": {
    "cell_id": "00002-2de23c5b-7491-4ef5-a114-e0ce13da4a3d",
    "deepnote_cell_type": "markdown",
    "tags": []
   },
   "source": [
    "<h1 align=\"center\">IMDB data</h1>\n",
    "\n",
    "The last data source are reviews and ratings from the IMDB database. The data are extracted using a python package [IMDbPY](https://imdbpy.github.io/), which contains the average ratings of each episode based on the IMDB database. The ratings does also contain demographic information such as the age and gender of the ratings. \n",
    "\n",
    "It is also possible to extract reviews of each episode but only a limited amount of reviews can be extracted for each episode namely 25 as maximum. Another approach could be to scrape the IMDB website, but according to the IMDB [webpage](https://www.imdb.com/conditions) this is not permitted. Therefore the limited amount of reviews pr. episode are used. The reviews also contain a time-stamp, user-id and rating, but these ratings does not appear to be correct as these are either 0 or 1, which does not correspond to the either the average ratings of the episodes or the text corresponding to the ratings. \n",
    "\n",
    "The idea is to investigate whether the reivewers text correspond with the average rating of the episodes and also whether the ratings/reviews changes throughout the season/episodes. This is also wished to compare with the sentiments of the character, but more on this later in the project.\n",
    "\n",
    "The gathered data can be found here [link](https://github.com/MikkelMathiasen23/GameOfThrones_Network/raw/master/data/imdb_reviews.json).\n",
    "\n",
    "<p align =\"center\">\n",
    "<img src= https://heavy.com/wp-content/uploads/2019/04/imdb-ratings.png width=\"500\"/>\n",
    "</p>\n",
    "\n",
    "\n",
    "All data used for creating network and perform text analysis can be found in this [folder](https://github.com/MikkelMathiasen23/GameOfThrones_Network/tree/master/data).\n"
   ]
  }
 ],
 "metadata": {
  "deepnote": {
   "is_reactive": false
  },
  "deepnote_execution_queue": [],
  "deepnote_notebook_id": "5ccb8af2-3b6e-4bf5-97f1-f5997c3555c8",
  "kernelspec": {
   "display_name": "Python 3 (ipykernel)",
   "language": "python",
   "name": "python3"
  },
  "language_info": {
   "codemirror_mode": {
    "name": "ipython",
    "version": 3
   },
   "file_extension": ".py",
   "mimetype": "text/x-python",
   "name": "python",
   "nbconvert_exporter": "python",
   "pygments_lexer": "ipython3",
   "version": "3.8.8"
  }
 },
 "nbformat": 4,
 "nbformat_minor": 2
}
